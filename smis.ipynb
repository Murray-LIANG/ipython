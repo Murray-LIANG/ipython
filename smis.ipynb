{
 "cells": [
  {
   "cell_type": "code",
   "execution_count": 3,
   "metadata": {
    "collapsed": true
   },
   "outputs": [],
   "source": [
    "import pywbemReq\n",
    "\n",
    "c = pywbemReq.WBEMConnection('https://10.109.21.136:5989', ('Local/admin', 'Password123!'), 'root/emc/smis')"
   ]
  },
  {
   "cell_type": "code",
   "execution_count": 5,
   "metadata": {},
   "outputs": [
    {
     "ename": "IndexError",
     "evalue": "list index out of range",
     "output_type": "error",
     "traceback": [
      "\u001b[0;31m---------------------------------------------------------------------------\u001b[0m",
      "\u001b[0;31mIndexError\u001b[0m                                Traceback (most recent call last)",
      "\u001b[0;32m<ipython-input-5-81f12cc53e60>\u001b[0m in \u001b[0;36m<module>\u001b[0;34m()\u001b[0m\n\u001b[0;32m----> 1\u001b[0;31m \u001b[0mshare_service\u001b[0m \u001b[0;34m=\u001b[0m \u001b[0mc\u001b[0m\u001b[0;34m.\u001b[0m\u001b[0mEnumerateInstances\u001b[0m\u001b[0;34m(\u001b[0m\u001b[0;34m'CIM_ComputerSystem'\u001b[0m\u001b[0;34m)\u001b[0m\u001b[0;34m[\u001b[0m\u001b[0;36m1\u001b[0m\u001b[0;34m]\u001b[0m\u001b[0;34m\u001b[0m\u001b[0m\n\u001b[0m\u001b[1;32m      2\u001b[0m \u001b[0;32mprint\u001b[0m\u001b[0;34m(\u001b[0m\u001b[0mshare_service\u001b[0m\u001b[0;34m.\u001b[0m\u001b[0mtomof\u001b[0m\u001b[0;34m(\u001b[0m\u001b[0;34m)\u001b[0m\u001b[0;34m)\u001b[0m\u001b[0;34m\u001b[0m\u001b[0m\n",
      "\u001b[0;31mIndexError\u001b[0m: list index out of range"
     ]
    }
   ],
   "source": [
    "share_service = c.EnumerateInstances('CIM_ComputerSystem')[1]\n",
    "print(share_service.tomof())"
   ]
  },
  {
   "cell_type": "code",
   "execution_count": 8,
   "metadata": {},
   "outputs": [
    {
     "name": "stderr",
     "output_type": "stream",
     "text": [
      "/usr/local/lib/python2.7/dist-packages/requests/packages/urllib3/connectionpool.py:838: InsecureRequestWarning: Unverified HTTPS request is being made. Adding certificate verification is strongly advised. See: https://urllib3.readthedocs.io/en/latest/security.html\n",
      "  InsecureRequestWarning)\n"
     ]
    },
    {
     "name": "stdout",
     "output_type": "stream",
     "text": [
      "instance of EMC_VNXe_NFSShareLeaf {\n",
      "\tRequestedState = 12;\n",
      "\tElementName = \"nfs_ryan\";\n",
      "\tName = \"nfs_ryan\";\n",
      "\tTransitioningToState = 12;\n",
      "\tInstanceID = \"NFSShare_4\";\n",
      "\tEnabledState = 5;\n",
      "\tSharingDirectory = True;\n",
      "\tEnabledDefault = 2;\n",
      "\tOperationalStatus = {2};\n",
      "\tPathNameSeparatorString = \"/\";\n",
      "};\n",
      "\n"
     ]
    },
    {
     "name": "stderr",
     "output_type": "stream",
     "text": [
      "/usr/local/lib/python2.7/dist-packages/requests/packages/urllib3/connectionpool.py:838: InsecureRequestWarning: Unverified HTTPS request is being made. Adding certificate verification is strongly advised. See: https://urllib3.readthedocs.io/en/latest/security.html\n",
      "  InsecureRequestWarning)\n"
     ]
    },
    {
     "data": {
      "text/plain": [
       "(0L, NocaseDict({}))"
      ]
     },
     "execution_count": 8,
     "metadata": {},
     "output_type": "execute_result"
    }
   ],
   "source": [
    "nfs_share = c.EnumerateInstances('EMC_VNXe_NFSShareLeaf')[0]\n",
    "print(nfs_share.tomof())\n",
    "\n",
    "c.InvokeMethod('ReleaseExportedShare', share_service.path, TheShare=nfs_share.path)"
   ]
  },
  {
   "cell_type": "code",
   "execution_count": 34,
   "metadata": {},
   "outputs": [
    {
     "name": "stderr",
     "output_type": "stream",
     "text": [
      "/usr/local/lib/python2.7/dist-packages/requests/packages/urllib3/connectionpool.py:838: InsecureRequestWarning: Unverified HTTPS request is being made. Adding certificate verification is strongly advised. See: https://urllib3.readthedocs.io/en/latest/security.html\n",
      "  InsecureRequestWarning)\n"
     ]
    },
    {
     "name": "stdout",
     "output_type": "stream",
     "text": [
      "instance of EMC_VNXe_CIFSShareLeaf {\n",
      "\tRequestedState = 12;\n",
      "\tElementName = \"cifs_ryan\";\n",
      "\tDescription = \"\";\n",
      "\tTransitioningToState = 12;\n",
      "\tInstanceID = \"SMBShare_5\";\n",
      "\tEnabledState = 5;\n",
      "\tSharingDirectory = True;\n",
      "\tEnabledDefault = 2;\n",
      "\tOperationalStatus = {2};\n",
      "\tPathNameSeparatorString = \"\\\\\";\n",
      "\tName = \"cifs_ryan\";\n",
      "};\n",
      "\n"
     ]
    }
   ],
   "source": [
    "cifs_share = c.EnumerateInstances('EMC_VNXe_CIFSShareLeaf')[0]\n",
    "print(cifs_share.tomof())\n",
    "\n",
    "#c.InvokeMethod('ReleaseExportedShare', share_service.path, TheShare=cifs_share.path)"
   ]
  },
  {
   "cell_type": "code",
   "execution_count": 16,
   "metadata": {},
   "outputs": [
    {
     "name": "stderr",
     "output_type": "stream",
     "text": [
      "/usr/local/lib/python2.7/dist-packages/requests/packages/urllib3/connectionpool.py:838: InsecureRequestWarning: Unverified HTTPS request is being made. Adding certificate verification is strongly advised. See: https://urllib3.readthedocs.io/en/latest/security.html\n",
      "  InsecureRequestWarning)\n"
     ]
    }
   ],
   "source": [
    "for each in c.EnumerateInstances('EMC_VNXe_CIFSShareLeaf'):\n",
    "    print(each.tomof())"
   ]
  },
  {
   "cell_type": "code",
   "execution_count": 35,
   "metadata": {},
   "outputs": [
    {
     "name": "stdout",
     "output_type": "stream",
     "text": [
      "instance of EMC_VNXe_CIFSShareLeaf {\n",
      "\tRequestedState = 12;\n",
      "\tElementName = \"cifs_ryan\";\n",
      "\tDescription = \"\";\n",
      "\tTransitioningToState = 12;\n",
      "\tInstanceID = \"SMBShare_5\";\n",
      "\tEnabledState = 5;\n",
      "\tSharingDirectory = True;\n",
      "\tEnabledDefault = 2;\n",
      "\tOperationalStatus = {2};\n",
      "\tPathNameSeparatorString = \"\\\\\";\n",
      "\tName = \"cifs_ryan\";\n",
      "};\n",
      "\n",
      "('>>>>> Before: ', CIMInstanceName(classname='EMC_VNXe_CIFSShareLeaf', keybindings=NocaseDict({'InstanceID': 'SMBShare_5'}), namespace='root/emc/smis'))\n",
      "('>>>>> After: ', CIMInstanceName(classname='EMC_VNXe_CIFSShareLeaf', keybindings=NocaseDict({'InstanceID': 'SMBShare_5'}), namespace='root/emc/smis'))\n"
     ]
    },
    {
     "name": "stderr",
     "output_type": "stream",
     "text": [
      "/usr/local/lib/python2.7/dist-packages/requests/packages/urllib3/connectionpool.py:838: InsecureRequestWarning: Unverified HTTPS request is being made. Adding certificate verification is strongly advised. See: https://urllib3.readthedocs.io/en/latest/security.html\n",
      "  InsecureRequestWarning)\n"
     ]
    },
    {
     "name": "stdout",
     "output_type": "stream",
     "text": [
      "instance of EMC_VNXe_CIFSShareLeaf {\n",
      "\tRequestedState = 12;\n",
      "\tElementName = \"cifs_ryan\";\n",
      "\tDescription = \"\";\n",
      "\tTransitioningToState = 12;\n",
      "\tInstanceID = \"SMBShare_5\";\n",
      "\tEnabledState = 5;\n",
      "\tSharingDirectory = True;\n",
      "\tEnabledDefault = 2;\n",
      "\tOperationalStatus = {2};\n",
      "\tPathNameSeparatorString = \"\\\\\";\n",
      "\tName = \"cifs_ryan\";\n",
      "};\n",
      "\n"
     ]
    }
   ],
   "source": [
    "print(cifs_share.tomof())\n",
    "print('>>>>> Before: ', cifs_share.path)\n",
    "#cifs_share['InstanceID'] = 'SMBShare_19'\n",
    "print('>>>>> After: ', cifs_share.path)\n",
    "tmp_share = c.GetInstance(cifs_share.path)\n",
    "print(tmp_share.tomof())\n",
    "#c.InvokeMethod('ReleaseExportedShare', share_service.path, TheShare=cifs_share.path)"
   ]
  },
  {
   "cell_type": "code",
   "execution_count": 31,
   "metadata": {},
   "outputs": [
    {
     "name": "stderr",
     "output_type": "stream",
     "text": [
      "/usr/local/lib/python2.7/dist-packages/requests/packages/urllib3/connectionpool.py:838: InsecureRequestWarning: Unverified HTTPS request is being made. Adding certificate verification is strongly advised. See: https://urllib3.readthedocs.io/en/latest/security.html\n",
      "  InsecureRequestWarning)\n"
     ]
    },
    {
     "name": "stdout",
     "output_type": "stream",
     "text": [
      "instance of EMC_VNXe_FileExportServiceLeaf {\n",
      "\tCreationClassName = \"EMC_VNXe_FileExportServiceLeaf\";\n",
      "\tElementName = \"cifs_2:File Export Service\";\n",
      "\tSystemName = \"cifs_2\";\n",
      "\tName = \"cifs_2\";\n",
      "\tSystemCreationClassName = \"EMC_VNXe_CIFSServerLeaf\";\n",
      "};\n",
      "\n"
     ]
    },
    {
     "name": "stderr",
     "output_type": "stream",
     "text": [
      "/usr/local/lib/python2.7/dist-packages/requests/packages/urllib3/connectionpool.py:838: InsecureRequestWarning: Unverified HTTPS request is being made. Adding certificate verification is strongly advised. See: https://urllib3.readthedocs.io/en/latest/security.html\n",
      "  InsecureRequestWarning)\n"
     ]
    },
    {
     "name": "stdout",
     "output_type": "stream",
     "text": [
      "instance of EMC_VNXe_CIFSShareLeaf {\n",
      "\tRequestedState = 12;\n",
      "\tElementName = \"cifs_1\";\n",
      "\tDescription = \"\";\n",
      "\tTransitioningToState = 12;\n",
      "\tInstanceID = \"SMBShare_2\";\n",
      "\tEnabledState = 5;\n",
      "\tSharingDirectory = True;\n",
      "\tEnabledDefault = 2;\n",
      "\tOperationalStatus = {2};\n",
      "\tPathNameSeparatorString = \"\\\\\";\n",
      "\tName = \"cifs_1\";\n",
      "};\n",
      "\n",
      "('>>>>> Before: ', CIMInstanceName(classname='EMC_VNXe_CIFSShareLeaf', keybindings=NocaseDict({'InstanceID': 'SMBShare_2'}), namespace='root/emc/smis'))\n",
      "('>>>>> After: ', CIMInstanceName(classname='EMC_VNXe_CIFSShareLeaf', keybindings=NocaseDict({'InstanceID': 'SMBShare_19'}), namespace='root/emc/smis'))\n"
     ]
    },
    {
     "name": "stderr",
     "output_type": "stream",
     "text": [
      "/usr/local/lib/python2.7/dist-packages/requests/packages/urllib3/connectionpool.py:838: InsecureRequestWarning: Unverified HTTPS request is being made. Adding certificate verification is strongly advised. See: https://urllib3.readthedocs.io/en/latest/security.html\n",
      "  InsecureRequestWarning)\n"
     ]
    },
    {
     "name": "stdout",
     "output_type": "stream",
     "text": [
      "instance of EMC_VNXe_CIFSShareLeaf {\n",
      "\tRequestedState = 12;\n",
      "\tTransitioningToState = 12;\n",
      "\tInstanceID = \"SMBShare_19\";\n",
      "\tEnabledState = 5;\n",
      "\tSharingDirectory = True;\n",
      "\tEnabledDefault = 2;\n",
      "\tOperationalStatus = {2};\n",
      "\tPathNameSeparatorString = \"\\\\\";\n",
      "};\n",
      "\n"
     ]
    },
    {
     "name": "stderr",
     "output_type": "stream",
     "text": [
      "/usr/local/lib/python2.7/dist-packages/requests/packages/urllib3/connectionpool.py:838: InsecureRequestWarning: Unverified HTTPS request is being made. Adding certificate verification is strongly advised. See: https://urllib3.readthedocs.io/en/latest/security.html\n",
      "  InsecureRequestWarning)\n"
     ]
    },
    {
     "ename": "ConnectionError",
     "evalue": "('Connection aborted.', BadStatusLine(\"''\",))",
     "output_type": "error",
     "traceback": [
      "\u001b[0;31m\u001b[0m",
      "\u001b[0;31mConnectionError\u001b[0mTraceback (most recent call last)",
      "\u001b[0;32m<ipython-input-31-2330ea56fbdd>\u001b[0m in \u001b[0;36m<module>\u001b[0;34m()\u001b[0m\n\u001b[1;32m     15\u001b[0m \u001b[0;32mprint\u001b[0m\u001b[0;34m(\u001b[0m\u001b[0mtmp_share\u001b[0m\u001b[0;34m.\u001b[0m\u001b[0mtomof\u001b[0m\u001b[0;34m(\u001b[0m\u001b[0;34m)\u001b[0m\u001b[0;34m)\u001b[0m\u001b[0;34m\u001b[0m\u001b[0m\n\u001b[1;32m     16\u001b[0m \u001b[0;34m\u001b[0m\u001b[0m\n\u001b[0;32m---> 17\u001b[0;31m \u001b[0mc\u001b[0m\u001b[0;34m.\u001b[0m\u001b[0mInvokeMethod\u001b[0m\u001b[0;34m(\u001b[0m\u001b[0;34m'ReleaseExportedShare'\u001b[0m\u001b[0;34m,\u001b[0m \u001b[0mshare_service\u001b[0m\u001b[0;34m.\u001b[0m\u001b[0mpath\u001b[0m\u001b[0;34m,\u001b[0m \u001b[0mTheShare\u001b[0m\u001b[0;34m=\u001b[0m\u001b[0mcifs_share\u001b[0m\u001b[0;34m.\u001b[0m\u001b[0mpath\u001b[0m\u001b[0;34m)\u001b[0m\u001b[0;34m\u001b[0m\u001b[0m\n\u001b[0m",
      "\u001b[0;32m/usr/local/lib/python2.7/dist-packages/pywbemReq/cim_operations.pyc\u001b[0m in \u001b[0;36mInvokeMethod\u001b[0;34m(self, MethodName, ObjectName, Params, **params)\u001b[0m\n\u001b[1;32m   2067\u001b[0m \u001b[0;34m\u001b[0m\u001b[0m\n\u001b[1;32m   2068\u001b[0m         \u001b[0;31m# Make the method call\u001b[0m\u001b[0;34m\u001b[0m\u001b[0;34m\u001b[0m\u001b[0m\n\u001b[0;32m-> 2069\u001b[0;31m         \u001b[0mresult\u001b[0m \u001b[0;34m=\u001b[0m \u001b[0mself\u001b[0m\u001b[0;34m.\u001b[0m\u001b[0mmethod_call\u001b[0m\u001b[0;34m(\u001b[0m\u001b[0mMethodName\u001b[0m\u001b[0;34m,\u001b[0m \u001b[0mobj\u001b[0m\u001b[0;34m,\u001b[0m \u001b[0mParams\u001b[0m\u001b[0;34m,\u001b[0m \u001b[0;34m**\u001b[0m\u001b[0mparams\u001b[0m\u001b[0;34m)\u001b[0m\u001b[0;34m\u001b[0m\u001b[0m\n\u001b[0m\u001b[1;32m   2070\u001b[0m         \u001b[0;32mreturn\u001b[0m \u001b[0mself\u001b[0m\u001b[0;34m.\u001b[0m\u001b[0m_parse_method_result\u001b[0m\u001b[0;34m(\u001b[0m\u001b[0mresult\u001b[0m\u001b[0;34m)\u001b[0m\u001b[0;34m\u001b[0m\u001b[0m\n\u001b[1;32m   2071\u001b[0m \u001b[0;34m\u001b[0m\u001b[0m\n",
      "\u001b[0;32m/usr/local/lib/python2.7/dist-packages/pywbemReq/cim_operations.pyc\u001b[0m in \u001b[0;36mmethod_call\u001b[0;34m(self, method_name, local_object, params, **param_dict)\u001b[0m\n\u001b[1;32m    765\u001b[0m             \u001b[0mca_certs\u001b[0m\u001b[0;34m=\u001b[0m\u001b[0mself\u001b[0m\u001b[0;34m.\u001b[0m\u001b[0mca_certs\u001b[0m\u001b[0;34m,\u001b[0m\u001b[0;34m\u001b[0m\u001b[0m\n\u001b[1;32m    766\u001b[0m             \u001b[0mverify\u001b[0m\u001b[0;34m=\u001b[0m\u001b[0mself\u001b[0m\u001b[0;34m.\u001b[0m\u001b[0mverify\u001b[0m\u001b[0;34m,\u001b[0m\u001b[0;34m\u001b[0m\u001b[0m\n\u001b[0;32m--> 767\u001b[0;31m             timeout=self.timeout)\n\u001b[0m\u001b[1;32m    768\u001b[0m \u001b[0;34m\u001b[0m\u001b[0m\n\u001b[1;32m    769\u001b[0m         \u001b[0;31m# Set the raw response before parsing and checking (which can fail)\u001b[0m\u001b[0;34m\u001b[0m\u001b[0;34m\u001b[0m\u001b[0m\n",
      "\u001b[0;32m/usr/local/lib/python2.7/dist-packages/pywbemReq/cim_http.pyc\u001b[0m in \u001b[0;36mwbem_request\u001b[0;34m(url, data, creds, headers, ca_certs, verify, timeout)\u001b[0m\n\u001b[1;32m    157\u001b[0m \u001b[0;34m\u001b[0m\u001b[0m\n\u001b[1;32m    158\u001b[0m     response = requests.post(url=url, data=data, cert=ca_certs, verify=verify,\n\u001b[0;32m--> 159\u001b[0;31m                              timeout=timeout, headers=headers)\n\u001b[0m\u001b[1;32m    160\u001b[0m     \u001b[0;32mif\u001b[0m \u001b[0mresponse\u001b[0m\u001b[0;34m.\u001b[0m\u001b[0mstatus_code\u001b[0m \u001b[0;34m!=\u001b[0m \u001b[0;36m200\u001b[0m\u001b[0;34m:\u001b[0m\u001b[0;34m\u001b[0m\u001b[0m\n\u001b[1;32m    161\u001b[0m         \u001b[0mlog\u001b[0m\u001b[0;34m.\u001b[0m\u001b[0minfo\u001b[0m\u001b[0;34m(\u001b[0m\u001b[0mresponse\u001b[0m\u001b[0;34m)\u001b[0m\u001b[0;34m\u001b[0m\u001b[0m\n",
      "\u001b[0;32m/usr/local/lib/python2.7/dist-packages/requests/api.pyc\u001b[0m in \u001b[0;36mpost\u001b[0;34m(url, data, json, **kwargs)\u001b[0m\n\u001b[1;32m    108\u001b[0m     \"\"\"\n\u001b[1;32m    109\u001b[0m \u001b[0;34m\u001b[0m\u001b[0m\n\u001b[0;32m--> 110\u001b[0;31m     \u001b[0;32mreturn\u001b[0m \u001b[0mrequest\u001b[0m\u001b[0;34m(\u001b[0m\u001b[0;34m'post'\u001b[0m\u001b[0;34m,\u001b[0m \u001b[0murl\u001b[0m\u001b[0;34m,\u001b[0m \u001b[0mdata\u001b[0m\u001b[0;34m=\u001b[0m\u001b[0mdata\u001b[0m\u001b[0;34m,\u001b[0m \u001b[0mjson\u001b[0m\u001b[0;34m=\u001b[0m\u001b[0mjson\u001b[0m\u001b[0;34m,\u001b[0m \u001b[0;34m**\u001b[0m\u001b[0mkwargs\u001b[0m\u001b[0;34m)\u001b[0m\u001b[0;34m\u001b[0m\u001b[0m\n\u001b[0m\u001b[1;32m    111\u001b[0m \u001b[0;34m\u001b[0m\u001b[0m\n\u001b[1;32m    112\u001b[0m \u001b[0;34m\u001b[0m\u001b[0m\n",
      "\u001b[0;32m/usr/local/lib/python2.7/dist-packages/requests/api.pyc\u001b[0m in \u001b[0;36mrequest\u001b[0;34m(method, url, **kwargs)\u001b[0m\n\u001b[1;32m     54\u001b[0m     \u001b[0;31m# cases, and look like a memory leak in others.\u001b[0m\u001b[0;34m\u001b[0m\u001b[0;34m\u001b[0m\u001b[0m\n\u001b[1;32m     55\u001b[0m     \u001b[0;32mwith\u001b[0m \u001b[0msessions\u001b[0m\u001b[0;34m.\u001b[0m\u001b[0mSession\u001b[0m\u001b[0;34m(\u001b[0m\u001b[0;34m)\u001b[0m \u001b[0;32mas\u001b[0m \u001b[0msession\u001b[0m\u001b[0;34m:\u001b[0m\u001b[0;34m\u001b[0m\u001b[0m\n\u001b[0;32m---> 56\u001b[0;31m         \u001b[0;32mreturn\u001b[0m \u001b[0msession\u001b[0m\u001b[0;34m.\u001b[0m\u001b[0mrequest\u001b[0m\u001b[0;34m(\u001b[0m\u001b[0mmethod\u001b[0m\u001b[0;34m=\u001b[0m\u001b[0mmethod\u001b[0m\u001b[0;34m,\u001b[0m \u001b[0murl\u001b[0m\u001b[0;34m=\u001b[0m\u001b[0murl\u001b[0m\u001b[0;34m,\u001b[0m \u001b[0;34m**\u001b[0m\u001b[0mkwargs\u001b[0m\u001b[0;34m)\u001b[0m\u001b[0;34m\u001b[0m\u001b[0m\n\u001b[0m\u001b[1;32m     57\u001b[0m \u001b[0;34m\u001b[0m\u001b[0m\n\u001b[1;32m     58\u001b[0m \u001b[0;34m\u001b[0m\u001b[0m\n",
      "\u001b[0;32m/usr/local/lib/python2.7/dist-packages/requests/sessions.pyc\u001b[0m in \u001b[0;36mrequest\u001b[0;34m(self, method, url, params, data, headers, cookies, files, auth, timeout, allow_redirects, proxies, hooks, stream, verify, cert, json)\u001b[0m\n\u001b[1;32m    473\u001b[0m         }\n\u001b[1;32m    474\u001b[0m         \u001b[0msend_kwargs\u001b[0m\u001b[0;34m.\u001b[0m\u001b[0mupdate\u001b[0m\u001b[0;34m(\u001b[0m\u001b[0msettings\u001b[0m\u001b[0;34m)\u001b[0m\u001b[0;34m\u001b[0m\u001b[0m\n\u001b[0;32m--> 475\u001b[0;31m         \u001b[0mresp\u001b[0m \u001b[0;34m=\u001b[0m \u001b[0mself\u001b[0m\u001b[0;34m.\u001b[0m\u001b[0msend\u001b[0m\u001b[0;34m(\u001b[0m\u001b[0mprep\u001b[0m\u001b[0;34m,\u001b[0m \u001b[0;34m**\u001b[0m\u001b[0msend_kwargs\u001b[0m\u001b[0;34m)\u001b[0m\u001b[0;34m\u001b[0m\u001b[0m\n\u001b[0m\u001b[1;32m    476\u001b[0m \u001b[0;34m\u001b[0m\u001b[0m\n\u001b[1;32m    477\u001b[0m         \u001b[0;32mreturn\u001b[0m \u001b[0mresp\u001b[0m\u001b[0;34m\u001b[0m\u001b[0m\n",
      "\u001b[0;32m/usr/local/lib/python2.7/dist-packages/requests/sessions.pyc\u001b[0m in \u001b[0;36msend\u001b[0;34m(self, request, **kwargs)\u001b[0m\n\u001b[1;32m    594\u001b[0m \u001b[0;34m\u001b[0m\u001b[0m\n\u001b[1;32m    595\u001b[0m         \u001b[0;31m# Send the request\u001b[0m\u001b[0;34m\u001b[0m\u001b[0;34m\u001b[0m\u001b[0m\n\u001b[0;32m--> 596\u001b[0;31m         \u001b[0mr\u001b[0m \u001b[0;34m=\u001b[0m \u001b[0madapter\u001b[0m\u001b[0;34m.\u001b[0m\u001b[0msend\u001b[0m\u001b[0;34m(\u001b[0m\u001b[0mrequest\u001b[0m\u001b[0;34m,\u001b[0m \u001b[0;34m**\u001b[0m\u001b[0mkwargs\u001b[0m\u001b[0;34m)\u001b[0m\u001b[0;34m\u001b[0m\u001b[0m\n\u001b[0m\u001b[1;32m    597\u001b[0m \u001b[0;34m\u001b[0m\u001b[0m\n\u001b[1;32m    598\u001b[0m         \u001b[0;31m# Total elapsed time of the request (approximately)\u001b[0m\u001b[0;34m\u001b[0m\u001b[0;34m\u001b[0m\u001b[0m\n",
      "\u001b[0;32m/usr/local/lib/python2.7/dist-packages/requests/adapters.pyc\u001b[0m in \u001b[0;36msend\u001b[0;34m(self, request, stream, timeout, verify, cert, proxies)\u001b[0m\n\u001b[1;32m    471\u001b[0m \u001b[0;34m\u001b[0m\u001b[0m\n\u001b[1;32m    472\u001b[0m         \u001b[0;32mexcept\u001b[0m \u001b[0;34m(\u001b[0m\u001b[0mProtocolError\u001b[0m\u001b[0;34m,\u001b[0m \u001b[0msocket\u001b[0m\u001b[0;34m.\u001b[0m\u001b[0merror\u001b[0m\u001b[0;34m)\u001b[0m \u001b[0;32mas\u001b[0m \u001b[0merr\u001b[0m\u001b[0;34m:\u001b[0m\u001b[0;34m\u001b[0m\u001b[0m\n\u001b[0;32m--> 473\u001b[0;31m             \u001b[0;32mraise\u001b[0m \u001b[0mConnectionError\u001b[0m\u001b[0;34m(\u001b[0m\u001b[0merr\u001b[0m\u001b[0;34m,\u001b[0m \u001b[0mrequest\u001b[0m\u001b[0;34m=\u001b[0m\u001b[0mrequest\u001b[0m\u001b[0;34m)\u001b[0m\u001b[0;34m\u001b[0m\u001b[0m\n\u001b[0m\u001b[1;32m    474\u001b[0m \u001b[0;34m\u001b[0m\u001b[0m\n\u001b[1;32m    475\u001b[0m         \u001b[0;32mexcept\u001b[0m \u001b[0mMaxRetryError\u001b[0m \u001b[0;32mas\u001b[0m \u001b[0me\u001b[0m\u001b[0;34m:\u001b[0m\u001b[0;34m\u001b[0m\u001b[0m\n",
      "\u001b[0;31mConnectionError\u001b[0m: ('Connection aborted.', BadStatusLine(\"''\",))"
     ]
    }
   ],
   "source": [
    "import pywbemReq\n",
    "\n",
    "c = pywbemReq.WBEMConnection('https://10.244.222.171:5989', ('Local/admin', 'Password123!'), 'root/emc/smis')\n",
    "\n",
    "share_service = c.EnumerateInstances('EMC_VNXe_FileExportServiceLeaf')[1]\n",
    "print(share_service.tomof())\n",
    "\n",
    "cifs_share = c.EnumerateInstances('EMC_VNXe_CIFSShareLeaf')[0]\n",
    "print(cifs_share.tomof())\n",
    "\n",
    "print('>>>>> Before: ', cifs_share.path)\n",
    "cifs_share['InstanceID'] = 'SMBShare_19'\n",
    "print('>>>>> After: ', cifs_share.path)\n",
    "tmp_share = c.GetInstance(cifs_share.path)\n",
    "print(tmp_share.tomof())\n",
    "\n",
    "c.InvokeMethod('ReleaseExportedShare', share_service.path, TheShare=cifs_share.path)"
   ]
  },
  {
   "cell_type": "code",
   "execution_count": 48,
   "metadata": {},
   "outputs": [
    {
     "name": "stderr",
     "output_type": "stream",
     "text": [
      "/usr/local/lib/python2.7/dist-packages/requests/packages/urllib3/connectionpool.py:838: InsecureRequestWarning: Unverified HTTPS request is being made. Adding certificate verification is strongly advised. See: https://urllib3.readthedocs.io/en/latest/security.html\n",
      "  InsecureRequestWarning)\n"
     ]
    },
    {
     "name": "stdout",
     "output_type": "stream",
     "text": [
      "Using the NFS server: instance of EMC_VNXe_NFSServerLeaf {\n",
      "\tRequestedState = 12;\n",
      "\tDedicated = {16};\n",
      "\tName = \"nfs_7\";\n",
      "\tTransitioningToState = 12;\n",
      "\tEnabledState = 5;\n",
      "\tElementName = \"nas_1\";\n",
      "\tHealthState = 5;\n",
      "\tOperationalStatus = {0};\n",
      "\tNameFormat = \"Other\";\n",
      "\tCreationClassName = \"EMC_VNXe_NFSServerLeaf\";\n",
      "\tPrimaryStatus = 1;\n",
      "\tStatusDescriptions = {\"Unknown\"};\n",
      "};\n",
      "\n"
     ]
    },
    {
     "name": "stderr",
     "output_type": "stream",
     "text": [
      "/usr/local/lib/python2.7/dist-packages/requests/packages/urllib3/connectionpool.py:838: InsecureRequestWarning: Unverified HTTPS request is being made. Adding certificate verification is strongly advised. See: https://urllib3.readthedocs.io/en/latest/security.html\n",
      "  InsecureRequestWarning)\n"
     ]
    },
    {
     "name": "stdout",
     "output_type": "stream",
     "text": [
      "Using the NFS export service: instance of EMC_VNXe_FileExportServiceLeaf {\n",
      "\tCreationClassName = \"EMC_VNXe_FileExportServiceLeaf\";\n",
      "\tElementName = \"nfs_7:File Export Service\";\n",
      "\tSystemName = \"nfs_7\";\n",
      "\tName = \"nfs_7\";\n",
      "\tSystemCreationClassName = \"EMC_VNXe_NFSServerLeaf\";\n",
      "};\n",
      "\n"
     ]
    },
    {
     "name": "stderr",
     "output_type": "stream",
     "text": [
      "/usr/local/lib/python2.7/dist-packages/requests/packages/urllib3/connectionpool.py:838: InsecureRequestWarning: Unverified HTTPS request is being made. Adding certificate verification is strongly advised. See: https://urllib3.readthedocs.io/en/latest/security.html\n",
      "  InsecureRequestWarning)\n"
     ]
    },
    {
     "name": "stdout",
     "output_type": "stream",
     "text": [
      "Using NFS expport capabilities: instance of EMC_VNXe_NFSShareCapabilitiesLeaf {\n",
      "\tInstanceID = \"nfs_7\";\n",
      "\tFileSharingProtocol = 2;\n",
      "\tElementName = \"Exported File Share Capabilities:NFS\";\n",
      "\tSupportedProperties = {2, 4, 5, 7, 8};\n",
      "};\n",
      "\n"
     ]
    },
    {
     "name": "stderr",
     "output_type": "stream",
     "text": [
      "/usr/local/lib/python2.7/dist-packages/requests/packages/urllib3/connectionpool.py:838: InsecureRequestWarning: Unverified HTTPS request is being made. Adding certificate verification is strongly advised. See: https://urllib3.readthedocs.io/en/latest/security.html\n",
      "  InsecureRequestWarning)\n"
     ]
    },
    {
     "name": "stdout",
     "output_type": "stream",
     "text": [
      "Using File System: instance of EMC_VNXe_UxfsLocalFileSystemLeaf {\n",
      "\tMaxFileNameLength = 255;\n",
      "\tRequestedState = 12;\n",
      "\tTransitioningToState = 12;\n",
      "\tBlockSize = 1024;\n",
      "\tFileSystemType = \"EMC_UXFS\";\n",
      "\tIsFixedSize = 0;\n",
      "\tPathNameSeparatorString = \"/\";\n",
      "\tLocalAccessDefinitionRequired = 4;\n",
      "\tResizeIncrement = 0;\n",
      "\tOperationalStatus = {2};\n",
      "\tEnabledDefault = 2;\n",
      "\tEnabledState = 5;\n",
      "\tCSCreationClassName = \"EMC_VNXe_StorageSystemLeaf\";\n",
      "\tFileSystemSize = 10737418240;\n",
      "\tCreationClassName = \"EMC_VNXe_UxfsLocalFileSystemLeaf\";\n",
      "\tElementName = \"fs_nfs_1\";\n",
      "\tName = \"fs_9\";\n",
      "\tCSName = \"FCNCH197566114\";\n",
      "\tNumberOfFiles = 0;\n",
      "\tCasePreserved = True;\n",
      "\tCaseSensitive = True;\n",
      "\tAvailableSpace = 9117114368;\n",
      "};\n",
      "\n"
     ]
    },
    {
     "name": "stderr",
     "output_type": "stream",
     "text": [
      "/usr/local/lib/python2.7/dist-packages/requests/packages/urllib3/connectionpool.py:838: InsecureRequestWarning: Unverified HTTPS request is being made. Adding certificate verification is strongly advised. See: https://urllib3.readthedocs.io/en/latest/security.html\n",
      "  InsecureRequestWarning)\n"
     ]
    },
    {
     "name": "stdout",
     "output_type": "stream",
     "text": [
      "Using NFS Goal Setting: instance of EMC_VNXe_NFSShareSettingLeaf {\n",
      "\tWritePolicy = 0;\n",
      "\tInitialEnabledState = 2;\n",
      "\tElementName = \"Predefined FileServer Name nfs_7\";\n",
      "\tRootAccess = 3;\n",
      "\tInstanceID = \"nfs_7\";\n",
      "\tProtocolVersions = {\"v2\", \"v3\", \"v4\"};\n",
      "\tDefaultReadWrite = 4;\n",
      "\tExecuteSupport = 0;\n",
      "\tDefaultUserIdSupported = 2;\n",
      "\tFileSharingProtocol = 2;\n",
      "\tAccessPoints = 4;\n",
      "\tDefaultExecute = 0;\n",
      "};\n",
      "\n"
     ]
    },
    {
     "name": "stderr",
     "output_type": "stream",
     "text": [
      "/usr/local/lib/python2.7/dist-packages/requests/packages/urllib3/connectionpool.py:838: InsecureRequestWarning: Unverified HTTPS request is being made. Adding certificate verification is strongly advised. See: https://urllib3.readthedocs.io/en/latest/security.html\n",
      "  InsecureRequestWarning)\n"
     ]
    },
    {
     "name": "stdout",
     "output_type": "stream",
     "text": [
      "Result of CreateExportedShare: 0\n"
     ]
    },
    {
     "name": "stderr",
     "output_type": "stream",
     "text": [
      "/usr/local/lib/python2.7/dist-packages/requests/packages/urllib3/connectionpool.py:838: InsecureRequestWarning: Unverified HTTPS request is being made. Adding certificate verification is strongly advised. See: https://urllib3.readthedocs.io/en/latest/security.html\n",
      "  InsecureRequestWarning)\n"
     ]
    },
    {
     "name": "stdout",
     "output_type": "stream",
     "text": [
      "NFS share created: instance of EMC_VNXe_NFSShareLeaf {\n",
      "\tRequestedState = 12;\n",
      "\tElementName = \"nfs_1\";\n",
      "\tName = \"nfs_1\";\n",
      "\tTransitioningToState = 12;\n",
      "\tInstanceID = \"NFSShare_3\";\n",
      "\tEnabledState = 5;\n",
      "\tSharingDirectory = True;\n",
      "\tEnabledDefault = 2;\n",
      "\tOperationalStatus = {2};\n",
      "\tPathNameSeparatorString = \"/\";\n",
      "};\n",
      "\n"
     ]
    }
   ],
   "source": [
    "import pywbemReq\n",
    "\n",
    "c = pywbemReq.WBEMConnection('https://10.141.41.209:5989', ('Local/admin', 'Password123!'), 'root/emc/smis')\n",
    "\n",
    "# *****************\n",
    "# CREATE NFS SHARE\n",
    "# *****************\n",
    "\n",
    "nfs_server = c.EnumerateInstances('EMC_VNXe_NFSServerLeaf',namespace='root/emc/smis')[0]\n",
    "print('Using the NFS server: {}'.format(nfs_server.tomof()))\n",
    "\n",
    "nfs_share_service = c.Associators(nfs_server.path, ResultClass= 'CIM_FileExportService')[0]\n",
    "print('Using the NFS export service: {}'.format(nfs_share_service.tomof()))\n",
    "\n",
    "nfs_share_capabilities = c.Associators(nfs_share_service.path,\n",
    "                                        AssocClass='CIM_ElementCapabilities',\n",
    "                                        ResultClass='CIM_ExportedFileShareCapabilities')[0]\n",
    "print('Using NFS expport capabilities: {}'.format(nfs_share_capabilities.tomof()))\n",
    "\n",
    "default_no_access, default_ro, default_rw = pywbemReq.Uint16(2), pywbemReq.Uint16(3), pywbemReq.Uint16(4)\n",
    "\n",
    "\n",
    "nfs_share_name = 'nfs_1'\n",
    "fs_name = 'fs_nfs_1'\n",
    "\n",
    "\n",
    "fs = filter(lambda x: x['ElementName'] == fs_name, c.EnumerateInstances('CIM_FileSystem'))[0]\n",
    "print('Using File System: {}'.format(fs.tomof()))\n",
    "\n",
    "result = c.InvokeMethod('CreateGoalSettings', nfs_share_capabilities.path)\n",
    "nfs_goalsettings = result[1]['SupportedGoalSettings'][0]\n",
    "nfs_goalsettings['DefaultReadWrite'] = default_rw\n",
    "print('Using NFS Goal Setting: {}'.format(nfs_goalsettings.tomof()))\n",
    "\n",
    "\n",
    "result = c.InvokeMethod('SNIA_CreateExportedShare',\n",
    "                        nfs_share_service.path,\n",
    "                        ElementName=nfs_share_name,\n",
    "                        Root=fs.path,\n",
    "                        SharedElementPath='/',\n",
    "                        Goal=nfs_goalsettings)\n",
    "print('Result of CreateExportedShare: {}'.format(result[0]))\n",
    "nfs_share = c.GetInstance(result[1]['TheShare'])\n",
    "print('NFS share created: {}'.format(nfs_share.tomof()))\n"
   ]
  },
  {
   "cell_type": "code",
   "execution_count": 3,
   "metadata": {
    "scrolled": false
   },
   "outputs": [
    {
     "name": "stdout",
     "output_type": "stream",
     "text": [
      "instance of EMC_VNXe_MappedStoragePoolLeaf {\n",
      "\tTotalManagedSpace = 121064390656;\n",
      "\tElementName = \"pool_test\";\n",
      "\tSpaceLimitDetermination = 4;\n",
      "\tName = \"pool_test\";\n",
      "\tThinProvisionMetaDataSpace = 0;\n",
      "\tInstanceID = \"FCNCH097274901+pool_2\";\n",
      "\tRemainingManagedSpace = 121064390656;\n",
      "\tSpaceLimit = 121064390656;\n",
      "\tPrimordial = False;\n",
      "\tOperationalStatus = {2};\n",
      "\tPoolID = \"pool_2\";\n",
      "\tUsage = 2;\n",
      "\tElementsShareSpace = False;\n",
      "\tConsumedResourceUnits = \"count\";\n",
      "};\n",
      "\n",
      "instance of EMC_VNXe_PrimordialPoolLeaf {\n",
      "\tTotalManagedSpace = 381681664000;\n",
      "\tElementName = \"SIM 100 GB SAS 15K\";\n",
      "\tName = \"SIM 100 GB SAS 15K\";\n",
      "\tInstanceID = \"FCNCH097274901+dg_18\";\n",
      "\tRemainingManagedSpace = 109051904000;\n",
      "\tPrimordial = True;\n",
      "\tPoolID = \"dg_18\";\n",
      "\tUsage = 2;\n",
      "\tElementsShareSpace = False;\n",
      "\tConsumedResourceUnits = \"count\";\n",
      "};\n",
      "\n"
     ]
    }
   ],
   "source": [
    "pools = c.EnumerateInstances('CIM_StoragePool')\n",
    "\n",
    "for pool in pools:\n",
    "    print pool.tomof()\n",
    "    \n",
    "pool = pools[0]"
   ]
  },
  {
   "cell_type": "code",
   "execution_count": 44,
   "metadata": {},
   "outputs": [
    {
     "name": "stderr",
     "output_type": "stream",
     "text": [
      "/usr/local/lib/python2.7/dist-packages/requests/packages/urllib3/connectionpool.py:838: InsecureRequestWarning: Unverified HTTPS request is being made. Adding certificate verification is strongly advised. See: https://urllib3.readthedocs.io/en/latest/security.html\n",
      "  InsecureRequestWarning)\n"
     ]
    },
    {
     "name": "stdout",
     "output_type": "stream",
     "text": [
      "********************************************************************************\n",
      "instance of EMC_VNXe_StorageSystemLeaf {\n",
      "\tRequestedState = 12;\n",
      "\tDedicated = {15, 24};\n",
      "\tName = \"FCNCH197566114\";\n",
      "\tTransitioningToState = 12;\n",
      "\tEnabledState = 5;\n",
      "\tElementName = \"os-dFCNCH197566114\";\n",
      "\tHealthState = 5;\n",
      "\tPrimaryStatus = 1;\n",
      "\tOperationalStatus = {2};\n",
      "\tStatusDescriptions = {\"OK\"};\n",
      "\tNameFormat = \"Other\";\n",
      "\tCreationClassName = \"EMC_VNXe_StorageSystemLeaf\";\n",
      "\tIdentifyingDescriptions = {\"Product Serial Number\"};\n",
      "\tOtherIdentifyingInfo = {\"FCNCH197566114\"};\n",
      "};\n",
      "\n"
     ]
    },
    {
     "name": "stderr",
     "output_type": "stream",
     "text": [
      "/usr/local/lib/python2.7/dist-packages/requests/packages/urllib3/connectionpool.py:838: InsecureRequestWarning: Unverified HTTPS request is being made. Adding certificate verification is strongly advised. See: https://urllib3.readthedocs.io/en/latest/security.html\n",
      "  InsecureRequestWarning)\n"
     ]
    },
    {
     "name": "stdout",
     "output_type": "stream",
     "text": [
      "********************************************************************************\n",
      "instance of EMC_VNXe_StorageConfigurationServiceLeaf {\n",
      "\tCreationClassName = \"EMC_VNXe_StorageConfigurationServiceLeaf\";\n",
      "\tSystemName = \"FCNCH197566114\";\n",
      "\tName = \"StorageConfigurationService\";\n",
      "\tSystemCreationClassName = \"EMC_VNXe_StorageSystemLeaf\";\n",
      "};\n",
      "\n"
     ]
    },
    {
     "name": "stderr",
     "output_type": "stream",
     "text": [
      "/usr/local/lib/python2.7/dist-packages/requests/packages/urllib3/connectionpool.py:838: InsecureRequestWarning: Unverified HTTPS request is being made. Adding certificate verification is strongly advised. See: https://urllib3.readthedocs.io/en/latest/security.html\n",
      "  InsecureRequestWarning)\n"
     ]
    },
    {
     "name": "stdout",
     "output_type": "stream",
     "text": [
      "********************************************************************************\n",
      "List:\n",
      "instance of EMC_VNXe_StorageConfigurationServiceLeaf {\n",
      "\tCreationClassName = \"EMC_VNXe_StorageConfigurationServiceLeaf\";\n",
      "\tSystemName = \"FCNCH197566114\";\n",
      "\tName = \"StorageConfigurationService\";\n",
      "\tSystemCreationClassName = \"EMC_VNXe_StorageSystemLeaf\";\n",
      "};\n",
      "\n",
      "('Instance in the list: ', True)\n"
     ]
    }
   ],
   "source": [
    "import pywbemReq\n",
    "\n",
    "c = pywbemReq.WBEMConnection('https://10.141.41.209:5989', ('Local/admin', 'Password123!'), 'root/emc/smis')\n",
    "\n",
    "cs = c.EnumerateInstances('EMC_VNXe_StorageSystemLeaf')[0]\n",
    "print('*' * 80)\n",
    "print(cs.tomof())\n",
    "\n",
    "service = c.Associators(cs.path,\n",
    "                        AssocClass='CIM_HostedService',\n",
    "                        ResultClass='CIM_StorageConfigurationService')[0]\n",
    "print('*' * 80)\n",
    "print(service.tomof())\n",
    "\n",
    "service_lst = c.EnumerateInstances('CIM_StorageConfigurationService')\n",
    "\n",
    "print('*' * 80)\n",
    "print('List:')\n",
    "for each in service_lst:\n",
    "    print(each.tomof())\n",
    "\n",
    "print('Instance in the list: ', service in service_lst)"
   ]
  },
  {
   "cell_type": "code",
   "execution_count": 6,
   "metadata": {},
   "outputs": [
    {
     "name": "stdout",
     "output_type": "stream",
     "text": [
      "instance of EMC_VNXe_FileServerConfigurationServiceLeaf {\n",
      "\tCreationClassName = \"EMC_VNXe_FileServerConfigurationServiceLeaf\";\n",
      "\tElementName = \"File Server Configuraion Service\";\n",
      "\tSystemName = \"FCNCH097274901\";\n",
      "\tName = \"FCNCH097274901\";\n",
      "\tSystemCreationClassName = \"EMC_VNXe_StorageSystemLeaf\";\n",
      "};\n",
      "\n",
      "instance of EMC_VNXe_FileServerCapabilitiesLeaf {\n",
      "\tNISSupported = True;\n",
      "\tElementName = \"EMC_VNXe_FileServerCapabilitiesLeaf\";\n",
      "\tDNSSupported = True;\n",
      "\tInstanceID = \"FCNCH097274901\";\n",
      "\tNetworkVLANSupported = True;\n",
      "\tScaleOutSupported = False;\n",
      "\tCIFSSupported = True;\n",
      "\tFileServerSettingsSupported = True;\n",
      "\tNFSSupported = True;\n",
      "};\n",
      "\n",
      "instance of EMC_VNXe_StorageProcessorSystemLeaf {\n",
      "\tRequestedState = 12;\n",
      "\tDedicated = {2};\n",
      "\tName = \"FCNCH097274901:spa\";\n",
      "\tTransitioningToState = 12;\n",
      "\tUisSPInstanceID = \"root/emc:EMC_UEM_StorageProcessorLeaf%Tag=06:00:00:00:05:00:00:00:00:00\"\n",
      "       \":00:00:00:00:00:02\";\n",
      "\tEnabledState = 5;\n",
      "\tElementName = \"spa\";\n",
      "\tHealthState = 10;\n",
      "\tPrimaryStatus = 2;\n",
      "\tOperationalStatus = {32771, 32832, 32836};\n",
      "\tStatusDescriptions = {\"Rebooting\", \"Unknown\", \"Unknown\"};\n",
      "\tNameFormat = \"Other\";\n",
      "\tCreationClassName = \"EMC_VNXe_StorageProcessorSystemLeaf\";\n",
      "\tIdentifyingDescriptions = {\"EMC Serial Number\"};\n",
      "\tOtherIdentifyingInfo = {\"FCNBC123700053\"};\n",
      "};\n",
      "\n"
     ]
    }
   ],
   "source": [
    "serverService = c.EnumerateInstances('SNIA_FileServerConfigurationService')[0]\n",
    "serverCapabilities = c.Associators(serverService.path,\n",
    "                                   AssocClass='CIM_ElementCapabilities',\n",
    "                                   ResultClass='SNIA_FileServerCapabilities')[0]\n",
    "spa = c.EnumerateInstances('EMC_VNXe_StorageProcessorSystemLeaf')[0]\n",
    "\n",
    "print serverService.tomof()\n",
    "print serverCapabilities.tomof()\n",
    "print spa.tomof()"
   ]
  },
  {
   "cell_type": "code",
   "execution_count": 10,
   "metadata": {},
   "outputs": [
    {
     "data": {
      "text/plain": [
       "[CIMInstance(classname=u'EMC_VNXe_FileServerSettingsLeaf', path=None, ...),\n",
       " CIMInstance(classname=u'EMC_VNXe_IPInterfaceSettingDataLeaf', path=None, ...),\n",
       " CIMInstance(classname=u'EMC_VNXe_CIFSSettingDataLeaf', path=None, ...),\n",
       " CIMInstance(classname=u'EMC_VNXe_NFSSettingDataLeaf', path=None, ...),\n",
       " CIMInstance(classname=u'EMC_VNXe_NISSettingDataLeaf', path=None, ...),\n",
       " CIMInstance(classname=u'EMC_VNXe_DNSSettingDataLeaf', path=None, ...)]"
      ]
     },
     "execution_count": 10,
     "metadata": {},
     "output_type": "execute_result"
    }
   ],
   "source": [
    "r = c.InvokeMethod('CreateGoalSettings', serverCapabilities.path)\n",
    "\n",
    "serverGoalSettings = r[1]['SupportedGoalSettings']\n",
    "\n",
    "serverGoalSettings"
   ]
  },
  {
   "cell_type": "code",
   "execution_count": 11,
   "metadata": {},
   "outputs": [
    {
     "name": "stdout",
     "output_type": "stream",
     "text": [
      "instance of EMC_VNXe_NFSServerLeaf {\n",
      "\tRequestedState = 12;\n",
      "\tDedicated = {16};\n",
      "\tName = \"nfs_6\";\n",
      "\tTransitioningToState = 12;\n",
      "\tEnabledState = 5;\n",
      "\tElementName = \"fileserver_01\";\n",
      "\tHealthState = 5;\n",
      "\tOperationalStatus = {0};\n",
      "\tNameFormat = \"Other\";\n",
      "\tCreationClassName = \"EMC_VNXe_NFSServerLeaf\";\n",
      "\tPrimaryStatus = 1;\n",
      "\tStatusDescriptions = {\"Unknown\"};\n",
      "};\n",
      "\n"
     ]
    }
   ],
   "source": [
    "r = c.InvokeMethod('CreateFileServer',\n",
    "                   serverService.path,\n",
    "                   ElementName='fileserver_01',\n",
    "                   NFSSettingData=serverGoalSettings[3],\n",
    "                   HostingComputerSystem=spa.path)\n",
    "\n",
    "nfsServer = c.GetInstance(r[1]['TheElement'])\n",
    "\n",
    "print nfsServer.tomof()"
   ]
  },
  {
   "cell_type": "code",
   "execution_count": 12,
   "metadata": {
    "collapsed": true
   },
   "outputs": [],
   "source": [
    "import copy"
   ]
  },
  {
   "cell_type": "code",
   "execution_count": 13,
   "metadata": {},
   "outputs": [
    {
     "name": "stdout",
     "output_type": "stream",
     "text": [
      "instance of EMC_VNXe_EthernetPortLeaf {\n",
      "\tPortNumber = 0;\n",
      "\tRequestedState = 12;\n",
      "\tElementName = \"SP A Sync Replication Management Port\";\n",
      "\tFullDuplex = True;\n",
      "\tName = \"spa_srm\";\n",
      "\tTransitioningToState = 12;\n",
      "\tLinkTechnology = 2;\n",
      "\tOperationalStatus = {32784};\n",
      "\tEnabledState = 5;\n",
      "\tHealthState = 5;\n",
      "\tPermanentAddress = \"000000000000\";\n",
      "\tUsageRestriction = 2;\n",
      "\tNetworkAddresses = {\"5A456122EBB6\"};\n",
      "\tMaxSpeed = 1000000000;\n",
      "\tSystemName = \"FCNCH097274901:spa\";\n",
      "\tDeviceID = \"spa_srm\";\n",
      "\tPortType = 0;\n",
      "\tCreationClassName = \"EMC_VNXe_EthernetPortLeaf\";\n",
      "\tSpeed = 1000000000;\n",
      "\tUisEthPortInstanceID = \"root/emc:EMC_UEM_ManagementPortLeaf%Tag=00:00:00:FF\";\n",
      "\tSystemCreationClassName = \"EMC_VNXe_StorageProcessorSystemLeaf\";\n",
      "};\n",
      "\n",
      "instance of EMC_VNXe_EthernetPortLeaf {\n",
      "\tPortNumber = 0;\n",
      "\tRequestedState = 12;\n",
      "\tElementName = \"SP A Management Port\";\n",
      "\tFullDuplex = True;\n",
      "\tName = \"spa_mgmt\";\n",
      "\tTransitioningToState = 12;\n",
      "\tLinkTechnology = 2;\n",
      "\tOperationalStatus = {32784};\n",
      "\tEnabledState = 5;\n",
      "\tHealthState = 5;\n",
      "\tPermanentAddress = \"000000000000\";\n",
      "\tUsageRestriction = 2;\n",
      "\tNetworkAddresses = {\"08001BFF10E4\"};\n",
      "\tMaxSpeed = 1000000000;\n",
      "\tSystemName = \"FCNCH097274901:spa\";\n",
      "\tDeviceID = \"spa_mgmt\";\n",
      "\tPortType = 0;\n",
      "\tCreationClassName = \"EMC_VNXe_EthernetPortLeaf\";\n",
      "\tSpeed = 1000000000;\n",
      "\tUisEthPortInstanceID = \"root/emc:EMC_UEM_ManagementPortLeaf%Tag=00:00:00:00\";\n",
      "\tSystemCreationClassName = \"EMC_VNXe_StorageProcessorSystemLeaf\";\n",
      "};\n",
      "\n",
      "instance of EMC_VNXe_EthernetPortLeaf {\n",
      "\tPortNumber = 1;\n",
      "\tRequestedState = 12;\n",
      "\tElementName = \"SP A I/O Module 0 Ethernet Port 1\";\n",
      "\tFullDuplex = True;\n",
      "\tName = \"spa_iom_0_eth1\";\n",
      "\tTransitioningToState = 12;\n",
      "\tLinkTechnology = 2;\n",
      "\tOperationalStatus = {2, 32784};\n",
      "\tEnabledState = 5;\n",
      "\tHealthState = 5;\n",
      "\tPermanentAddress = \"000000000000\";\n",
      "\tUsageRestriction = 2;\n",
      "\tNetworkAddresses = {\"0050569F38CD\"};\n",
      "\tMaxSpeed = 1000000000;\n",
      "\tSystemName = \"FCNCH097274901:spa\";\n",
      "\tDeviceID = \"spa_iom_0_eth1\";\n",
      "\tPortType = 0;\n",
      "\tCreationClassName = \"EMC_VNXe_EthernetPortLeaf\";\n",
      "\tSpeed = 1000000000;\n",
      "\tUisEthPortInstanceID = \"root/emc:EMC_UEM_EthernetPortLeaf%Tag=03:00:00:05\";\n",
      "\tSystemCreationClassName = \"EMC_VNXe_StorageProcessorSystemLeaf\";\n",
      "};\n",
      "\n",
      "instance of EMC_VNXe_EthernetPortLeaf {\n",
      "\tPortNumber = 0;\n",
      "\tRequestedState = 12;\n",
      "\tElementName = \"SP A I/O Module 0 Ethernet Port 0\";\n",
      "\tFullDuplex = True;\n",
      "\tName = \"spa_iom_0_eth0\";\n",
      "\tTransitioningToState = 12;\n",
      "\tLinkTechnology = 2;\n",
      "\tOperationalStatus = {2, 32784};\n",
      "\tEnabledState = 5;\n",
      "\tHealthState = 5;\n",
      "\tPermanentAddress = \"000000000000\";\n",
      "\tUsageRestriction = 2;\n",
      "\tNetworkAddresses = {\"0050569F55E0\"};\n",
      "\tMaxSpeed = 1000000000;\n",
      "\tSystemName = \"FCNCH097274901:spa\";\n",
      "\tDeviceID = \"spa_iom_0_eth0\";\n",
      "\tPortType = 0;\n",
      "\tCreationClassName = \"EMC_VNXe_EthernetPortLeaf\";\n",
      "\tSpeed = 1000000000;\n",
      "\tUisEthPortInstanceID = \"root/emc:EMC_UEM_EthernetPortLeaf%Tag=03:00:00:04\";\n",
      "\tSystemCreationClassName = \"EMC_VNXe_StorageProcessorSystemLeaf\";\n",
      "};\n",
      "\n"
     ]
    }
   ],
   "source": [
    "ethernetPorts = c.Associators(spa.path, AssocClass='CIM_SystemDevice', ResultClass='CIM_EthernetPort')\n",
    "\n",
    "for port in ethernetPorts:\n",
    "    print port.tomof()"
   ]
  },
  {
   "cell_type": "code",
   "execution_count": 15,
   "metadata": {},
   "outputs": [
    {
     "name": "stdout",
     "output_type": "stream",
     "text": [
      "instance of EMC_VNXe_EthernetPortLeaf {\n",
      "\tPortNumber = 0;\n",
      "\tRequestedState = 12;\n",
      "\tElementName = \"SP A I/O Module 0 Ethernet Port 0\";\n",
      "\tFullDuplex = True;\n",
      "\tName = \"spa_iom_0_eth0\";\n",
      "\tTransitioningToState = 12;\n",
      "\tLinkTechnology = 2;\n",
      "\tOperationalStatus = {2, 32784};\n",
      "\tEnabledState = 5;\n",
      "\tHealthState = 5;\n",
      "\tPermanentAddress = \"000000000000\";\n",
      "\tUsageRestriction = 2;\n",
      "\tNetworkAddresses = {\"0050569F55E0\"};\n",
      "\tMaxSpeed = 1000000000;\n",
      "\tSystemName = \"FCNCH097274901:spa\";\n",
      "\tDeviceID = \"spa_iom_0_eth0\";\n",
      "\tPortType = 0;\n",
      "\tCreationClassName = \"EMC_VNXe_EthernetPortLeaf\";\n",
      "\tSpeed = 1000000000;\n",
      "\tUisEthPortInstanceID = \"root/emc:EMC_UEM_EthernetPortLeaf%Tag=03:00:00:04\";\n",
      "\tSystemCreationClassName = \"EMC_VNXe_StorageProcessorSystemLeaf\";\n",
      "};\n",
      "\n"
     ]
    }
   ],
   "source": [
    "ethernetPort = [port for port in ethernetPorts if 'eth0' in port['DeviceID']][0]\n",
    "\n",
    "print ethernetPort.tomof()"
   ]
  },
  {
   "cell_type": "code",
   "execution_count": 16,
   "metadata": {},
   "outputs": [
    {
     "data": {
      "text/plain": [
       "(0L,\n",
       " NocaseDict({u'Job': None, u'IPInterfaceSettingData': CIMInstance(classname=u'EMC_VNXe_IPInterfaceSettingDataLeaf', path=None, ...)}))"
      ]
     },
     "execution_count": 16,
     "metadata": {},
     "output_type": "execute_result"
    }
   ],
   "source": [
    "ipSettingData = copy.deepcopy(serverGoalSettings[1])\n",
    "ipSettingData['IPAddress'] = '111.111.111.111'\n",
    "ipSettingData['SubnetMask'] = '255.255.255.0'\n",
    "\n",
    "r = c.InvokeMethod('AddIPInterface',\n",
    "                   serverService.path,\n",
    "                   FileServer=nfsServer.path,\n",
    "                   IPInterfaceSettingData=ipSettingData,\n",
    "                   HostingComputerSystem=spa.path,\n",
    "                   EthernetPort=ethernetPort.path)\n",
    "\n",
    "r"
   ]
  },
  {
   "cell_type": "code",
   "execution_count": 22,
   "metadata": {},
   "outputs": [
    {
     "name": "stdout",
     "output_type": "stream",
     "text": [
      "instance of EMC_VNXe_NFSServerLeaf {\n",
      "\tRequestedState = 12;\n",
      "\tDedicated = {16};\n",
      "\tName = \"nfs_9\";\n",
      "\tTransitioningToState = 12;\n",
      "\tEnabledState = 5;\n",
      "\tElementName = \"fileserver_01\";\n",
      "\tHealthState = 5;\n",
      "\tOperationalStatus = {0};\n",
      "\tNameFormat = \"Other\";\n",
      "\tCreationClassName = \"EMC_VNXe_NFSServerLeaf\";\n",
      "\tPrimaryStatus = 1;\n",
      "\tStatusDescriptions = {\"Unknown\"};\n",
      "};\n",
      "\n"
     ]
    }
   ],
   "source": [
    "nfsServers = c.EnumerateInstances('EMC_VNXe_NFSServerLeaf')\n",
    "\n",
    "for nfsServer in nfsServers:\n",
    "    print nfsServer.tomof()"
   ]
  },
  {
   "cell_type": "code",
   "execution_count": 24,
   "metadata": {
    "collapsed": true
   },
   "outputs": [],
   "source": [
    "r = c.InvokeMethod('DeleteFileServer', serverService.path, FileServer=nfsServers[0].path)"
   ]
  },
  {
   "cell_type": "code",
   "execution_count": 25,
   "metadata": {},
   "outputs": [
    {
     "name": "stdout",
     "output_type": "stream",
     "text": [
      "(0L, NocaseDict({u'Job': None}))\n"
     ]
    }
   ],
   "source": [
    "print r"
   ]
  },
  {
   "cell_type": "code",
   "execution_count": 46,
   "metadata": {},
   "outputs": [
    {
     "name": "stdout",
     "output_type": "stream",
     "text": [
      "root/emc/smis:EMC_VNXe_CIFSServerLeaf.CreationClassName=\"EMC_VNXe_CIFSServerLeaf\",Name=\"CAT_NETBIOS1\"\n",
      "instance of EMC_VNXe_CIFSServerLeaf {\n",
      "\tRequestedState = 12;\n",
      "\tDedicated = {16};\n",
      "\tName = \"CAT_NETBIOS1\";\n",
      "\tTransitioningToState = 12;\n",
      "\tEnabledState = 5;\n",
      "\tElementName = \"CAT_NETBIOS1\";\n",
      "\tHealthState = 5;\n",
      "\tOperationalStatus = {0};\n",
      "\tNameFormat = \"Other\";\n",
      "\tCreationClassName = \"EMC_VNXe_CIFSServerLeaf\";\n",
      "\tPrimaryStatus = 1;\n",
      "\tStatusDescriptions = {\"Unknown\"};\n",
      "};\n",
      "\n"
     ]
    }
   ],
   "source": [
    "cifsServers = c.EnumerateInstances('EMC_VNXe_CIFSServerLeaf')\n",
    "\n",
    "for cifsServer in cifsServers:\n",
    "    print cifsServer.path\n",
    "    print cifsServer.tomof()"
   ]
  },
  {
   "cell_type": "code",
   "execution_count": 41,
   "metadata": {
    "collapsed": true
   },
   "outputs": [],
   "source": [
    "ipSettingData = copy.deepcopy(serverGoalSettings[1])\n",
    "ipSettingData['IPAddress'] = '123.123.123.2'\n",
    "ipSettingData['SubnetMask'] = '255.255.255.0'"
   ]
  },
  {
   "cell_type": "code",
   "execution_count": 42,
   "metadata": {},
   "outputs": [
    {
     "name": "stdout",
     "output_type": "stream",
     "text": [
      "instance of EMC_VNXe_IPInterfaceSettingDataLeaf {\n",
      "\tLinkSpeed = 1000;\n",
      "\tElementName = \"IPInterfaceSettingData\";\n",
      "\tAddressType = 1;\n",
      "\tInstanceID = \"SupportedIPInterfaceSettingData\";\n",
      "\tVLANId = 0;\n",
      "\tMTU = 1500;\n",
      "\tSubnetMask = \"255.255.255.0\";\n",
      "\tRDMACapable = False;\n",
      "\tIPAddress = \"123.123.123.2\";\n",
      "\tRSSCapable = False;\n",
      "};\n",
      "\n"
     ]
    }
   ],
   "source": [
    "print ipSettingData.tomof()"
   ]
  },
  {
   "cell_type": "code",
   "execution_count": 30,
   "metadata": {
    "collapsed": true
   },
   "outputs": [],
   "source": [
    "def _getAllIPInterfaces(wbemConnect, serverPath):\n",
    "    return wbemConnect.Associators(\n",
    "        wbemConnect.AssociatorNames(\n",
    "            serverPath,\n",
    "            ResultClass='SNIA_FileServerSettings')[0],\n",
    "        ResultClass='SNIA_IPInterfaceSettingData')"
   ]
  },
  {
   "cell_type": "code",
   "execution_count": 36,
   "metadata": {},
   "outputs": [
    {
     "name": "stdout",
     "output_type": "stream",
     "text": [
      "instance of EMC_VNXe_IPInterfaceSettingDataLeaf {\n",
      "\tLinkSpeed = 1000;\n",
      "\tElementName = \"IPInterfaceSettingData\";\n",
      "\tAddressType = 1;\n",
      "\tInstanceID = \"cifs_9:if_7\";\n",
      "\tMTU = 1500;\n",
      "\tSubnetMask = \"255.255.255.0\";\n",
      "\tRDMACapable = False;\n",
      "\tIPAddress = \"123.123.123.1\";\n",
      "\tRSSCapable = False;\n",
      "};\n",
      "\n"
     ]
    }
   ],
   "source": [
    "print [interface for interface in _getAllIPInterfaces(c, cifsServer.path) if interface['IPAddress'] == '123.123.123.1'][0].tomof()"
   ]
  },
  {
   "cell_type": "code",
   "execution_count": 43,
   "metadata": {
    "collapsed": true
   },
   "outputs": [],
   "source": [
    "r = c.InvokeMethod('ModifyIPInterface',\n",
    "                   serverService.path,\n",
    "                   FileServer=cifsServer.path,\n",
    "                   IPInterfaceSettingData=[interface.path\n",
    "                                           for interface in _getAllIPInterfaces(c, cifsServer.path)\n",
    "                                           if interface['IPAddress'] == '123.123.123.1'][0],\n",
    "                   NewIPInterfaceSettingData = ipSettingData,\n",
    "                   HostingComputerSystem = spa.path,\n",
    "                   EthernetPort = ethernetPort.path)"
   ]
  },
  {
   "cell_type": "code",
   "execution_count": 44,
   "metadata": {},
   "outputs": [
    {
     "name": "stdout",
     "output_type": "stream",
     "text": [
      "(0L, NocaseDict({u'FileServer': CIMInstanceName(classname=u'EMC_VNXe_CIFSServerLeaf', keybindings=NocaseDict({u'CreationClassName': u'EMC_VNXe_CIFSServerLeaf', u'Name': u'CAT_NETBIOS1'}), host=u'10.103.73.16', namespace=u'root/emc/smis'), u'Job': None}))\n"
     ]
    }
   ],
   "source": [
    "print r"
   ]
  },
  {
   "cell_type": "code",
   "execution_count": 47,
   "metadata": {
    "collapsed": true
   },
   "outputs": [],
   "source": [
    "controllerService = c.EnumerateInstances('CIM_ControllerConfigurationService')[0]"
   ]
  },
  {
   "cell_type": "code",
   "execution_count": 48,
   "metadata": {},
   "outputs": [
    {
     "name": "stdout",
     "output_type": "stream",
     "text": [
      "instance of EMC_VNXe_ControllerConfigurationServiceLeaf {\n",
      "\tCreationClassName = \"EMC_VNXe_ControllerConfigurationServiceLeaf\";\n",
      "\tSystemName = \"FCNCH097274911\";\n",
      "\tName = \"ControllerConfigurationService\";\n",
      "\tSystemCreationClassName = \"EMC_VNXe_StorageSystemLeaf\";\n",
      "};\n",
      "\n"
     ]
    }
   ],
   "source": [
    "print controllerService.tomof()"
   ]
  },
  {
   "cell_type": "code",
   "execution_count": 49,
   "metadata": {
    "collapsed": true
   },
   "outputs": [],
   "source": [
    "r = c.InvokeMethod('ExposePaths', controllerService.path)"
   ]
  },
  {
   "cell_type": "code",
   "execution_count": 54,
   "metadata": {},
   "outputs": [
    {
     "name": "stdout",
     "output_type": "stream",
     "text": [
      "instance of EMC_VNXe_LunMaskingProtocolControllerLeaf {\n",
      "\tRequestedState = 12;\n",
      "\tElementName = \"EMC-SMIS-SPC-f71f9449-f2c6-4d35-887f-e08c8142ef76\";\n",
      "\tName = \"Host_2\";\n",
      "\tTransitioningToState = 12;\n",
      "\tEMCAdapterRole = \"FRONT_END\";\n",
      "\tHealthState = 5;\n",
      "\tNameFormat = 1;\n",
      "\tSystemName = \"FCNCH097274911\";\n",
      "\tDeviceID = \"Host_2\";\n",
      "\tCreationClassName = \"EMC_VNXe_LunMaskingProtocolControllerLeaf\";\n",
      "\tEnabledState = 5;\n",
      "\tSystemCreationClassName = \"EMC_VNXe_StorageSystemLeaf\";\n",
      "};\n",
      "\n"
     ]
    }
   ],
   "source": [
    "print c.GetInstance(r[1]['ProtocolControllers'][0]).tomof()"
   ]
  },
  {
   "cell_type": "code",
   "execution_count": 4,
   "metadata": {
    "collapsed": true
   },
   "outputs": [],
   "source": [
    "f_insts = c.EnumerateInstances('CIM_IndicationFilter', namespace='interop')"
   ]
  },
  {
   "cell_type": "code",
   "execution_count": 9,
   "metadata": {},
   "outputs": [
    {
     "name": "stdout",
     "output_type": "stream",
     "text": [
      "instance of EMC_IndicationFilter {\n",
      "\tElementName = \"\";\n",
      "\tIndividualSubscriptionSupported = True;\n",
      "\tName = \"Framework_IndicationFilter_368\";\n",
      "\tQueryLanguage = \"DMTF:CQL\";\n",
      "\tInstanceID = \"\";\n",
      "\tTemplateVariable = {};\n",
      "\tDescription = \"\";\n",
      "\tCaption = \"\";\n",
      "\tSourceNamespaces = {};\n",
      "\tSystemName = \"10.103.73.12\";\n",
      "\tQuery = \"SELECT * FROM CIM_InstModification WHERE SourceInstance ISA \"\n",
      "       \"EMC_UEM_ConcreteJob\";\n",
      "\tCreationClassName = \"EMC_IndicationFilter\";\n",
      "\tSystemCreationClassName = \"ECOM_ComputerSystem\";\n",
      "\tSourceNamespace = \"\";\n",
      "};\n",
      "\n",
      "instance of EMC_IndicationFilter {\n",
      "\tElementName = \"\";\n",
      "\tIndividualSubscriptionSupported = True;\n",
      "\tName = \"RESTAPI_Filter_Creation_Of_EMC_UIS_MultiNodeRegistration\";\n",
      "\tQueryLanguage = \"CQL\";\n",
      "\tInstanceID = \"\";\n",
      "\tTemplateVariable = {};\n",
      "\tDescription = \"\";\n",
      "\tCaption = \"\";\n",
      "\tSourceNamespaces = {};\n",
      "\tSystemName = \"10.103.73.12\";\n",
      "\tQuery = \"SELECT * FROM CIM_InstCreation WHERE SourceInstance ISA \"\n",
      "       \"EMC_UIS_MultiNodeRegistration\";\n",
      "\tCreationClassName = \"EMC_IndicationFilter\";\n",
      "\tSystemCreationClassName = \"ECOM_ComputerSystem\";\n",
      "\tSourceNamespace = \"root/emc\";\n",
      "};\n",
      "\n",
      "instance of EMC_IndicationFilter {\n",
      "\tElementName = \"\";\n",
      "\tIndividualSubscriptionSupported = True;\n",
      "\tName = \"RESTAPI_Filter_Creation_Of_EMC_UIS_LoginSessionInfo\";\n",
      "\tQueryLanguage = \"CQL\";\n",
      "\tInstanceID = \"\";\n",
      "\tTemplateVariable = {};\n",
      "\tDescription = \"\";\n",
      "\tCaption = \"\";\n",
      "\tSourceNamespaces = {};\n",
      "\tSystemName = \"10.103.73.12\";\n",
      "\tQuery = \"SELECT * FROM CIM_InstCreation WHERE SourceInstance ISA \"\n",
      "       \"EMC_UIS_LoginSessionInfo\";\n",
      "\tCreationClassName = \"EMC_IndicationFilter\";\n",
      "\tSystemCreationClassName = \"ECOM_ComputerSystem\";\n",
      "\tSourceNamespace = \"root/emc\";\n",
      "};\n",
      "\n",
      "instance of EMC_IndicationFilter {\n",
      "\tElementName = \"\";\n",
      "\tIndividualSubscriptionSupported = True;\n",
      "\tName = \"RESTAPI_Filter_Deletion_Of_EMC_UIS_SASPort\";\n",
      "\tQueryLanguage = \"CQL\";\n",
      "\tInstanceID = \"\";\n",
      "\tTemplateVariable = {};\n",
      "\tDescription = \"\";\n",
      "\tCaption = \"\";\n",
      "\tSourceNamespaces = {};\n",
      "\tSystemName = \"10.103.73.12\";\n",
      "\tQuery = \"SELECT * FROM CIM_InstDeletion WHERE SourceInstance ISA EMC_UIS_SASPort\";\n",
      "\tCreationClassName = \"EMC_IndicationFilter\";\n",
      "\tSystemCreationClassName = \"ECOM_ComputerSystem\";\n",
      "\tSourceNamespace = \"root/emc\";\n",
      "};\n",
      "\n",
      "instance of EMC_IndicationFilter {\n",
      "\tElementName = \"\";\n",
      "\tIndividualSubscriptionSupported = True;\n",
      "\tName = \"RESTAPI_Filter_Creation_Of_EMC_UIS_ReplicationServices\";\n",
      "\tQueryLanguage = \"CQL\";\n",
      "\tInstanceID = \"\";\n",
      "\tTemplateVariable = {};\n",
      "\tDescription = \"\";\n",
      "\tCaption = \"\";\n",
      "\tSourceNamespaces = {};\n",
      "\tSystemName = \"10.103.73.12\";\n",
      "\tQuery = \"SELECT * FROM CIM_InstCreation WHERE SourceInstance ISA \"\n",
      "       \"EMC_UIS_ReplicationServices\";\n",
      "\tCreationClassName = \"EMC_IndicationFilter\";\n",
      "\tSystemCreationClassName = \"ECOM_ComputerSystem\";\n",
      "\tSourceNamespace = \"root/emc\";\n",
      "};\n",
      "\n",
      "instance of EMC_IndicationFilter {\n",
      "\tElementName = \"\";\n",
      "\tIndividualSubscriptionSupported = True;\n",
      "\tName = \"RESTAPI_Filter_Deletion_Of_EMC_UIS_ReplicationRemoteObject\";\n",
      "\tQueryLanguage = \"CQL\";\n",
      "\tInstanceID = \"\";\n",
      "\tTemplateVariable = {};\n",
      "\tDescription = \"\";\n",
      "\tCaption = \"\";\n",
      "\tSourceNamespaces = {};\n",
      "\tSystemName = \"10.103.73.12\";\n",
      "\tQuery = \"SELECT * FROM CIM_InstDeletion WHERE SourceInstance ISA \"\n",
      "       \"EMC_UIS_ReplicationRemoteObject\";\n",
      "\tCreationClassName = \"EMC_IndicationFilter\";\n",
      "\tSystemCreationClassName = \"ECOM_ComputerSystem\";\n",
      "\tSourceNamespace = \"root/emc\";\n",
      "};\n",
      "\n",
      "instance of EMC_IndicationFilter {\n",
      "\tElementName = \"\";\n",
      "\tIndividualSubscriptionSupported = True;\n",
      "\tName = \"CNENLIANGRL1C.corp.emc.com_3/21/2016 12:10:24_3\";\n",
      "\tQueryLanguage = \"DMTF:CQL\";\n",
      "\tInstanceID = \"\";\n",
      "\tTemplateVariable = {};\n",
      "\tDescription = \"\";\n",
      "\tCaption = \"\";\n",
      "\tSourceNamespaces = {};\n",
      "\tSystemName = \"10.103.73.12\";\n",
      "\tQuery = \"select * from CIM_InstIndication\";\n",
      "\tCreationClassName = \"EMC_IndicationFilter\";\n",
      "\tSystemCreationClassName = \"ECOM_ComputerSystem\";\n",
      "\tSourceNamespace = \"root/emc\";\n",
      "};\n",
      "\n",
      "instance of EMC_IndicationFilter {\n",
      "\tElementName = \"\";\n",
      "\tIndividualSubscriptionSupported = True;\n",
      "\tName = \"RESTAPI_Filter_Deletion_Of_EMC_UIS_LoginSessionInfo\";\n",
      "\tQueryLanguage = \"CQL\";\n",
      "\tInstanceID = \"\";\n",
      "\tTemplateVariable = {};\n",
      "\tDescription = \"\";\n",
      "\tCaption = \"\";\n",
      "\tSourceNamespaces = {};\n",
      "\tSystemName = \"10.103.73.12\";\n",
      "\tQuery = \"SELECT * FROM CIM_InstDeletion WHERE SourceInstance ISA \"\n",
      "       \"EMC_UIS_LoginSessionInfo\";\n",
      "\tCreationClassName = \"EMC_IndicationFilter\";\n",
      "\tSystemCreationClassName = \"ECOM_ComputerSystem\";\n",
      "\tSourceNamespace = \"root/emc\";\n",
      "};\n",
      "\n",
      "instance of EMC_IndicationFilter {\n",
      "\tElementName = \"\";\n",
      "\tIndividualSubscriptionSupported = True;\n",
      "\tName = \"RESTAPI_Filter_Creation_Of_EMC_UIS_UEM_MigrationSSH\";\n",
      "\tQueryLanguage = \"CQL\";\n",
      "\tInstanceID = \"\";\n",
      "\tTemplateVariable = {};\n",
      "\tDescription = \"\";\n",
      "\tCaption = \"\";\n",
      "\tSourceNamespaces = {};\n",
      "\tSystemName = \"10.103.73.12\";\n",
      "\tQuery = \"SELECT * FROM CIM_InstCreation WHERE SourceInstance ISA \"\n",
      "       \"EMC_UIS_UEM_MigrationSSH\";\n",
      "\tCreationClassName = \"EMC_IndicationFilter\";\n",
      "\tSystemCreationClassName = \"ECOM_ComputerSystem\";\n",
      "\tSourceNamespace = \"root/emc\";\n",
      "};\n",
      "\n",
      "instance of EMC_IndicationFilter {\n",
      "\tElementName = \"\";\n",
      "\tIndividualSubscriptionSupported = True;\n",
      "\tName = \"RESTAPI_Filter_Deletion_Of_EMC_UIS_MultiNodeRegistration\";\n",
      "\tQueryLanguage = \"CQL\";\n",
      "\tInstanceID = \"\";\n",
      "\tTemplateVariable = {};\n",
      "\tDescription = \"\";\n",
      "\tCaption = \"\";\n",
      "\tSourceNamespaces = {};\n",
      "\tSystemName = \"10.103.73.12\";\n",
      "\tQuery = \"SELECT * FROM CIM_InstDeletion WHERE SourceInstance ISA \"\n",
      "       \"EMC_UIS_MultiNodeRegistration\";\n",
      "\tCreationClassName = \"EMC_IndicationFilter\";\n",
      "\tSystemCreationClassName = \"ECOM_ComputerSystem\";\n",
      "\tSourceNamespace = \"root/emc\";\n",
      "};\n",
      "\n",
      "instance of EMC_IndicationFilter {\n",
      "\tElementName = \"\";\n",
      "\tIndividualSubscriptionSupported = True;\n",
      "\tName = \"RESTAPI_Filter_Creation_Of_EMC_UIS_PoolConsumer\";\n",
      "\tQueryLanguage = \"CQL\";\n",
      "\tInstanceID = \"\";\n",
      "\tTemplateVariable = {};\n",
      "\tDescription = \"\";\n",
      "\tCaption = \"\";\n",
      "\tSourceNamespaces = {};\n",
      "\tSystemName = \"10.103.73.12\";\n",
      "\tQuery = \"SELECT * FROM CIM_InstCreation WHERE SourceInstance ISA \"\n",
      "       \"EMC_UIS_PoolConsumer\";\n",
      "\tCreationClassName = \"EMC_IndicationFilter\";\n",
      "\tSystemCreationClassName = \"ECOM_ComputerSystem\";\n",
      "\tSourceNamespace = \"root/emc\";\n",
      "};\n",
      "\n",
      "instance of EMC_IndicationFilter {\n",
      "\tElementName = \"\";\n",
      "\tIndividualSubscriptionSupported = True;\n",
      "\tName = \"RESTAPI_Filter_Deletion_Of_EMC_UIS_PoolConsumer\";\n",
      "\tQueryLanguage = \"CQL\";\n",
      "\tInstanceID = \"\";\n",
      "\tTemplateVariable = {};\n",
      "\tDescription = \"\";\n",
      "\tCaption = \"\";\n",
      "\tSourceNamespaces = {};\n",
      "\tSystemName = \"10.103.73.12\";\n",
      "\tQuery = \"SELECT * FROM CIM_InstDeletion WHERE SourceInstance ISA \"\n",
      "       \"EMC_UIS_PoolConsumer\";\n",
      "\tCreationClassName = \"EMC_IndicationFilter\";\n",
      "\tSystemCreationClassName = \"ECOM_ComputerSystem\";\n",
      "\tSourceNamespace = \"root/emc\";\n",
      "};\n",
      "\n",
      "instance of EMC_IndicationFilter {\n",
      "\tElementName = \"\";\n",
      "\tIndividualSubscriptionSupported = True;\n",
      "\tName = \"Framework_IndicationFilter_366\";\n",
      "\tQueryLanguage = \"DMTF:CQL\";\n",
      "\tInstanceID = \"\";\n",
      "\tTemplateVariable = {};\n",
      "\tDescription = \"\";\n",
      "\tCaption = \"\";\n",
      "\tSourceNamespaces = {};\n",
      "\tSystemName = \"10.103.73.12\";\n",
      "\tQuery = \"SELECT * FROM CIM_InstCreation WHERE SourceInstance ISA \"\n",
      "       \"EMC_UEM_ConcreteJob\";\n",
      "\tCreationClassName = \"EMC_IndicationFilter\";\n",
      "\tSystemCreationClassName = \"ECOM_ComputerSystem\";\n",
      "\tSourceNamespace = \"\";\n",
      "};\n",
      "\n",
      "instance of EMC_IndicationFilter {\n",
      "\tElementName = \"\";\n",
      "\tIndividualSubscriptionSupported = True;\n",
      "\tName = \"Framework_IndicationFilter_367\";\n",
      "\tQueryLanguage = \"DMTF:CQL\";\n",
      "\tInstanceID = \"\";\n",
      "\tTemplateVariable = {};\n",
      "\tDescription = \"\";\n",
      "\tCaption = \"\";\n",
      "\tSourceNamespaces = {};\n",
      "\tSystemName = \"10.103.73.12\";\n",
      "\tQuery = \"SELECT * FROM CIM_InstDeletion WHERE SourceInstance ISA \"\n",
      "       \"EMC_UEM_ConcreteJob\";\n",
      "\tCreationClassName = \"EMC_IndicationFilter\";\n",
      "\tSystemCreationClassName = \"ECOM_ComputerSystem\";\n",
      "\tSourceNamespace = \"\";\n",
      "};\n",
      "\n",
      "instance of EMC_IndicationFilter {\n",
      "\tElementName = \"\";\n",
      "\tIndividualSubscriptionSupported = True;\n",
      "\tName = \"RESTAPI_Filter_Creation_Of_EMC_UIS_ReplicationRemoteObject\";\n",
      "\tQueryLanguage = \"CQL\";\n",
      "\tInstanceID = \"\";\n",
      "\tTemplateVariable = {};\n",
      "\tDescription = \"\";\n",
      "\tCaption = \"\";\n",
      "\tSourceNamespaces = {};\n",
      "\tSystemName = \"10.103.73.12\";\n",
      "\tQuery = \"SELECT * FROM CIM_InstCreation WHERE SourceInstance ISA \"\n",
      "       \"EMC_UIS_ReplicationRemoteObject\";\n",
      "\tCreationClassName = \"EMC_IndicationFilter\";\n",
      "\tSystemCreationClassName = \"ECOM_ComputerSystem\";\n",
      "\tSourceNamespace = \"root/emc\";\n",
      "};\n",
      "\n",
      "instance of EMC_IndicationFilter {\n",
      "\tElementName = \"\";\n",
      "\tIndividualSubscriptionSupported = True;\n",
      "\tName = \"RESTAPI_Filter_Creation_Of_EMC_UIS_SASPort\";\n",
      "\tQueryLanguage = \"CQL\";\n",
      "\tInstanceID = \"\";\n",
      "\tTemplateVariable = {};\n",
      "\tDescription = \"\";\n",
      "\tCaption = \"\";\n",
      "\tSourceNamespaces = {};\n",
      "\tSystemName = \"10.103.73.12\";\n",
      "\tQuery = \"SELECT * FROM CIM_InstCreation WHERE SourceInstance ISA EMC_UIS_SASPort\";\n",
      "\tCreationClassName = \"EMC_IndicationFilter\";\n",
      "\tSystemCreationClassName = \"ECOM_ComputerSystem\";\n",
      "\tSourceNamespace = \"root/emc\";\n",
      "};\n",
      "\n",
      "instance of EMC_IndicationFilter {\n",
      "\tElementName = \"\";\n",
      "\tIndividualSubscriptionSupported = True;\n",
      "\tName = \"RESTAPI_Filter_Deletion_Of_EMC_UIS_ReplicationServices\";\n",
      "\tQueryLanguage = \"CQL\";\n",
      "\tInstanceID = \"\";\n",
      "\tTemplateVariable = {};\n",
      "\tDescription = \"\";\n",
      "\tCaption = \"\";\n",
      "\tSourceNamespaces = {};\n",
      "\tSystemName = \"10.103.73.12\";\n",
      "\tQuery = \"SELECT * FROM CIM_InstDeletion WHERE SourceInstance ISA \"\n",
      "       \"EMC_UIS_ReplicationServices\";\n",
      "\tCreationClassName = \"EMC_IndicationFilter\";\n",
      "\tSystemCreationClassName = \"ECOM_ComputerSystem\";\n",
      "\tSourceNamespace = \"root/emc\";\n",
      "};\n",
      "\n",
      "instance of EMC_IndicationFilter {\n",
      "\tElementName = \"\";\n",
      "\tIndividualSubscriptionSupported = True;\n",
      "\tName = \"RESTAPI_Filter_Creation_Of_EMC_UIS_UEM_MigrationSession\";\n",
      "\tQueryLanguage = \"CQL\";\n",
      "\tInstanceID = \"\";\n",
      "\tTemplateVariable = {};\n",
      "\tDescription = \"\";\n",
      "\tCaption = \"\";\n",
      "\tSourceNamespaces = {};\n",
      "\tSystemName = \"10.103.73.12\";\n",
      "\tQuery = \"SELECT * FROM CIM_InstCreation WHERE SourceInstance ISA \"\n",
      "       \"EMC_UIS_UEM_MigrationSession\";\n",
      "\tCreationClassName = \"EMC_IndicationFilter\";\n",
      "\tSystemCreationClassName = \"ECOM_ComputerSystem\";\n",
      "\tSourceNamespace = \"root/emc\";\n",
      "};\n",
      "\n",
      "instance of EMC_IndicationFilter {\n",
      "\tElementName = \"\";\n",
      "\tIndividualSubscriptionSupported = True;\n",
      "\tName = \"RESTAPI_Filter_Deletion_Of_EMC_UIS_UEM_MigrationSSH\";\n",
      "\tQueryLanguage = \"CQL\";\n",
      "\tInstanceID = \"\";\n",
      "\tTemplateVariable = {};\n",
      "\tDescription = \"\";\n",
      "\tCaption = \"\";\n",
      "\tSourceNamespaces = {};\n",
      "\tSystemName = \"10.103.73.12\";\n",
      "\tQuery = \"SELECT * FROM CIM_InstDeletion WHERE SourceInstance ISA \"\n",
      "       \"EMC_UIS_UEM_MigrationSSH\";\n",
      "\tCreationClassName = \"EMC_IndicationFilter\";\n",
      "\tSystemCreationClassName = \"ECOM_ComputerSystem\";\n",
      "\tSourceNamespace = \"root/emc\";\n",
      "};\n",
      "\n",
      "instance of EMC_IndicationFilter {\n",
      "\tElementName = \"\";\n",
      "\tIndividualSubscriptionSupported = True;\n",
      "\tName = \"RESTAPI_Filter_Deletion_Of_EMC_UIS_UEM_ApplicationRegistration\";\n",
      "\tQueryLanguage = \"CQL\";\n",
      "\tInstanceID = \"\";\n",
      "\tTemplateVariable = {};\n",
      "\tDescription = \"\";\n",
      "\tCaption = \"\";\n",
      "\tSourceNamespaces = {};\n",
      "\tSystemName = \"10.103.73.12\";\n",
      "\tQuery = \"SELECT * FROM CIM_InstDeletion WHERE SourceInstance ISA \"\n",
      "       \"EMC_UIS_UEM_ApplicationRegistration\";\n",
      "\tCreationClassName = \"EMC_IndicationFilter\";\n",
      "\tSystemCreationClassName = \"ECOM_ComputerSystem\";\n",
      "\tSourceNamespace = \"root/emc\";\n",
      "};\n",
      "\n",
      "instance of EMC_IndicationFilter {\n",
      "\tElementName = \"\";\n",
      "\tIndividualSubscriptionSupported = True;\n",
      "\tName = \"RESTAPI_Filter_Creation_Of_EMC_UIS_CEMSystem\";\n",
      "\tQueryLanguage = \"CQL\";\n",
      "\tInstanceID = \"\";\n",
      "\tTemplateVariable = {};\n",
      "\tDescription = \"\";\n",
      "\tCaption = \"\";\n",
      "\tSourceNamespaces = {};\n",
      "\tSystemName = \"10.103.73.12\";\n",
      "\tQuery = \"SELECT * FROM CIM_InstCreation WHERE SourceInstance ISA \"\n",
      "       \"EMC_UIS_CEMSystem\";\n",
      "\tCreationClassName = \"EMC_IndicationFilter\";\n",
      "\tSystemCreationClassName = \"ECOM_ComputerSystem\";\n",
      "\tSourceNamespace = \"root/emc\";\n",
      "};\n",
      "\n",
      "instance of EMC_IndicationFilter {\n",
      "\tElementName = \"\";\n",
      "\tIndividualSubscriptionSupported = True;\n",
      "\tName = \"RESTAPI_Filter_Creation_Of_EMC_UIS_ACLUser\";\n",
      "\tQueryLanguage = \"CQL\";\n",
      "\tInstanceID = \"\";\n",
      "\tTemplateVariable = {};\n",
      "\tDescription = \"\";\n",
      "\tCaption = \"\";\n",
      "\tSourceNamespaces = {};\n",
      "\tSystemName = \"10.103.73.12\";\n",
      "\tQuery = \"SELECT * FROM CIM_InstCreation WHERE SourceInstance ISA EMC_UIS_ACLUser\";\n",
      "\tCreationClassName = \"EMC_IndicationFilter\";\n",
      "\tSystemCreationClassName = \"ECOM_ComputerSystem\";\n",
      "\tSourceNamespace = \"root/emc\";\n",
      "};\n",
      "\n",
      "instance of EMC_IndicationFilter {\n",
      "\tElementName = \"\";\n",
      "\tIndividualSubscriptionSupported = True;\n",
      "\tName = \"RESTAPI_Filter_Deletion_Of_EMC_UIS_ACLUser\";\n",
      "\tQueryLanguage = \"CQL\";\n",
      "\tInstanceID = \"\";\n",
      "\tTemplateVariable = {};\n",
      "\tDescription = \"\";\n",
      "\tCaption = \"\";\n",
      "\tSourceNamespaces = {};\n",
      "\tSystemName = \"10.103.73.12\";\n",
      "\tQuery = \"SELECT * FROM CIM_InstDeletion WHERE SourceInstance ISA EMC_UIS_ACLUser\";\n",
      "\tCreationClassName = \"EMC_IndicationFilter\";\n",
      "\tSystemCreationClassName = \"ECOM_ComputerSystem\";\n",
      "\tSourceNamespace = \"root/emc\";\n",
      "};\n",
      "\n",
      "instance of EMC_IndicationFilter {\n",
      "\tElementName = \"\";\n",
      "\tIndividualSubscriptionSupported = True;\n",
      "\tName = \"RESTAPI_Filter_Deletion_Of_EMC_UIS_ISCSIRecoverPointCHAPSettings\";\n",
      "\tQueryLanguage = \"CQL\";\n",
      "\tInstanceID = \"\";\n",
      "\tTemplateVariable = {};\n",
      "\tDescription = \"\";\n",
      "\tCaption = \"\";\n",
      "\tSourceNamespaces = {};\n",
      "\tSystemName = \"10.103.73.12\";\n",
      "\tQuery = \"SELECT * FROM CIM_InstDeletion WHERE SourceInstance ISA \"\n",
      "       \"EMC_UIS_ISCSIRecoverPointCHAPSettings\";\n",
      "\tCreationClassName = \"EMC_IndicationFilter\";\n",
      "\tSystemCreationClassName = \"ECOM_ComputerSystem\";\n",
      "\tSourceNamespace = \"root/emc\";\n",
      "};\n",
      "\n",
      "instance of EMC_IndicationFilter {\n",
      "\tElementName = \"\";\n",
      "\tIndividualSubscriptionSupported = True;\n",
      "\tName = \"RESTAPI_Filter_Creation_Of_EMC_UIS_UncommittedPort\";\n",
      "\tQueryLanguage = \"CQL\";\n",
      "\tInstanceID = \"\";\n",
      "\tTemplateVariable = {};\n",
      "\tDescription = \"\";\n",
      "\tCaption = \"\";\n",
      "\tSourceNamespaces = {};\n",
      "\tSystemName = \"10.103.73.12\";\n",
      "\tQuery = \"SELECT * FROM CIM_InstCreation WHERE SourceInstance ISA \"\n",
      "       \"EMC_UIS_UncommittedPort\";\n",
      "\tCreationClassName = \"EMC_IndicationFilter\";\n",
      "\tSystemCreationClassName = \"ECOM_ComputerSystem\";\n",
      "\tSourceNamespace = \"root/emc\";\n",
      "};\n",
      "\n",
      "instance of EMC_IndicationFilter {\n",
      "\tElementName = \"\";\n",
      "\tIndividualSubscriptionSupported = True;\n",
      "\tName = \"RESTAPI_Filter_Deletion_Of_EMC_UIS_CEMSystem\";\n",
      "\tQueryLanguage = \"CQL\";\n",
      "\tInstanceID = \"\";\n",
      "\tTemplateVariable = {};\n",
      "\tDescription = \"\";\n",
      "\tCaption = \"\";\n",
      "\tSourceNamespaces = {};\n",
      "\tSystemName = \"10.103.73.12\";\n",
      "\tQuery = \"SELECT * FROM CIM_InstDeletion WHERE SourceInstance ISA \"\n",
      "       \"EMC_UIS_CEMSystem\";\n",
      "\tCreationClassName = \"EMC_IndicationFilter\";\n",
      "\tSystemCreationClassName = \"ECOM_ComputerSystem\";\n",
      "\tSourceNamespace = \"root/emc\";\n",
      "};\n",
      "\n",
      "instance of EMC_IndicationFilter {\n",
      "\tElementName = \"\";\n",
      "\tIndividualSubscriptionSupported = True;\n",
      "\tName = \"RESTAPI_Filter_Modification_Of_EMC_UIS_AlertConfig\";\n",
      "\tQueryLanguage = \"CQL\";\n",
      "\tInstanceID = \"\";\n",
      "\tTemplateVariable = {};\n",
      "\tDescription = \"\";\n",
      "\tCaption = \"\";\n",
      "\tSourceNamespaces = {};\n",
      "\tSystemName = \"10.103.73.12\";\n",
      "\tQuery = \"SELECT * FROM CIM_InstModification WHERE SourceInstance ISA \"\n",
      "       \"EMC_UIS_AlertConfig\";\n",
      "\tCreationClassName = \"EMC_IndicationFilter\";\n",
      "\tSystemCreationClassName = \"ECOM_ComputerSystem\";\n",
      "\tSourceNamespace = \"root/emc\";\n",
      "};\n",
      "\n",
      "instance of EMC_IndicationFilter {\n",
      "\tElementName = \"\";\n",
      "\tIndividualSubscriptionSupported = True;\n",
      "\tName = \"RESTAPI_Filter_Deletion_Of_EMC_UIS_UEM_MigrationSession\";\n",
      "\tQueryLanguage = \"CQL\";\n",
      "\tInstanceID = \"\";\n",
      "\tTemplateVariable = {};\n",
      "\tDescription = \"\";\n",
      "\tCaption = \"\";\n",
      "\tSourceNamespaces = {};\n",
      "\tSystemName = \"10.103.73.12\";\n",
      "\tQuery = \"SELECT * FROM CIM_InstDeletion WHERE SourceInstance ISA \"\n",
      "       \"EMC_UIS_UEM_MigrationSession\";\n",
      "\tCreationClassName = \"EMC_IndicationFilter\";\n",
      "\tSystemCreationClassName = \"ECOM_ComputerSystem\";\n",
      "\tSourceNamespace = \"root/emc\";\n",
      "};\n",
      "\n",
      "instance of EMC_IndicationFilter {\n",
      "\tElementName = \"\";\n",
      "\tIndividualSubscriptionSupported = True;\n",
      "\tName = \"RESTAPI_Filter_Creation_Of_EMC_UIS_ISCSIRecoverPointCHAPSettings\";\n",
      "\tQueryLanguage = \"CQL\";\n",
      "\tInstanceID = \"\";\n",
      "\tTemplateVariable = {};\n",
      "\tDescription = \"\";\n",
      "\tCaption = \"\";\n",
      "\tSourceNamespaces = {};\n",
      "\tSystemName = \"10.103.73.12\";\n",
      "\tQuery = \"SELECT * FROM CIM_InstCreation WHERE SourceInstance ISA \"\n",
      "       \"EMC_UIS_ISCSIRecoverPointCHAPSettings\";\n",
      "\tCreationClassName = \"EMC_IndicationFilter\";\n",
      "\tSystemCreationClassName = \"ECOM_ComputerSystem\";\n",
      "\tSourceNamespace = \"root/emc\";\n",
      "};\n",
      "\n",
      "instance of EMC_IndicationFilter {\n",
      "\tElementName = \"\";\n",
      "\tIndividualSubscriptionSupported = True;\n",
      "\tName = \"RESTAPI_Filter_Modification_Of_EMC_UIS_CEMSystem\";\n",
      "\tQueryLanguage = \"CQL\";\n",
      "\tInstanceID = \"\";\n",
      "\tTemplateVariable = {};\n",
      "\tDescription = \"\";\n",
      "\tCaption = \"\";\n",
      "\tSourceNamespaces = {};\n",
      "\tSystemName = \"10.103.73.12\";\n",
      "\tQuery = \"SELECT * FROM CIM_InstModification WHERE SourceInstance ISA \"\n",
      "       \"EMC_UIS_CEMSystem\";\n",
      "\tCreationClassName = \"EMC_IndicationFilter\";\n",
      "\tSystemCreationClassName = \"ECOM_ComputerSystem\";\n",
      "\tSourceNamespace = \"root/emc\";\n",
      "};\n",
      "\n",
      "instance of EMC_IndicationFilter {\n",
      "\tElementName = \"\";\n",
      "\tIndividualSubscriptionSupported = True;\n",
      "\tName = \"RESTAPI_Filter_Deletion_Of_EMC_UIS_UncommittedPort\";\n",
      "\tQueryLanguage = \"CQL\";\n",
      "\tInstanceID = \"\";\n",
      "\tTemplateVariable = {};\n",
      "\tDescription = \"\";\n",
      "\tCaption = \"\";\n",
      "\tSourceNamespaces = {};\n",
      "\tSystemName = \"10.103.73.12\";\n",
      "\tQuery = \"SELECT * FROM CIM_InstDeletion WHERE SourceInstance ISA \"\n",
      "       \"EMC_UIS_UncommittedPort\";\n",
      "\tCreationClassName = \"EMC_IndicationFilter\";\n",
      "\tSystemCreationClassName = \"ECOM_ComputerSystem\";\n",
      "\tSourceNamespace = \"root/emc\";\n",
      "};\n",
      "\n",
      "instance of EMC_IndicationFilter {\n",
      "\tElementName = \"\";\n",
      "\tIndividualSubscriptionSupported = True;\n",
      "\tName = \"RESTAPI_Filter_Creation_Of_EMC_UIS_UEM_ApplicationRegistration\";\n",
      "\tQueryLanguage = \"CQL\";\n",
      "\tInstanceID = \"\";\n",
      "\tTemplateVariable = {};\n",
      "\tDescription = \"\";\n",
      "\tCaption = \"\";\n",
      "\tSourceNamespaces = {};\n",
      "\tSystemName = \"10.103.73.12\";\n",
      "\tQuery = \"SELECT * FROM CIM_InstCreation WHERE SourceInstance ISA \"\n",
      "       \"EMC_UIS_UEM_ApplicationRegistration\";\n",
      "\tCreationClassName = \"EMC_IndicationFilter\";\n",
      "\tSystemCreationClassName = \"ECOM_ComputerSystem\";\n",
      "\tSourceNamespace = \"root/emc\";\n",
      "};\n",
      "\n"
     ]
    }
   ],
   "source": [
    "not_smis = [e for e in f_insts if e['SourceNamespace'] != 'root/emc/smis']\n",
    "\n",
    "for e in not_smis:\n",
    "    print e.tomof()\n"
   ]
  }
 ],
 "metadata": {
  "kernelspec": {
   "display_name": "Python 2",
   "language": "python",
   "name": "python2"
  },
  "language_info": {
   "codemirror_mode": {
    "name": "ipython",
    "version": 2
   },
   "file_extension": ".py",
   "mimetype": "text/x-python",
   "name": "python",
   "nbconvert_exporter": "python",
   "pygments_lexer": "ipython2",
   "version": "2.7.13"
  }
 },
 "nbformat": 4,
 "nbformat_minor": 1
}
