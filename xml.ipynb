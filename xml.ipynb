{
 "cells": [
  {
   "cell_type": "code",
   "execution_count": 73,
   "metadata": {
    "collapsed": false
   },
   "outputs": [
    {
     "name": "stdout",
     "output_type": "stream",
     "text": [
      "<type 'str'>\n",
      "<NewFileSystem name=\"test14\"><Mover mover=\"1\" /><StoragePool mayContainSlices=\"true\" pool=\"61\" size=\"5120\" /></NewFileSystem>\n",
      "<type 'str'>\n",
      "<CifsServers><li>1</li><li>2</li></CifsServers>\n"
     ]
    }
   ],
   "source": [
    "from __future__ import unicode_literals\n",
    "\n",
    "from xml.etree import ElementTree as ET\n",
    "import six\n",
    "\n",
    "xml_ns = 'http://www.emc.com/schemas/celerra/xml_api'\n",
    "\n",
    "class XNode(ET.Element):\n",
    "    def __init__(self, tag, *sub_nodes, **attrib):\n",
    "        super(XNode, self).__init__(tag, attrib=attrib)\n",
    "        for sub in sub_nodes:\n",
    "            if isinstance(sub, XNode):\n",
    "                self.append(sub)\n",
    "            elif sub is not None:\n",
    "                self.text = str(sub)\n",
    "\n",
    "    def __str__(self):\n",
    "        xml_str = ET.tostring(self, encoding='utf-8')\n",
    "        print(type(xml_str))\n",
    "        return xml_str.decode('utf-8')\n",
    "\n",
    "\n",
    "class XmlBuilder(object):\n",
    "    def __getattr__(self, name):\n",
    "        def construct(*sub_nodes, **attrib):\n",
    "            return XNode(name,\n",
    "                         *sub_nodes,\n",
    "                         **{k: str(v).lower()\n",
    "                            if isinstance(v, bool) else str(v)\n",
    "                            for k, v in attrib.items() if v is not None})\n",
    "        return construct\n",
    "\n",
    "    def list_elements(self, name, elements):\n",
    "        name_func = getattr(self, name)\n",
    "        elements_list = [self.li(e) for e in elements]\n",
    "        return name_func(*elements_list)\n",
    "\n",
    "\n",
    "_xb = XmlBuilder()\n",
    "\n",
    "mover = _xb.Mover(mover=1)\n",
    "pool = _xb.StoragePool(pool=61, size=5120, mayContainSlices=True)\n",
    "filesystem = _xb.NewFileSystem(mover, pool, name='test14')\n",
    "print(filesystem)\n",
    "\n",
    "cifs_server = _xb.list_elements('CifsServers', ['1', '2'])\n",
    "print(cifs_server)\n",
    "\n",
    "#mover = XNode('Mover', attrib={'mover': '1'})\n",
    "#storage_pool = XNode('StoragePool', attrib={'pool': '61', 'size': '5120', 'mayContainSlices': 'true'})\n",
    "#filesystem = XNode('NewFileSystem', mover, storage_pool, attrib={'name': 'test14'})\n",
    "#print(filesystem)"
   ]
  },
  {
   "cell_type": "code",
   "execution_count": 16,
   "metadata": {
    "collapsed": false
   },
   "outputs": [
    {
     "name": "stdout",
     "output_type": "stream",
     "text": [
      "1\n",
      "(1, 2)\n"
     ]
    }
   ],
   "source": [
    "def foo(c=0, *a):\n",
    "    print(c)\n",
    "    print(a)\n",
    "\n",
    "\n",
    "l = (1, 2)\n",
    "foo(1, *l)\n",
    "\n",
    "#foo(c=1, 1, 2)"
   ]
  },
  {
   "cell_type": "code",
   "execution_count": 71,
   "metadata": {
    "collapsed": false
   },
   "outputs": [
    {
     "name": "stdout",
     "output_type": "stream",
     "text": [
      "(u'after: ', [1, 6, 0, 7, 3, 4, 5, 8, 2, 9])\n",
      "(u'after: ', [6, 2, 1, 3, 7, 4, 9, 0, 8, 5])\n",
      "(u'after: ', [3, 0, 5, 2, 4, 6, 7, 8, 9, 1])\n",
      "(u'after: ', [6, 7, 9, 0, 2, 3, 5, 1, 4, 8])\n",
      "(u'after: ', [3, 1, 6, 4, 8, 2, 7, 9, 0, 5])\n",
      "(u'after: ', [2, 0, 5, 7, 4, 8, 3, 1, 9, 6])\n",
      "(u'after: ', [6, 9, 5, 7, 8, 2, 1, 4, 0, 3])\n",
      "(u'after: ', [8, 0, 7, 1, 6, 2, 9, 3, 4, 5])\n",
      "(u'after: ', [0, 3, 8, 9, 1, 4, 2, 7, 6, 5])\n",
      "(u'after: ', [7, 1, 2, 5, 9, 3, 8, 0, 4, 6])\n",
      "(u'after: ', [1, 0, 3, 6, 7, 5, 4, 9, 8, 2])\n",
      "(u'after: ', [4, 2, 8, 6, 0, 9, 3, 7, 1, 5])\n",
      "(u'after: ', [5, 7, 6, 4, 9, 3, 1, 2, 8, 0])\n",
      "(u'after: ', [4, 2, 6, 0, 3, 9, 1, 5, 8, 7])\n",
      "(u'after: ', [0, 8, 4, 2, 5, 9, 1, 7, 6, 3])\n",
      "(u'after: ', [1, 2, 4, 8, 3, 9, 7, 0, 5, 6])\n",
      "(u'after: ', [1, 4, 6, 8, 7, 3, 5, 9, 0, 2])\n",
      "(u'after: ', [4, 0, 5, 8, 7, 1, 6, 3, 2, 9])\n",
      "(u'after: ', [5, 9, 2, 8, 3, 4, 6, 1, 7, 0])\n",
      "(u'after: ', [8, 3, 7, 9, 5, 2, 6, 1, 4, 0])\n"
     ]
    }
   ],
   "source": [
    "import random\n",
    "\n",
    "random.seed()\n",
    "\n",
    "for i in range(20):\n",
    "    l = range(10)\n",
    "    #print('original: ', l)\n",
    "    random.shuffle(l)\n",
    "    print('after: ', l)"
   ]
  },
  {
   "cell_type": "code",
   "execution_count": 20,
   "metadata": {
    "collapsed": false
   },
   "outputs": [
    {
     "name": "stdout",
     "output_type": "stream",
     "text": [
      "(u'after: ', [1, 5, 7, 6, 0, 3, 8, 9, 4, 2])\n",
      "(u'after: ', [4, 6, 1, 0, 7, 9, 5, 3, 8, 2])\n",
      "(u'after: ', [7, 3, 8, 1, 2, 4, 0, 9, 6, 5])\n",
      "(u'after: ', [0, 2, 8, 3, 1, 5, 9, 7, 6, 4])\n",
      "(u'after: ', [3, 6, 9, 4, 2, 5, 7, 1, 0, 8])\n",
      "(u'after: ', [0, 1, 2, 6, 8, 5, 7, 4, 9, 3])\n",
      "(u'after: ', [3, 8, 0, 4, 2, 5, 7, 9, 1, 6])\n",
      "(u'after: ', [8, 4, 1, 3, 7, 6, 9, 0, 2, 5])\n",
      "(u'after: ', [5, 1, 4, 9, 7, 3, 0, 8, 6, 2])\n",
      "(u'after: ', [1, 8, 3, 5, 6, 0, 2, 7, 4, 9])\n",
      "(u'after: ', [2, 7, 5, 3, 4, 8, 9, 0, 1, 6])\n",
      "(u'after: ', [0, 8, 1, 2, 7, 6, 3, 4, 9, 5])\n",
      "(u'after: ', [8, 4, 5, 1, 0, 6, 3, 7, 9, 2])\n",
      "(u'after: ', [7, 9, 8, 1, 3, 2, 4, 0, 5, 6])\n",
      "(u'after: ', [7, 3, 8, 4, 2, 1, 6, 5, 9, 0])\n",
      "(u'after: ', [7, 5, 1, 0, 8, 6, 2, 4, 9, 3])\n",
      "(u'after: ', [5, 9, 0, 4, 8, 7, 1, 6, 2, 3])\n",
      "(u'after: ', [4, 0, 8, 2, 6, 1, 5, 9, 7, 3])\n",
      "(u'after: ', [9, 6, 3, 0, 5, 7, 8, 4, 1, 2])\n",
      "(u'after: ', [8, 9, 4, 5, 3, 1, 0, 2, 7, 6])\n"
     ]
    }
   ],
   "source": [
    "import random\n",
    "\n",
    "random.seed(3)\n",
    "\n",
    "for i in range(20):\n",
    "    l = range(10)\n",
    "    #print('original: ', l)\n",
    "    random.shuffle(l)\n",
    "    print('after: ', l)"
   ]
  },
  {
   "cell_type": "code",
   "execution_count": 94,
   "metadata": {
    "collapsed": false
   },
   "outputs": [
    {
     "name": "stdout",
     "output_type": "stream",
     "text": [
      "<MagicMock name=u'bar' id='139914331590032'>\n"
     ]
    }
   ],
   "source": [
    "import mock\n",
    "\n",
    "def bar(a, b):\n",
    "    print('a: ', a)\n",
    "    print('b: ', b)\n",
    "\n",
    "def info():\n",
    "    return 'info'\n",
    "    \n",
    "def foo(a, b):\n",
    "    try:\n",
    "        bar(a, b)\n",
    "    except ValueError:\n",
    "        print(bar(a, b))\n",
    "    \n",
    "@mock.patch('__main__.info')\n",
    "@mock.patch('__main__.bar')\n",
    "def test(bar_mock):\n",
    "    bar_mock.side_effect=[ValueError(), bar]\n",
    "    bar_mock.return_value = 1\n",
    "    foo(1, 2)\n",
    "\n",
    "test()"
   ]
  }
 ],
 "metadata": {
  "kernelspec": {
   "display_name": "Python 2",
   "language": "python",
   "name": "python2"
  },
  "language_info": {
   "codemirror_mode": {
    "name": "ipython",
    "version": 2
   },
   "file_extension": ".py",
   "mimetype": "text/x-python",
   "name": "python",
   "nbconvert_exporter": "python",
   "pygments_lexer": "ipython2",
   "version": "2.7.12"
  }
 },
 "nbformat": 4,
 "nbformat_minor": 1
}
