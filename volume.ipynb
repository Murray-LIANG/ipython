{
 "cells": [
  {
   "cell_type": "code",
   "execution_count": 2,
   "metadata": {
    "collapsed": true
   },
   "outputs": [],
   "source": [
    "import pywbemReq\n",
    "\n",
    "c = pywbemReq.WBEMConnection('https://10.207.120.119:5989', ('Local/admin', 'Password123!'), 'root/emc/smis')"
   ]
  },
  {
   "cell_type": "code",
   "execution_count": null,
   "metadata": {
    "collapsed": true
   },
   "outputs": [],
   "source": [
    "Invoke Method EMC_VNXe_StorageConfigurationServiceLeaf::CreateOrModifyElementFromStoragePool.\n",
    "2017-08-11 06:34:05,839 : INFO : [MainThread] \n",
    "\n",
    "2017-08-11 06:34:05,839 : INFO : [MainThread] Inputting Parameter InPool: Instance detail:\n",
    "    InstanceID: FCNCH097192913+pool_1\n",
    "2017-08-11 06:34:05,839 : INFO : [MainThread] \n",
    "\n",
    "2017-08-11 06:34:05,839 : INFO : [MainThread] Inputting Parameter ElementName: CATStorageVolume_20170811063405\n",
    "2017-08-11 06:34:05,840 : INFO : [MainThread] \n",
    "\n",
    "2017-08-11 06:34:05,840 : INFO : [MainThread] Inputting Parameter ElementType: 2\n",
    "2017-08-11 06:34:05,840 : INFO : [MainThread] \n",
    "\n",
    "2017-08-11 06:34:05,840 : INFO : [MainThread] Inputting Parameter Size: 1073741824\n",
    "2017-08-11 06:34:05,840 : INFO : [MainThread] \n",
    "\n",
    "2017-08-11 06:34:07,430 : INFO : [MainThread] Method EMC_VNXe_StorageConfigurationServiceLeaf::CreateOrModifyElementFromStoragePool Return Code: 4096"
   ]
  },
  {
   "cell_type": "code",
   "execution_count": 8,
   "metadata": {},
   "outputs": [
    {
     "name": "stdout",
     "output_type": "stream",
     "text": [
      "****** Storage Configuration Service: \n",
      "instance of EMC_VNXe_StorageConfigurationServiceLeaf {\n",
      "\tCreationClassName = \"EMC_VNXe_StorageConfigurationServiceLeaf\";\n",
      "\tSystemName = \"FCNCH097192913\";\n",
      "\tName = \"StorageConfigurationService\";\n",
      "\tSystemCreationClassName = \"EMC_VNXe_StorageSystemLeaf\";\n",
      "};\n",
      "\n",
      "****** Pool: \n",
      "instance of EMC_VNXe_MappedStoragePoolLeaf {\n",
      "\tTotalManagedSpace = 35165044736;\n",
      "\tElementName = \"pool_1\";\n",
      "\tSpaceLimitDetermination = 4;\n",
      "\tName = \"pool_1\";\n",
      "\tThinProvisionMetaDataSpace = 0;\n",
      "\tInstanceID = \"FCNCH097192913+pool_1\";\n",
      "\tRemainingManagedSpace = 32212254720;\n",
      "\tSpaceLimit = 35165044736;\n",
      "\tPrimordial = False;\n",
      "\tOperationalStatus = {2};\n",
      "\tPoolID = \"pool_1\";\n",
      "\tUsage = 2;\n",
      "\tElementsShareSpace = False;\n",
      "\tConsumedResourceUnits = \"count\";\n",
      "};\n",
      "\n",
      "****** Result: \n",
      "(4096L, NocaseDict({'Job': CIMInstanceName(classname='EMC_VNXe_ConcreteJobLeaf', keybindings=NocaseDict({'InstanceID': 'N-9'}), host='[2620:0:170:8d78:260:1600:3c19:2913]', namespace='root/emc/smis'), 'Size': 1073741824L}))\n"
     ]
    }
   ],
   "source": [
    "service = c.EnumerateInstances('CIM_StorageConfigurationService')[0]\n",
    "print('****** Storage Configuration Service: ')\n",
    "print(service.tomof())\n",
    "\n",
    "pool = c.EnumerateInstances('CIM_StoragePool')[0]\n",
    "print('****** Pool: ')\n",
    "print(pool.tomof())\n",
    "\n",
    "result = c.InvokeMethod('CreateOrModifyElementFromStoragePool', service.path, InPool=pool.path, ElementName='v_smis',\n",
    "                       ElementType=pywbemReq.Uint16(2), Size=pywbemReq.Uint64(1073741824))\n",
    "\n",
    "print('****** Result: ')\n",
    "print(result)\n"
   ]
  },
  {
   "cell_type": "code",
   "execution_count": 13,
   "metadata": {},
   "outputs": [
    {
     "name": "stdout",
     "output_type": "stream",
     "text": [
      "instance of EMC_VNXe_ConcreteJobLeaf {\n",
      "\tPostAffectedJobElements = {\"root/emc/smis:EMC_VNXe_StorageVolumeLeaf%CreationClassName=EMC_VNXe_Sto\"\n",
      "       \"rageVolumeLeaf%DeviceID=sv_2%SystemCreationClassName=EMC_VNXe_StorageSy\"\n",
      "       \"stemLeaf%SystemName=FCNCH097192913\"};\n",
      "\tStatusDescriptions = {\"Completed\", \"OK\"};\n",
      "\tJobStatus = \"Completed\";\n",
      "\tPreCallMethodParameters = {\"InPool\", \"root/emc/smis:EMC_VNXe_MappedStoragePoolLeaf%InstanceID=FCNCH097192913+\"\n",
      "       \"pool_1\", \"ElementName\", \"v_smis\", \"ElementType\", \"2\", \"Size\", \"1073741824\"};\n",
      "\tPostCallMethodParameters = {\"InPool\", \"root/emc/smis:EMC_VNXe_MappedStoragePoolLeaf%InstanceID=FCNCH097192913+\"\n",
      "       \"pool_1\", \"ElementName\", \"v_smis\", \"ElementType\", \"2\", \"Size\", \"1073741824\", \"Job\", \"root/emc/smis:EMC_VNXe_ConcreteJobLeaf%InstanceID=N-9\"};\n",
      "\tMethodReturnValue = \"4096\";\n",
      "\tErrorCode = 0;\n",
      "\tOperationalStatus = {17, 2};\n",
      "\tPercentComplete = 100;\n",
      "\tDescription = \"job.storagevolumeservice.job.Create\";\n",
      "\tTimeOfLastStateChange = 20170814030235.000778+000;\n",
      "\tElapsedTime = 00000000000009.844840:000;\n",
      "\tMethodReturnValueType = 9;\n",
      "\tTimeSubmitted = 20170814030224.950123+000;\n",
      "\tMethodName = \"EMC_VNXe_StorageConfigurationServiceLeaf.CreateOrModifyElementFromStora\"\n",
      "       \"gePool\";\n",
      "\tTimeBeforeRemoval = 00000000010000.000000:000;\n",
      "\tJobState = 7;\n",
      "\tName = \"N-9\";\n",
      "\tInstanceID = \"N-9\";\n",
      "\tPreAffectedJobElements = {\"root/emc/smis:EMC_VNXe_MappedStoragePoolLeaf%InstanceID=FCNCH097192913+\"\n",
      "       \"pool_1\"};\n",
      "\tDeleteOnCompletion = True;\n",
      "\tErrorDescription = \"\";\n",
      "\tLocalOrUtcTime = 2;\n",
      "\tStartTime = 20170814030225.155938+000;\n",
      "};\n",
      "\n"
     ]
    }
   ],
   "source": [
    "print(c.GetInstance(result[1]['Job']).tomof())"
   ]
  }
 ],
 "metadata": {
  "kernelspec": {
   "display_name": "Python 2",
   "language": "python",
   "name": "python2"
  },
  "language_info": {
   "codemirror_mode": {
    "name": "ipython",
    "version": 2
   },
   "file_extension": ".py",
   "mimetype": "text/x-python",
   "name": "python",
   "nbconvert_exporter": "python",
   "pygments_lexer": "ipython2",
   "version": "2.7.13"
  }
 },
 "nbformat": 4,
 "nbformat_minor": 2
}
