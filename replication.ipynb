{
 "cells": [
  {
   "cell_type": "code",
   "execution_count": 1,
   "metadata": {
    "collapsed": true
   },
   "outputs": [],
   "source": [
    "import pywbemReq\n",
    "\n",
    "#c = pywbemReq.WBEMConnection('https://10.141.45.135:5989', ('Local/admin', 'Password123!'), 'root/emc/smis')\n",
    "\n",
    "c = pywbemReq.WBEMConnection('https://10.141.45.96:5989', ('Local/admin', 'Password123!'), 'root/emc/smis')"
   ]
  },
  {
   "cell_type": "code",
   "execution_count": 24,
   "metadata": {},
   "outputs": [
    {
     "name": "stderr",
     "output_type": "stream",
     "text": [
      "/usr/local/lib/python2.7/dist-packages/requests/packages/urllib3/connectionpool.py:838: InsecureRequestWarning: Unverified HTTPS request is being made. Adding certificate verification is strongly advised. See: https://urllib3.readthedocs.io/en/latest/security.html\n",
      "  InsecureRequestWarning)\n"
     ]
    },
    {
     "name": "stdout",
     "output_type": "stream",
     "text": [
      "instance of EMC_VNXe_ReplicationServiceLeaf {\n",
      "\tRequestedState = 12;\n",
      "\tName = \"ReplicationService\";\n",
      "\tTransitioningToState = 12;\n",
      "\tEnabledDefault = 2;\n",
      "\tEnabledState = 5;\n",
      "\tSystemName = \"FCNCH197063370\";\n",
      "\tCreationClassName = \"EMC_VNXe_ReplicationServiceLeaf\";\n",
      "\tSystemCreationClassName = \"EMC_VNXe_StorageSystemLeaf\";\n",
      "};\n",
      "\n"
     ]
    },
    {
     "name": "stderr",
     "output_type": "stream",
     "text": [
      "/usr/local/lib/python2.7/dist-packages/requests/packages/urllib3/connectionpool.py:838: InsecureRequestWarning: Unverified HTTPS request is being made. Adding certificate verification is strongly advised. See: https://urllib3.readthedocs.io/en/latest/security.html\n",
      "  InsecureRequestWarning)\n"
     ]
    },
    {
     "name": "stdout",
     "output_type": "stream",
     "text": [
      "instance of EMC_VNXe_StorageVolumeLeaf {\n",
      "\tNumberOfBlocks = 20971520;\n",
      "\tRequestedState = 12;\n",
      "\tHealthState = 5;\n",
      "\tStatusDescriptions = {\"OK\"};\n",
      "\tTransitioningToState = 12;\n",
      "\tBlockSize = 512;\n",
      "\tSystemName = \"FCNCH197063370\";\n",
      "\tExtentDiscriminator = {\"SNIA:Allocated\"};\n",
      "\tPackageRedundancy = 1;\n",
      "\tOtherIdentifyingInfo = {\"600601608FD00A00A2663258AA2B39B5\"};\n",
      "\tCompressionRate = 1;\n",
      "\tIdentifyingDescriptions = {\"NAA;VPD83Type3\"};\n",
      "\tAccess = 3;\n",
      "\tOperationalStatus = {2};\n",
      "\tParityLayout = 2;\n",
      "\tUsage = 2;\n",
      "\tExtentStatus = {1};\n",
      "\tSystemCreationClassName = \"EMC_VNXe_StorageSystemLeaf\";\n",
      "\tConsumableBlocks = 20971520;\n",
      "\tDeltaReservation = 0;\n",
      "\tCanDelete = True;\n",
      "\tEnabledState = 5;\n",
      "\tIsBasedOnUnderlyingRedundancy = True;\n",
      "\tPrimordial = False;\n",
      "\tIsComposite = False;\n",
      "\tEMCRaidLevel = \"RAID5\";\n",
      "\tCreationClassName = \"EMC_VNXe_StorageVolumeLeaf\";\n",
      "\tDataRedundancy = 1;\n",
      "\tElementName = \"lun_1\";\n",
      "\tName = \"sv_14\";\n",
      "\tNameNamespace = 7;\n",
      "\tThinlyProvisioned = True;\n",
      "\tNameFormat = 7;\n",
      "\tStorageTieringSelection = 0;\n",
      "\tDeviceID = \"sv_14\";\n",
      "\tNoSinglePointOfFailure = True;\n",
      "};\n",
      "\n"
     ]
    }
   ],
   "source": [
    "rep_service = c.EnumerateInstances('EMC_VNXe_ReplicationServiceLeaf')[0]\n",
    "print(rep_service.tomof())\n",
    "\n",
    "volume = c.EnumerateInstances('EMC_VNXe_StorageVolumeLeaf')[0]\n",
    "print(volume.tomof())"
   ]
  },
  {
   "cell_type": "code",
   "execution_count": 25,
   "metadata": {},
   "outputs": [
    {
     "name": "stderr",
     "output_type": "stream",
     "text": [
      "/usr/local/lib/python2.7/dist-packages/requests/packages/urllib3/connectionpool.py:838: InsecureRequestWarning: Unverified HTTPS request is being made. Adding certificate verification is strongly advised. See: https://urllib3.readthedocs.io/en/latest/security.html\n",
      "  InsecureRequestWarning)\n"
     ]
    },
    {
     "name": "stdout",
     "output_type": "stream",
     "text": [
      "('>>> Result: ', (4096L, NocaseDict({'Job': CIMInstanceName(classname='EMC_VNXe_ConcreteJobLeaf', keybindings=NocaseDict({'InstanceID': 'N-122'}), host='10.141.45.135', namespace='root/emc/smis')})))\n"
     ]
    },
    {
     "name": "stderr",
     "output_type": "stream",
     "text": [
      "/usr/local/lib/python2.7/dist-packages/requests/packages/urllib3/connectionpool.py:838: InsecureRequestWarning: Unverified HTTPS request is being made. Adding certificate verification is strongly advised. See: https://urllib3.readthedocs.io/en/latest/security.html\n",
      "  InsecureRequestWarning)\n"
     ]
    },
    {
     "name": "stdout",
     "output_type": "stream",
     "text": [
      ">>> Job affected elements:\n",
      "instance of EMC_VNXe_StorageVolumeLeaf {\n",
      "\tNumberOfBlocks = 20971520;\n",
      "\tRequestedState = 12;\n",
      "\tHealthState = 5;\n",
      "\tStatusDescriptions = {\"OK\"};\n",
      "\tTransitioningToState = 12;\n",
      "\tBlockSize = 512;\n",
      "\tSystemName = \"FCNCH197063370\";\n",
      "\tExtentDiscriminator = {\"SNIA:Allocated\"};\n",
      "\tPackageRedundancy = 1;\n",
      "\tOtherIdentifyingInfo = {\"600601608FD00A00A2663258AA2B39B5\"};\n",
      "\tCompressionRate = 1;\n",
      "\tIdentifyingDescriptions = {\"NAA;VPD83Type3\"};\n",
      "\tAccess = 3;\n",
      "\tOperationalStatus = {2};\n",
      "\tParityLayout = 2;\n",
      "\tUsage = 2;\n",
      "\tExtentStatus = {1};\n",
      "\tSystemCreationClassName = \"EMC_VNXe_StorageSystemLeaf\";\n",
      "\tConsumableBlocks = 20971520;\n",
      "\tDeltaReservation = 0;\n",
      "\tCanDelete = True;\n",
      "\tEnabledState = 5;\n",
      "\tIsBasedOnUnderlyingRedundancy = True;\n",
      "\tPrimordial = False;\n",
      "\tIsComposite = False;\n",
      "\tEMCRaidLevel = \"RAID5\";\n",
      "\tCreationClassName = \"EMC_VNXe_StorageVolumeLeaf\";\n",
      "\tDataRedundancy = 1;\n",
      "\tElementName = \"lun_1\";\n",
      "\tName = \"sv_14\";\n",
      "\tNameNamespace = 7;\n",
      "\tThinlyProvisioned = True;\n",
      "\tNameFormat = 7;\n",
      "\tStorageTieringSelection = 0;\n",
      "\tDeviceID = \"sv_14\";\n",
      "\tNoSinglePointOfFailure = True;\n",
      "};\n",
      "\n"
     ]
    }
   ],
   "source": [
    "### Create Snapshot of Volume.\n",
    "result = c.InvokeMethod('CreateSynchronizationAspect',\n",
    "                        rep_service.path,\n",
    "                        SourceElement=volume.path,\n",
    "                        SyncType=pywbemReq.Uint16(7))\n",
    "print('>>> Result: ', result)"
   ]
  },
  {
   "cell_type": "code",
   "execution_count": 34,
   "metadata": {},
   "outputs": [
    {
     "name": "stderr",
     "output_type": "stream",
     "text": [
      "/usr/local/lib/python2.7/dist-packages/requests/packages/urllib3/connectionpool.py:838: InsecureRequestWarning: Unverified HTTPS request is being made. Adding certificate verification is strongly advised. See: https://urllib3.readthedocs.io/en/latest/security.html\n",
      "  InsecureRequestWarning)\n"
     ]
    },
    {
     "name": "stdout",
     "output_type": "stream",
     "text": [
      ">>> Volume associated snapshots: \n"
     ]
    },
    {
     "data": {
      "text/plain": [
       "\"\\nvolume_of_snaps = c.Associators(created_snap.path, ResultClass='EMC_VNXe_StorageVolumeLeaf')\\nprint('>>> Snapshot associated volumes: ')\\nfor each in volume_of_snaps:\\n    print(each.tomof())\\n\\nstate_of_volumes = c.References(volume.path, ResultClass='CIM_SettingsDefineState')\\nprint('Volume associated SettingsDefineState: ', len(state_of_volumes))\\nfor each in state_of_volumes:\\n    print(each.tomof())\\n    \\n    \\nstate_of_snaps = c.References(created_snap.path, ResultClass='CIM_SettingsDefineState')\\nprint('Snapshot associated SettingsDefineState: ', len(state_of_snaps))\\nfor each in state_of_snaps:\\n    print(each.tomof())\\n    \\n\\n\\nsnapshots = c.EnumerateInstances('EMC_VNXe_SnapVolumeLeaf')\\nfor each in snapshots:\\n    print(each.tomof())\\n\""
      ]
     },
     "execution_count": 34,
     "metadata": {},
     "output_type": "execute_result"
    }
   ],
   "source": [
    "'''\n",
    "job_elements = c.Associators(result[1]['Job'],\n",
    "                            AssocClass='CIM_AffectedJobElement')\n",
    "print('>>> Job affected elements:')\n",
    "for each in job_elements:\n",
    "    print(each.tomof())\n",
    "\n",
    "created_snap = job_elements[0]\n",
    "print('>>> Created snapshot: ')\n",
    "print(created_snap.tomof())\n",
    "'''\n",
    "snaps_of_volume = c.Associators(volume.path, ResultClass='EMC_VNXe_SynchronizationAspectForSourceLeaf')\n",
    "print('>>> Volume associated snapshots: ')\n",
    "for each in snaps_of_volume:\n",
    "    print(each.tomof())\n",
    "'''\n",
    "volume_of_snaps = c.Associators(created_snap.path, ResultClass='EMC_VNXe_StorageVolumeLeaf')\n",
    "print('>>> Snapshot associated volumes: ')\n",
    "for each in volume_of_snaps:\n",
    "    print(each.tomof())\n",
    "\n",
    "state_of_volumes = c.References(volume.path, ResultClass='CIM_SettingsDefineState')\n",
    "print('Volume associated SettingsDefineState: ', len(state_of_volumes))\n",
    "for each in state_of_volumes:\n",
    "    print(each.tomof())\n",
    "    \n",
    "    \n",
    "state_of_snaps = c.References(created_snap.path, ResultClass='CIM_SettingsDefineState')\n",
    "print('Snapshot associated SettingsDefineState: ', len(state_of_snaps))\n",
    "for each in state_of_snaps:\n",
    "    print(each.tomof())\n",
    "    \n",
    "\n",
    "\n",
    "snapshots = c.EnumerateInstances('EMC_VNXe_SnapVolumeLeaf')\n",
    "for each in snapshots:\n",
    "    print(each.tomof())\n",
    "'''"
   ]
  },
  {
   "cell_type": "code",
   "execution_count": 35,
   "metadata": {},
   "outputs": [
    {
     "name": "stderr",
     "output_type": "stream",
     "text": [
      "/usr/local/lib/python2.7/dist-packages/requests/packages/urllib3/connectionpool.py:838: InsecureRequestWarning: Unverified HTTPS request is being made. Adding certificate verification is strongly advised. See: https://urllib3.readthedocs.io/en/latest/security.html\n",
      "  InsecureRequestWarning)\n"
     ]
    },
    {
     "name": "stdout",
     "output_type": "stream",
     "text": [
      "instance of C4CB_UIS_UEM_VolumeSnap {\n",
      "\tSourceLunId = \"root/emc:EMC_UEM_StorageVolumeLeaf%InstanceID=sv_14\";\n",
      "\tEMCAllowAttach = True;\n",
      "\tDescription = \"\";\n",
      "\tAutoDelete = True;\n",
      "\tCreatorUserId = \"root/emc:C4CB_UIS_User%InstanceID=admin\";\n",
      "\tInstanceID = \"root/emc:EMC_UEM_VolumeSnapLeaf%InstanceID=38654705724\";\n",
      "\tOperationalStatus = {2};\n",
      "\tIsModified = False;\n",
      "\tFriendlyID = \"38654705724\";\n",
      "\tIsSystemSnap = False;\n",
      "\tReplicationStatus = 0;\n",
      "\tCreatorType = 2;\n",
      "\tSourceSnapId = \"root/emc:EMC_UEM_VolumeSnapLeaf%InstanceID=\";\n",
      "\tSourceStorageResourceId = \"root/emc:EMC_UEM_StorageVolumeLeaf%InstanceID=sv_14\";\n",
      "\tInstallDate = 20161121032359.800130+000;\n",
      "\tSize = 10737418240;\n",
      "\tName = \"LUNSNAP_20161121T032356\";\n",
      "};\n",
      "\n",
      "instance of C4CB_UIS_UEM_VolumeSnap {\n",
      "\tSourceLunId = \"root/emc:EMC_UEM_StorageVolumeLeaf%InstanceID=sv_14\";\n",
      "\tEMCAllowAttach = True;\n",
      "\tDescription = \"\";\n",
      "\tAutoDelete = True;\n",
      "\tCreatorUserId = \"\";\n",
      "\tInstanceID = \"root/emc:EMC_UEM_VolumeSnapLeaf%InstanceID=38654705725\";\n",
      "\tOperationalStatus = {2};\n",
      "\tIsModified = False;\n",
      "\tFriendlyID = \"38654705725\";\n",
      "\tIsSystemSnap = False;\n",
      "\tReplicationStatus = 0;\n",
      "\tCreatorType = 2;\n",
      "\tSourceSnapId = \"root/emc:EMC_UEM_VolumeSnapLeaf%InstanceID=\";\n",
      "\tSourceStorageResourceId = \"root/emc:EMC_UEM_StorageVolumeLeaf%InstanceID=sv_14\";\n",
      "\tInstallDate = 20161121061418.855970+000;\n",
      "\tSize = 10737418240;\n",
      "\tName = \"LUNSNAP_20161121T061417\";\n",
      "};\n",
      "\n"
     ]
    }
   ],
   "source": [
    "uis_snaps = c.EnumerateInstances('EMC_UIS_UEM_VolumeSnap', namespace='root/emc')\n",
    "for each in uis_snaps:\n",
    "    print(each.tomof())"
   ]
  },
  {
   "cell_type": "code",
   "execution_count": 4,
   "metadata": {},
   "outputs": [
    {
     "name": "stderr",
     "output_type": "stream",
     "text": [
      "/usr/local/lib/python2.7/dist-packages/requests/packages/urllib3/connectionpool.py:838: InsecureRequestWarning: Unverified HTTPS request is being made. Adding certificate verification is strongly advised. See: https://urllib3.readthedocs.io/en/latest/security.html\n",
      "  InsecureRequestWarning)\n"
     ]
    },
    {
     "name": "stdout",
     "output_type": "stream",
     "text": [
      "NocaseDict({'SourceLunId': CIMProperty(name='SourceLunId', value='root/emc:EMC_UEM_StorageVolumeLeaf%InstanceID=sv_21', type='string', class_origin=None, array_size=None, propagated=None, is_array=False, reference_class=None, qualifiers=NocaseDict({}), embedded_object=None), 'EMCAllowAttach': CIMProperty(name='EMCAllowAttach', value=True, type='boolean', class_origin=None, array_size=None, propagated=None, is_array=False, reference_class=None, qualifiers=NocaseDict({}), embedded_object=None), 'IsPromoted': CIMProperty(name='IsPromoted', value=True, type='boolean', class_origin=None, array_size=None, propagated=None, is_array=False, reference_class=None, qualifiers=NocaseDict({}), embedded_object=None), 'PromotedLUNId': CIMProperty(name='PromotedLUNId', value=19L, type='uint32', class_origin=None, array_size=None, propagated=None, is_array=False, reference_class=None, qualifiers=NocaseDict({}), embedded_object=None), 'Description': CIMProperty(name='Description', value='', type='string', class_origin=None, array_size=None, propagated=None, is_array=False, reference_class=None, qualifiers=NocaseDict({}), embedded_object=None), 'AutoDelete': CIMProperty(name='AutoDelete', value=True, type='boolean', class_origin=None, array_size=None, propagated=None, is_array=False, reference_class=None, qualifiers=NocaseDict({}), embedded_object=None), 'CreatorUserId': CIMProperty(name='CreatorUserId', value='root/emc:C4CB_UIS_User%InstanceID=admin', type='string', class_origin=None, array_size=None, propagated=None, is_array=False, reference_class=None, qualifiers=NocaseDict({}), embedded_object=None), 'InstanceID': CIMProperty(name='InstanceID', value='root/emc:EMC_UEM_VolumeSnapLeaf%InstanceID=38654705784', type='string', class_origin=None, array_size=None, propagated=None, is_array=False, reference_class=None, qualifiers=NocaseDict({}), embedded_object=None), 'OperationalStatus': CIMProperty(name='OperationalStatus', value=[2L], type='uint16', class_origin=None, array_size=None, propagated=None, is_array=True, reference_class=None, qualifiers=NocaseDict({}), embedded_object=None), 'IsModified': CIMProperty(name='IsModified', value=True, type='boolean', class_origin=None, array_size=None, propagated=None, is_array=False, reference_class=None, qualifiers=NocaseDict({}), embedded_object=None), 'FriendlyID': CIMProperty(name='FriendlyID', value='38654705784', type='string', class_origin=None, array_size=None, propagated=None, is_array=False, reference_class=None, qualifiers=NocaseDict({}), embedded_object=None), 'SnapHostAccess': CIMProperty(name='SnapHostAccess', value=[CIMInstance(classname='C4CB_UIS_UEM_SnapHostAccess', path=None, ...)], type='string', class_origin=None, array_size=None, propagated=None, is_array=True, reference_class=None, qualifiers=NocaseDict({}), embedded_object='instance'), 'IsSystemSnap': CIMProperty(name='IsSystemSnap', value=False, type='boolean', class_origin=None, array_size=None, propagated=None, is_array=False, reference_class=None, qualifiers=NocaseDict({}), embedded_object=None), 'CreatorType': CIMProperty(name='CreatorType', value=2L, type='uint16', class_origin=None, array_size=None, propagated=None, is_array=False, reference_class=None, qualifiers=NocaseDict({}), embedded_object=None), 'SourceStorageResourceId': CIMProperty(name='SourceStorageResourceId', value='root/emc:EMC_UEM_StorageVolumeLeaf%InstanceID=sv_21', type='string', class_origin=None, array_size=None, propagated=None, is_array=False, reference_class=None, qualifiers=NocaseDict({}), embedded_object=None), 'InstallDate': CIMProperty(name='InstallDate', value=CIMDateTime('20161020065805.666778+000'), type='datetime', class_origin=None, array_size=None, propagated=None, is_array=False, reference_class=None, qualifiers=NocaseDict({}), embedded_object=None), 'PromotedWWN': CIMProperty(name='PromotedWWN', value='60:06:01:60:8F:D0:0A:00:10:95:66:65:4F:31:48:62', type='string', class_origin=None, array_size=None, propagated=None, is_array=False, reference_class=None, qualifiers=NocaseDict({}), embedded_object=None), 'Size': CIMProperty(name='Size', value=10737418240L, type='uint64', class_origin=None, array_size=None, propagated=None, is_array=False, reference_class=None, qualifiers=NocaseDict({}), embedded_object=None), 'Name': CIMProperty(name='Name', value='lun_snap_liangr_1', type='string', class_origin=None, array_size=None, propagated=None, is_array=False, reference_class=None, qualifiers=NocaseDict({}), embedded_object=None)})\n",
      "NocaseDict({'SourceLunId': CIMProperty(name='SourceLunId', value='root/emc:EMC_UEM_StorageVolumeLeaf%InstanceID=sv_21', type='string', class_origin=None, array_size=None, propagated=None, is_array=False, reference_class=None, qualifiers=NocaseDict({}), embedded_object=None), 'EMCAllowAttach': CIMProperty(name='EMCAllowAttach', value=True, type='boolean', class_origin=None, array_size=None, propagated=None, is_array=False, reference_class=None, qualifiers=NocaseDict({}), embedded_object=None), 'Description': CIMProperty(name='Description', value='', type='string', class_origin=None, array_size=None, propagated=None, is_array=False, reference_class=None, qualifiers=NocaseDict({}), embedded_object=None), 'AutoDelete': CIMProperty(name='AutoDelete', value=True, type='boolean', class_origin=None, array_size=None, propagated=None, is_array=False, reference_class=None, qualifiers=NocaseDict({}), embedded_object=None), 'CreatorUserId': CIMProperty(name='CreatorUserId', value='root/emc:C4CB_UIS_User%InstanceID=admin', type='string', class_origin=None, array_size=None, propagated=None, is_array=False, reference_class=None, qualifiers=NocaseDict({}), embedded_object=None), 'InstanceID': CIMProperty(name='InstanceID', value='root/emc:EMC_UEM_VolumeSnapLeaf%InstanceID=38654705787', type='string', class_origin=None, array_size=None, propagated=None, is_array=False, reference_class=None, qualifiers=NocaseDict({}), embedded_object=None), 'OperationalStatus': CIMProperty(name='OperationalStatus', value=[2L], type='uint16', class_origin=None, array_size=None, propagated=None, is_array=True, reference_class=None, qualifiers=NocaseDict({}), embedded_object=None), 'IsModified': CIMProperty(name='IsModified', value=False, type='boolean', class_origin=None, array_size=None, propagated=None, is_array=False, reference_class=None, qualifiers=NocaseDict({}), embedded_object=None), 'FriendlyID': CIMProperty(name='FriendlyID', value='38654705787', type='string', class_origin=None, array_size=None, propagated=None, is_array=False, reference_class=None, qualifiers=NocaseDict({}), embedded_object=None), 'IsSystemSnap': CIMProperty(name='IsSystemSnap', value=False, type='boolean', class_origin=None, array_size=None, propagated=None, is_array=False, reference_class=None, qualifiers=NocaseDict({}), embedded_object=None), 'CreatorType': CIMProperty(name='CreatorType', value=2L, type='uint16', class_origin=None, array_size=None, propagated=None, is_array=False, reference_class=None, qualifiers=NocaseDict({}), embedded_object=None), 'SourceStorageResourceId': CIMProperty(name='SourceStorageResourceId', value='root/emc:EMC_UEM_StorageVolumeLeaf%InstanceID=sv_21', type='string', class_origin=None, array_size=None, propagated=None, is_array=False, reference_class=None, qualifiers=NocaseDict({}), embedded_object=None), 'InstallDate': CIMProperty(name='InstallDate', value=CIMDateTime('20161121054546.147031+000'), type='datetime', class_origin=None, array_size=None, propagated=None, is_array=False, reference_class=None, qualifiers=NocaseDict({}), embedded_object=None), 'Size': CIMProperty(name='Size', value=10737418240L, type='uint64', class_origin=None, array_size=None, propagated=None, is_array=False, reference_class=None, qualifiers=NocaseDict({}), embedded_object=None), 'Name': CIMProperty(name='Name', value='LUNSNAP_20161121T054544', type='string', class_origin=None, array_size=None, propagated=None, is_array=False, reference_class=None, qualifiers=NocaseDict({}), embedded_object=None)})\n"
     ]
    }
   ],
   "source": [
    "uis_snaps = c.EnumerateInstances('EMC_UIS_UEM_VolumeSnap', namespace='root/emc')\n",
    "for each in uis_snaps:\n",
    "    print(each.properties)"
   ]
  }
 ],
 "metadata": {
  "kernelspec": {
   "display_name": "Python 2",
   "language": "python",
   "name": "python2"
  },
  "language_info": {
   "codemirror_mode": {
    "name": "ipython",
    "version": 2
   },
   "file_extension": ".py",
   "mimetype": "text/x-python",
   "name": "python",
   "nbconvert_exporter": "python",
   "pygments_lexer": "ipython2",
   "version": "2.7.13"
  }
 },
 "nbformat": 4,
 "nbformat_minor": 1
}
