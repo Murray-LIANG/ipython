{
 "cells": [
  {
   "cell_type": "code",
   "execution_count": 7,
   "metadata": {
    "collapsed": false
   },
   "outputs": [
    {
     "ename": "AttributeError",
     "evalue": "'SSLSocket' object has no attribute 'getpeercertchain'",
     "output_type": "error",
     "traceback": [
      "\u001b[0;31m---------------------------------------------------------------------------\u001b[0m",
      "\u001b[0;31mAttributeError\u001b[0m                            Traceback (most recent call last)",
      "\u001b[0;32m<ipython-input-7-d8607106769a>\u001b[0m in \u001b[0;36m<module>\u001b[0;34m()\u001b[0m\n\u001b[1;32m      6\u001b[0m \u001b[0mc\u001b[0m\u001b[0;34m.\u001b[0m\u001b[0mconnect\u001b[0m\u001b[0;34m(\u001b[0m\u001b[0;34m(\u001b[0m\u001b[0;34m'git.openstack.org'\u001b[0m\u001b[0;34m,\u001b[0m \u001b[0;36m443\u001b[0m\u001b[0;34m)\u001b[0m\u001b[0;34m)\u001b[0m\u001b[0;34m\u001b[0m\u001b[0m\n\u001b[1;32m      7\u001b[0m \u001b[0;34m\u001b[0m\u001b[0m\n\u001b[0;32m----> 8\u001b[0;31m \u001b[0;32mprint\u001b[0m \u001b[0mc\u001b[0m\u001b[0;34m.\u001b[0m\u001b[0mgetpeercertchain\u001b[0m\u001b[0;34m(\u001b[0m\u001b[0;34m)\u001b[0m\u001b[0;34m\u001b[0m\u001b[0m\n\u001b[0m",
      "\u001b[0;31mAttributeError\u001b[0m: 'SSLSocket' object has no attribute 'getpeercertchain'"
     ]
    }
   ],
   "source": [
    "from socket import socket\n",
    "import ssl\n",
    "\n",
    "s = socket()\n",
    "c = ssl.wrap_socket(s)\n",
    "c.connect(('git.openstack.org', 443))\n",
    "\n",
    "print c.getpeercertchain()"
   ]
  },
  {
   "cell_type": "code",
   "execution_count": 8,
   "metadata": {
    "collapsed": false
   },
   "outputs": [
    {
     "name": "stdout",
     "output_type": "stream",
     "text": [
      "instance of C4CB_UIS_CoreDumpLeaf {\n",
      "\tName = \"CP_dump_spa_FNM00131201552_2016-06-22_20_28_06_26333_ECOM_dir\";\n",
      "\tIsLocal = True;\n",
      "\tInstanceID = \"CoreDump_CP_dump_spa_FNM00131201552_2016-06-22_20_28_06_26333_ECOM_dir\";\n",
      "\tCreationTime = 20160622202806.000000+000;\n",
      "\tFriendlyID = \"CP_dump_spa_FNM00131201552_2016-06-22_20_28_06_26333_ECOM_dir\";\n",
      "\tFullPath = \"/EMC/backend/service/data_collection/cores/CP_dump_spa_FNM00131201552_2\"\n",
      "       \"016-06-22_20_28_06_26333_ECOM_dir\";\n",
      "};\n",
      "\n",
      "root/emc:C4CB_UIS_CoreDumpLeaf.InstanceID=\"CoreDump_CP_dump_spa_FNM00131201552_2016-06-22_20_28_06_26333_ECOM_dir\"\n"
     ]
    }
   ],
   "source": [
    "print(lst[0].tomof())\n",
    "print(lst[0].path)"
   ]
  }
 ],
 "metadata": {
  "kernelspec": {
   "display_name": "Python 3",
   "language": "python",
   "name": "python3"
  },
  "language_info": {
   "codemirror_mode": {
    "name": "ipython",
    "version": 3
   },
   "file_extension": ".py",
   "mimetype": "text/x-python",
   "name": "python",
   "nbconvert_exporter": "python",
   "pygments_lexer": "ipython3",
   "version": "3.5.2"
  }
 },
 "nbformat": 4,
 "nbformat_minor": 0
}
