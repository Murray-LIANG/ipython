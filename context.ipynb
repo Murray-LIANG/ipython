{
 "cells": [
  {
   "cell_type": "code",
   "execution_count": 6,
   "metadata": {
    "collapsed": false
   },
   "outputs": [
    {
     "name": "stdout",
     "output_type": "stream",
     "text": [
      "('Hi, ', 'peter')\n",
      "blabla...\n",
      "('Bye, ', 'peter')\n"
     ]
    }
   ],
   "source": [
    "from contextlib import contextmanager\n",
    "\n",
    "def say_hi(name):\n",
    "    #raise KeyError\n",
    "    print('Hi, ', name)\n",
    "    \n",
    "def say_bye(name):\n",
    "    print('Bye, ', name)\n",
    "\n",
    "\n",
    "@contextmanager\n",
    "def hi_bye(enter, exit, *args, **kwargs):\n",
    "    try:\n",
    "        yield enter(*args, **kwargs)\n",
    "    finally:\n",
    "        exit(*args, **kwargs)\n",
    "    \n",
    "with hi_bye(say_hi, say_bye, 'peter'):\n",
    "    print('blabla...')\n",
    "\n"
   ]
  }
 ],
 "metadata": {
  "kernelspec": {
   "display_name": "Python 2",
   "language": "python",
   "name": "python2"
  },
  "language_info": {
   "codemirror_mode": {
    "name": "ipython",
    "version": 2
   },
   "file_extension": ".py",
   "mimetype": "text/x-python",
   "name": "python",
   "nbconvert_exporter": "python",
   "pygments_lexer": "ipython2",
   "version": "2.7.10"
  }
 },
 "nbformat": 4,
 "nbformat_minor": 0
}
