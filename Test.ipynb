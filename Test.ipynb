{
 "cells": [
  {
   "cell_type": "code",
   "execution_count": 21,
   "metadata": {},
   "outputs": [
    {
     "name": "stdout",
     "output_type": "stream",
     "text": [
      "Waiting to consume\n",
      "Producing...\n",
      "Produced [7, 8, 3]\n",
      "Consumed, the running average is 6.0\n",
      "Waiting to consume\n",
      "Producing...\n",
      "Produced [0, 7, 1]\n",
      "Consumed, the running average is 4.33333333333\n",
      "Waiting to consume\n",
      "Producing...\n",
      "Produced [5, 8, 9]\n",
      "Consumed, the running average is 5.33333333333\n",
      "Waiting to consume\n",
      "Producing...\n",
      "Produced [4, 8, 6]\n",
      "Consumed, the running average is 5.5\n",
      "Waiting to consume\n",
      "Producing...\n",
      "Produced [9, 6, 5]\n",
      "Consumed, the running average is 5.73333333333\n",
      "Waiting to consume\n",
      "Producing...\n",
      "Produced [1, 6, 5]\n",
      "Consumed, the running average is 5.44444444444\n",
      "Waiting to consume\n",
      "Producing...\n",
      "Produced [9, 6, 5]\n",
      "Consumed, the running average is 5.61904761905\n",
      "Waiting to consume\n",
      "Producing...\n",
      "Produced [1, 0, 9]\n",
      "Consumed, the running average is 5.33333333333\n",
      "Waiting to consume\n",
      "Producing...\n",
      "Produced [2, 8, 1]\n",
      "Consumed, the running average is 5.14814814815\n",
      "Waiting to consume\n",
      "Producing...\n",
      "Produced [2, 0, 3]\n",
      "Consumed, the running average is 4.8\n",
      "Waiting to consume\n"
     ]
    }
   ],
   "source": [
    "# -*- coding: utf-8 -*-\n",
    "import random\n",
    " \n",
    "def get_data():\n",
    "    \"\"\"返回0到9之间的3个随机数，模拟异步操作\"\"\"\n",
    "    return random.sample(range(10), 3)\n",
    " \n",
    "def consume():\n",
    "    \"\"\"显示每次传入的整数列表的动态平均值\"\"\"\n",
    "    running_sum = 0\n",
    "    data_items_seen = 0\n",
    "    \n",
    "    while True:\n",
    "        print('Waiting to consume')\n",
    "        data = yield\n",
    "        data_items_seen += len(data)\n",
    "        running_sum += sum(data)\n",
    "        print('Consumed, the running average is {}'.format(running_sum / float(data_items_seen)))\n",
    " \n",
    "def produce(consumer):\n",
    "    \"\"\"产生序列集合，传递给消费函数（consumer）\"\"\"\n",
    "    while True:\n",
    "        data = get_data()\n",
    "        print('Produced {}'.format(data))\n",
    "        consumer.send(data)\n",
    "        yield\n",
    " \n",
    "if __name__ == '__main__':\n",
    "    consumer = consume()\n",
    "    consumer.send(None) \n",
    "    producer = produce(consumer)\n",
    " \n",
    "    for _ in range(10):\n",
    "        print('Producing...')\n",
    "        next(producer)"
   ]
  },
  {
   "cell_type": "code",
   "execution_count": 19,
   "metadata": {
    "scrolled": true
   },
   "outputs": [
    {
     "name": "stdout",
     "output_type": "stream",
     "text": [
      "2\n",
      "**********\n",
      "('in double:', 100)\n",
      "200\n",
      "**********\n",
      "('in double:', 200)\n",
      "400\n",
      "===== Second case =====\n",
      "2\n",
      "**********\n",
      "('in double:', 100)\n",
      "200\n",
      "**********\n",
      "('in double:', 200)\n",
      "400\n"
     ]
    }
   ],
   "source": [
    "def double():\n",
    "    x = 1\n",
    "    while True:\n",
    "        x = yield x * 2\n",
    "        print('in double:', x)\n",
    "        \n",
    "gen = double()\n",
    "print(next(gen))\n",
    "print('*' * 10)\n",
    "print(gen.send(100))\n",
    "print('*' * 10)\n",
    "print(gen.send(200))\n",
    "\n",
    "print('===== Second case =====')\n",
    "\n",
    "gen = double()\n",
    "print(gen.send(None))\n",
    "print('*' * 10)\n",
    "print(gen.send(100))\n",
    "print('*' * 10)\n",
    "print(gen.send(200))\n"
   ]
  },
  {
   "cell_type": "code",
   "execution_count": 20,
   "metadata": {},
   "outputs": [
    {
     "name": "stdout",
     "output_type": "stream",
     "text": [
      "None\n",
      "**********\n",
      "('in double:', 100)\n",
      "200\n",
      "**********\n",
      "None\n",
      "===== Second case =====\n",
      "None\n",
      "**********\n",
      "('in double:', 100)\n",
      "200\n",
      "**********\n",
      "None\n"
     ]
    }
   ],
   "source": [
    "def double():\n",
    "    while True:\n",
    "        x = yield\n",
    "        print('in double:', x)\n",
    "        yield x * 2\n",
    "        \n",
    "gen = double()\n",
    "print(next(gen))\n",
    "print('*' * 10)\n",
    "print(gen.send(100))\n",
    "print('*' * 10)\n",
    "print(gen.send(200))\n",
    "\n",
    "print('===== Second case =====')\n",
    "\n",
    "gen = double()\n",
    "print(gen.send(None))\n",
    "print('*' * 10)\n",
    "print(gen.send(100))\n",
    "print('*' * 10)\n",
    "print(gen.send(200))\n"
   ]
  },
  {
   "cell_type": "code",
   "execution_count": null,
   "metadata": {
    "collapsed": true
   },
   "outputs": [],
   "source": [
    "def support(version):\n",
    "    def wrap(func):\n",
    "        def inner(*args, **kwargs):\n",
    "        \n",
    "        return inner\n",
    "    return wrap\n",
    "\n",
    "@support('1.0')\n",
    "def foo(name):\n",
    "    print 'hello ', name\n",
    "    \n",
    "@support('2.0')\n",
    "def foo(name, how):\n",
    "    print how, ' ', name\n",
    "    \n"
   ]
  },
  {
   "cell_type": "code",
   "execution_count": 3,
   "metadata": {},
   "outputs": [
    {
     "name": "stdout",
     "output_type": "stream",
     "text": [
      "PRCTI\n",
      "PRCIT\n",
      "PRTCI\n",
      "PRTIC\n",
      "PRICT\n",
      "PRITC\n",
      "PCRTI\n",
      "PCRIT\n",
      "PCTRI\n",
      "PCTIR\n",
      "PCIRT\n",
      "PCITR\n",
      "PTRCI\n",
      "PTRIC\n",
      "PTCRI\n",
      "PTCIR\n",
      "PTIRC\n",
      "PTICR\n",
      "PIRCT\n",
      "PIRTC\n",
      "PICRT\n",
      "PICTR\n",
      "PITRC\n",
      "PITCR\n",
      "RPCTI\n",
      "RPCIT\n",
      "RPTCI\n",
      "RPTIC\n",
      "RPICT\n",
      "RPITC\n",
      "RCPTI\n",
      "RCPIT\n",
      "RCTPI\n",
      "RCTIP\n",
      "RCIPT\n",
      "RCITP\n",
      "RTPCI\n",
      "RTPIC\n",
      "RTCPI\n",
      "RTCIP\n",
      "RTIPC\n",
      "RTICP\n",
      "RIPCT\n",
      "RIPTC\n",
      "RICPT\n",
      "RICTP\n",
      "RITPC\n",
      "RITCP\n",
      "CPRTI\n",
      "CPRIT\n",
      "CPTRI\n",
      "CPTIR\n",
      "CPIRT\n",
      "CPITR\n",
      "CRPTI\n",
      "CRPIT\n",
      "CRTPI\n",
      "CRTIP\n",
      "CRIPT\n",
      "CRITP\n",
      "CTPRI\n",
      "CTPIR\n",
      "CTRPI\n",
      "CTRIP\n",
      "CTIPR\n",
      "CTIRP\n",
      "CIPRT\n",
      "CIPTR\n",
      "CIRPT\n",
      "CIRTP\n",
      "CITPR\n",
      "CITRP\n",
      "TPRCI\n",
      "TPRIC\n",
      "TPCRI\n",
      "TPCIR\n",
      "TPIRC\n",
      "TPICR\n",
      "TRPCI\n",
      "TRPIC\n",
      "TRCPI\n",
      "TRCIP\n",
      "TRIPC\n",
      "TRICP\n",
      "TCPRI\n",
      "TCPIR\n",
      "TCRPI\n",
      "TCRIP\n",
      "TCIPR\n",
      "TCIRP\n",
      "TIPRC\n",
      "TIPCR\n",
      "TIRPC\n",
      "TIRCP\n",
      "TICPR\n",
      "TICRP\n",
      "IPRCT\n",
      "IPRTC\n",
      "IPCRT\n",
      "IPCTR\n",
      "IPTRC\n",
      "IPTCR\n",
      "IRPCT\n",
      "IRPTC\n",
      "IRCPT\n",
      "IRCTP\n",
      "IRTPC\n",
      "IRTCP\n",
      "ICPRT\n",
      "ICPTR\n",
      "ICRPT\n",
      "ICRTP\n",
      "ICTPR\n",
      "ICTRP\n",
      "ITPRC\n",
      "ITPCR\n",
      "ITRPC\n",
      "ITRCP\n",
      "ITCPR\n",
      "ITCRP\n"
     ]
    }
   ],
   "source": [
    "from itertools import permutations\n",
    "\n",
    "for each in permutations(['P', 'R', 'C', 'T', 'I']):\n",
    "    print(''.join(each))"
   ]
  },
  {
   "cell_type": "code",
   "execution_count": 35,
   "metadata": {},
   "outputs": [
    {
     "name": "stdout",
     "output_type": "stream",
     "text": [
      "p10 matches:  abc\n",
      "p11 matches:  \n",
      "p12 matches:  a\n",
      "p20 matches:  abc efg\n",
      "p21 matches:  \n",
      "p22 matches:  a\n"
     ]
    }
   ],
   "source": [
    "import re\n",
    "\n",
    "s = 'abc efg'\n",
    "\n",
    "# \\w to match [a-zA-z0-9_]\n",
    "p10 = re.compile(r'\\w*')\n",
    "p11 = re.compile(r'\\w*?') # non-greedy for *\n",
    "p12 = re.compile(r'\\w+?') # non-greedy for +\n",
    "print 'p10 matches: ', p10.match(s1).group()\n",
    "print 'p11 matches: ', p11.match(s1).group()\n",
    "print 'p12 matches: ', p12.match(s1).group()\n",
    "\n",
    "\n",
    "# . to match [a-zA-z0-9_]\n",
    "p20 = re.compile(r'.*')\n",
    "p21 = re.compile(r'\\w*?') # non-greedy for *\n",
    "p22 = re.compile(r'\\w+?') # non-greedy for +\n",
    "print 'p20 matches: ', p20.match(s1).group()\n",
    "print 'p21 matches: ', p21.match(s1).group()\n",
    "print 'p22 matches: ', p22.match(s1).group()\n",
    "\n"
   ]
  },
  {
   "cell_type": "code",
   "execution_count": 13,
   "metadata": {},
   "outputs": [
    {
     "name": "stdout",
     "output_type": "stream",
     "text": [
      "round_num:  100\n",
      "after rounded.\n"
     ]
    }
   ],
   "source": [
    "def _round_not_used_directly(round_num):\n",
    "    def _real_dec(func):\n",
    "        def _inner(*args, **kwargs):\n",
    "            print 'round_num: ', round_num\n",
    "            return func(*args, **kwargs)\n",
    "        \n",
    "        return _inner\n",
    "    \n",
    "    return _real_dec\n",
    "    \n",
    "round_2 = _round_not_used_directly(2)\n",
    "round_100 = _round_not_used_directly(100)\n",
    "\n",
    "@round_100\n",
    "def be_rounded():\n",
    "    print 'after rounded.'\n",
    "    \n",
    "    \n",
    "be_rounded()"
   ]
  },
  {
   "cell_type": "code",
   "execution_count": 9,
   "metadata": {},
   "outputs": [
    {
     "name": "stdout",
     "output_type": "stream",
     "text": [
      "inner case 2 {}\n"
     ]
    },
    {
     "ename": "TypeError",
     "evalue": "'str' object is not callable",
     "output_type": "error",
     "traceback": [
      "\u001b[1;31m---------------------------------------------------------------------------\u001b[0m",
      "\u001b[1;31mTypeError\u001b[0m                                 Traceback (most recent call last)",
      "\u001b[1;32m<ipython-input-9-eb3d8c8a31e2>\u001b[0m in \u001b[0;36m<module>\u001b[1;34m()\u001b[0m\n\u001b[0;32m     31\u001b[0m     \u001b[1;32mprint\u001b[0m \u001b[1;34m\"under_test3\"\u001b[0m\u001b[1;33m\u001b[0m\u001b[0m\n\u001b[0;32m     32\u001b[0m \u001b[1;33m\u001b[0m\u001b[0m\n\u001b[1;32m---> 33\u001b[1;33m \u001b[1;33m@\u001b[0m\u001b[0mdec\u001b[0m\u001b[1;33m(\u001b[0m\u001b[1;34m'a'\u001b[0m\u001b[1;33m)\u001b[0m\u001b[1;33m\u001b[0m\u001b[0m\n\u001b[0m\u001b[0;32m     34\u001b[0m \u001b[1;32mdef\u001b[0m \u001b[0munder_test4\u001b[0m\u001b[1;33m(\u001b[0m\u001b[1;33m)\u001b[0m\u001b[1;33m:\u001b[0m\u001b[1;33m\u001b[0m\u001b[0m\n\u001b[0;32m     35\u001b[0m     \u001b[1;32mprint\u001b[0m \u001b[1;34m\"under_test4\"\u001b[0m\u001b[1;33m\u001b[0m\u001b[0m\n",
      "\u001b[1;32m<ipython-input-9-eb3d8c8a31e2>\u001b[0m in \u001b[0;36minner2\u001b[1;34m(*args2, **kwargs2)\u001b[0m\n\u001b[0;32m      9\u001b[0m     \u001b[1;32mdef\u001b[0m \u001b[0minner2\u001b[0m\u001b[1;33m(\u001b[0m\u001b[1;33m*\u001b[0m\u001b[0margs2\u001b[0m\u001b[1;33m,\u001b[0m \u001b[1;33m**\u001b[0m\u001b[0mkwargs2\u001b[0m\u001b[1;33m)\u001b[0m\u001b[1;33m:\u001b[0m\u001b[1;33m\u001b[0m\u001b[0m\n\u001b[0;32m     10\u001b[0m         \u001b[1;32mprint\u001b[0m \u001b[1;34m\"inner case 2\"\u001b[0m\u001b[1;33m,\u001b[0m \u001b[0mkwargs\u001b[0m\u001b[1;33m\u001b[0m\u001b[0m\n\u001b[1;32m---> 11\u001b[1;33m         \u001b[1;32mreturn\u001b[0m \u001b[0mcall\u001b[0m\u001b[1;33m(\u001b[0m\u001b[1;33m*\u001b[0m\u001b[0margs2\u001b[0m\u001b[1;33m,\u001b[0m \u001b[1;33m**\u001b[0m\u001b[0mkwargs2\u001b[0m\u001b[1;33m)\u001b[0m\u001b[1;33m\u001b[0m\u001b[0m\n\u001b[0m\u001b[0;32m     12\u001b[0m     \u001b[1;32mif\u001b[0m \u001b[1;32mnot\u001b[0m \u001b[0margs\u001b[0m\u001b[1;33m:\u001b[0m\u001b[1;33m\u001b[0m\u001b[0m\n\u001b[0;32m     13\u001b[0m         \u001b[1;32mreturn\u001b[0m \u001b[0minner1\u001b[0m\u001b[1;33m\u001b[0m\u001b[0m\n",
      "\u001b[1;31mTypeError\u001b[0m: 'str' object is not callable"
     ]
    }
   ],
   "source": [
    "def dec(*args, **kwargs):\n",
    "\n",
    "    def inner1(func):\n",
    "        def _inn(*args2, **kwargs2):\n",
    "            print \"inner case 1:\", kwargs\n",
    "            return func(*args2, **kwargs2)\n",
    "        return _inn\n",
    "\n",
    "    def inner2(*args2, **kwargs2):\n",
    "        print \"inner case 2\", kwargs\n",
    "        return call(*args2, **kwargs2)\n",
    "    if not args:\n",
    "        return inner1\n",
    "\n",
    "    call = args[0]\n",
    "    return inner2\n",
    "\n",
    "\n",
    "@dec(d1='AA')\n",
    "def under_test(c, hello='aa'):\n",
    "    print \"under_test\", c, hello\n",
    "\n",
    "\n",
    "@dec()\n",
    "def under_test2():\n",
    "    print \"under_test2\"\n",
    "\n",
    "\n",
    "@dec\n",
    "def under_test3():\n",
    "    print \"under_test3\"\n",
    "    \n",
    "@dec('a')\n",
    "def under_test4():\n",
    "    print \"under_test4\"\n",
    "\n",
    "under_test(c=\"peter\")\n",
    "under_test2()\n",
    "under_test3()\n"
   ]
  },
  {
   "cell_type": "code",
   "execution_count": 7,
   "metadata": {},
   "outputs": [
    {
     "ename": "TypeError",
     "evalue": "sequence item 0: expected string, instance found",
     "output_type": "error",
     "traceback": [
      "\u001b[1;31m---------------------------------------------------------------------------\u001b[0m",
      "\u001b[1;31mTypeError\u001b[0m                                 Traceback (most recent call last)",
      "\u001b[1;32m<ipython-input-7-92679031dcff>\u001b[0m in \u001b[0;36m<module>\u001b[1;34m()\u001b[0m\n\u001b[0;32m      9\u001b[0m \u001b[0mb\u001b[0m \u001b[1;33m=\u001b[0m \u001b[0mA\u001b[0m\u001b[1;33m(\u001b[0m\u001b[1;34m'bbb'\u001b[0m\u001b[1;33m)\u001b[0m\u001b[1;33m\u001b[0m\u001b[0m\n\u001b[0;32m     10\u001b[0m \u001b[1;33m\u001b[0m\u001b[0m\n\u001b[1;32m---> 11\u001b[1;33m \u001b[1;34m'; '\u001b[0m\u001b[1;33m.\u001b[0m\u001b[0mjoin\u001b[0m\u001b[1;33m(\u001b[0m\u001b[1;33m(\u001b[0m\u001b[0ma\u001b[0m\u001b[1;33m,\u001b[0m \u001b[0mb\u001b[0m\u001b[1;33m)\u001b[0m\u001b[1;33m)\u001b[0m\u001b[1;33m\u001b[0m\u001b[0m\n\u001b[0m",
      "\u001b[1;31mTypeError\u001b[0m: sequence item 0: expected string, instance found"
     ]
    }
   ],
   "source": [
    "class A():\n",
    "    def __init__(self, name):\n",
    "        self.name = name\n",
    "        \n",
    "    def __str__(self):\n",
    "        return self.name\n",
    "        \n",
    "a = A('aaa')\n",
    "b = A('bbb')\n",
    "\n",
    "['; '.join((a, b))]"
   ]
  },
  {
   "cell_type": "code",
   "execution_count": 8,
   "metadata": {},
   "outputs": [
    {
     "name": "stdout",
     "output_type": "stream",
     "text": [
      "{u'@base': u'https://10.25.8.197/api/types/basicSystemInfo/instances?per_page=2000', u'updated': u'2016-06-30T06:05:32.139Z', u'links': [{u'href': u'&page=1', u'rel': u'self'}], u'entries': [{u'content': {u'name': u'FNM00131100290', u'earliestApiVersion': u'4.0', u'apiVersion': u'4.0', u'softwareVersion': u'4.0.0', u'model': u'VNXe3200', u'id': u'0'}, u'@base': u'https://10.25.8.197/api/instances/basicSystemInfo', u'updated': u'2016-06-30T06:05:32.139Z', u'links': [{u'href': u'/0', u'rel': u'self'}]}]}\n"
     ]
    }
   ],
   "source": [
    "import urllib2\n",
    "import json\n",
    "\n",
    "HEADERS = {'Accept': 'application/json',\n",
    "               'Content-Type': 'application/json',\n",
    "               'Accept_Language': 'en_US',\n",
    "               'Visibility': 'Enduser',\n",
    "               'X-EMC-REST-CLIENT': 'true',\n",
    "               'User-agent': 'EMC-OpenStack'}\n",
    "\n",
    "mgmt_url = 'https://%(host)s:%(port)s' % {'host': '10.25.8.197', 'port': 443}\n",
    "url = '{}{}'.format(mgmt_url, '/api/types/basicSystemInfo/instances')\n",
    "\n",
    "req = urllib2.Request(url, None, HEADERS)\n",
    "\n",
    "import ssl\n",
    "ctx = ssl.create_default_context()\n",
    "ctx.check_hostname = False\n",
    "ctx.verify_mode = ssl.CERT_NONE\n",
    "\n",
    "\n",
    "https_hander = urllib2.HTTPSHandler(context=ctx)\n",
    "#cookie_jar = cookielib.CookieJar()\n",
    "#cookie_hander = urllib2.HTTPCookieProcessor(cookie_jar)\n",
    "passwd_mgr = urllib2.HTTPPasswordMgrWithDefaultRealm()\n",
    "passwd_mgr.add_password('Security Realm',\n",
    "                        mgmt_url,\n",
    "                        'Local/admin',\n",
    "                        'Password123!')\n",
    "auth_handler = urllib2.HTTPBasicAuthHandler(passwd_mgr)\n",
    "\n",
    "\n",
    "url_opener = urllib2.build_opener(https_hander, auth_handler)\n",
    "\n",
    "resp = url_opener.open(req)\n",
    "       \n",
    "resp_body = resp.read()\n",
    "resp_data = json.loads(resp_body) if resp_body else None\n",
    "\n",
    "\n",
    "print resp_data"
   ]
  },
  {
   "cell_type": "code",
   "execution_count": 30,
   "metadata": {},
   "outputs": [
    {
     "data": {
      "text/plain": [
       "{'a': 'a', 'b': 'a'}"
      ]
     },
     "execution_count": 30,
     "metadata": {},
     "output_type": "execute_result"
    }
   ],
   "source": [
    "dict([(name, 'a')for name in ('a', 'b')])"
   ]
  },
  {
   "cell_type": "code",
   "execution_count": 27,
   "metadata": {},
   "outputs": [
    {
     "name": "stdout",
     "output_type": "stream",
     "text": [
      "[_HelpAction(option_strings=['-h', '--help'], dest='help', nargs=0, const=None, default='==SUPPRESS==', type=None, choices=None, help='show this help message and exit', metavar=None), _StoreAction(option_strings=['--foo'], dest='foo', nargs=None, const=None, default='badger', type=None, choices=None, help=None, metavar=None), _StoreTrueAction(option_strings=['--verbose'], dest='verbose', nargs=0, const=True, default=False, type=None, choices=None, help=None, metavar=None)]\n",
      "[_HelpAction(option_strings=['-h', '--help'], dest='help', nargs=0, const=None, default='==SUPPRESS==', type=None, choices=None, help='show this help message and exit', metavar=None), _StoreAction(option_strings=['--foo'], dest='foo', nargs=None, const=None, default='badger', type=None, choices=None, help=None, metavar=None), _StoreTrueAction(option_strings=['--verbose'], dest='verbose', nargs=0, const=True, default='0', type=None, choices=None, help=None, metavar=None)]\n",
      "['__call__', '__class__', '__delattr__', '__dict__', '__doc__', '__format__', '__getattribute__', '__hash__', '__init__', '__module__', '__new__', '__reduce__', '__reduce_ex__', '__repr__', '__setattr__', '__sizeof__', '__str__', '__subclasshook__', '__weakref__', '_get_args', '_get_kwargs', 'choices', 'const', 'container', 'default', 'dest', 'help', 'metavar', 'nargs', 'option_strings', 'required', 'type']\n",
      "foo\n",
      "Namespace(foo='badger', verbose='0')\n",
      "True\n"
     ]
    }
   ],
   "source": [
    "import argparse\n",
    "parser = argparse.ArgumentParser()\n",
    "parser.add_argument('--foo', default='badger')\n",
    "parser.add_argument('--verbose', action='store_true')\n",
    "print parser._actions\n",
    "\n",
    "parser.set_defaults(verbose='0')\n",
    "print parser._actions\n",
    "\n",
    "print dir(parser._actions[1])\n",
    "print parser._actions[1].dest\n",
    "args = parser.parse_args([])\n",
    "print args\n",
    "if args.verbose:\n",
    "    print 'True'"
   ]
  },
  {
   "cell_type": "code",
   "execution_count": 1,
   "metadata": {},
   "outputs": [
    {
     "ename": "SyntaxError",
     "evalue": "invalid syntax (<ipython-input-1-961b0c77d407>, line 1)",
     "output_type": "error",
     "traceback": [
      "\u001b[1;36m  File \u001b[1;32m\"<ipython-input-1-961b0c77d407>\"\u001b[1;36m, line \u001b[1;32m1\u001b[0m\n\u001b[1;33m    type(print)\u001b[0m\n\u001b[1;37m             ^\u001b[0m\n\u001b[1;31mSyntaxError\u001b[0m\u001b[1;31m:\u001b[0m invalid syntax\n"
     ]
    }
   ],
   "source": [
    "type(print)"
   ]
  },
  {
   "cell_type": "code",
   "execution_count": null,
   "metadata": {},
   "outputs": [],
   "source": [
    "help(print)"
   ]
  },
  {
   "cell_type": "code",
   "execution_count": null,
   "metadata": {},
   "outputs": [],
   "source": [
    "print \"hello\""
   ]
  },
  {
   "cell_type": "code",
   "execution_count": null,
   "metadata": {},
   "outputs": [],
   "source": [
    "help(print)"
   ]
  },
  {
   "cell_type": "code",
   "execution_count": null,
   "metadata": {},
   "outputs": [],
   "source": [
    "help(type)"
   ]
  },
  {
   "cell_type": "code",
   "execution_count": null,
   "metadata": {},
   "outputs": [],
   "source": [
    "type('abb')"
   ]
  },
  {
   "cell_type": "code",
   "execution_count": null,
   "metadata": {},
   "outputs": [],
   "source": [
    "type('a') == str"
   ]
  },
  {
   "cell_type": "code",
   "execution_count": null,
   "metadata": {},
   "outputs": [],
   "source": [
    "type(('a', 'b')) == tuple"
   ]
  },
  {
   "cell_type": "code",
   "execution_count": null,
   "metadata": {},
   "outputs": [],
   "source": [
    "'adfsdf'"
   ]
  },
  {
   "cell_type": "code",
   "execution_count": null,
   "metadata": {
    "collapsed": true
   },
   "outputs": [],
   "source": [
    "\"sdlfdlf\""
   ]
  },
  {
   "cell_type": "code",
   "execution_count": null,
   "metadata": {
    "collapsed": true
   },
   "outputs": [],
   "source": [
    "def add_one(x=[], y=[], z=[]):\n",
    "    z.append(1)\n",
    "    return z"
   ]
  },
  {
   "cell_type": "code",
   "execution_count": null,
   "metadata": {},
   "outputs": [],
   "source": [
    "dir(add_one)"
   ]
  },
  {
   "cell_type": "code",
   "execution_count": null,
   "metadata": {
    "collapsed": true
   },
   "outputs": [],
   "source": [
    "add_one.func_closure"
   ]
  },
  {
   "cell_type": "code",
   "execution_count": null,
   "metadata": {},
   "outputs": [],
   "source": [
    "add_one.func_dict"
   ]
  },
  {
   "cell_type": "code",
   "execution_count": null,
   "metadata": {},
   "outputs": [],
   "source": [
    "add_one.func_globals"
   ]
  },
  {
   "cell_type": "code",
   "execution_count": null,
   "metadata": {},
   "outputs": [],
   "source": [
    "add_one.func_defaults"
   ]
  },
  {
   "cell_type": "code",
   "execution_count": null,
   "metadata": {},
   "outputs": [],
   "source": [
    "add_one()"
   ]
  },
  {
   "cell_type": "code",
   "execution_count": null,
   "metadata": {},
   "outputs": [],
   "source": [
    "add_one()"
   ]
  },
  {
   "cell_type": "code",
   "execution_count": null,
   "metadata": {},
   "outputs": [],
   "source": [
    "add_one.func_defaults"
   ]
  },
  {
   "cell_type": "code",
   "execution_count": null,
   "metadata": {
    "collapsed": true
   },
   "outputs": [],
   "source": [
    "def foo():\n",
    "    print \"Locals: {}\".format(locals())\n",
    "    print \"In foo: x = {}\".format(x)\n",
    "    x = 100\n"
   ]
  },
  {
   "cell_type": "code",
   "execution_count": null,
   "metadata": {},
   "outputs": [],
   "source": [
    "foo()"
   ]
  },
  {
   "cell_type": "code",
   "execution_count": null,
   "metadata": {
    "collapsed": true
   },
   "outputs": [],
   "source": []
  },
  {
   "cell_type": "code",
   "execution_count": null,
   "metadata": {},
   "outputs": [],
   "source": [
    "foo()"
   ]
  },
  {
   "cell_type": "code",
   "execution_count": null,
   "metadata": {},
   "outputs": [],
   "source": [
    "print 'a',"
   ]
  },
  {
   "cell_type": "code",
   "execution_count": null,
   "metadata": {},
   "outputs": [],
   "source": [
    "print 'a'"
   ]
  },
  {
   "cell_type": "code",
   "execution_count": null,
   "metadata": {
    "collapsed": true
   },
   "outputs": [],
   "source": [
    "def foo():\n",
    "    def bar():\n",
    "        return 100\n",
    "    return bar"
   ]
  },
  {
   "cell_type": "code",
   "execution_count": null,
   "metadata": {},
   "outputs": [],
   "source": [
    "dir(foo)"
   ]
  },
  {
   "cell_type": "code",
   "execution_count": null,
   "metadata": {
    "collapsed": true
   },
   "outputs": [],
   "source": [
    "foo.func_closure"
   ]
  },
  {
   "cell_type": "code",
   "execution_count": null,
   "metadata": {},
   "outputs": [],
   "source": [
    "print(foo.func_closure)"
   ]
  },
  {
   "cell_type": "code",
   "execution_count": null,
   "metadata": {
    "collapsed": true
   },
   "outputs": [],
   "source": [
    "x = foo()"
   ]
  },
  {
   "cell_type": "code",
   "execution_count": null,
   "metadata": {
    "collapsed": true
   },
   "outputs": [],
   "source": [
    "x.func_closure"
   ]
  },
  {
   "cell_type": "code",
   "execution_count": null,
   "metadata": {},
   "outputs": [],
   "source": [
    "x.func_name"
   ]
  },
  {
   "cell_type": "code",
   "execution_count": null,
   "metadata": {},
   "outputs": [],
   "source": [
    "x.func_globals"
   ]
  },
  {
   "cell_type": "code",
   "execution_count": null,
   "metadata": {
    "collapsed": true
   },
   "outputs": [],
   "source": [
    "def mul(x):\n",
    "    def byx(y):\n",
    "        return x * y\n",
    "    return byx\n",
    "\n",
    "by10 = mul(10)"
   ]
  },
  {
   "cell_type": "code",
   "execution_count": null,
   "metadata": {},
   "outputs": [],
   "source": [
    "by10\n"
   ]
  },
  {
   "cell_type": "code",
   "execution_count": null,
   "metadata": {},
   "outputs": [],
   "source": [
    "by10.func_name"
   ]
  },
  {
   "cell_type": "code",
   "execution_count": null,
   "metadata": {},
   "outputs": [],
   "source": [
    "by10.func_closure"
   ]
  },
  {
   "cell_type": "code",
   "execution_count": null,
   "metadata": {
    "collapsed": true
   },
   "outputs": [],
   "source": [
    "by10.func_defaults"
   ]
  },
  {
   "cell_type": "code",
   "execution_count": null,
   "metadata": {},
   "outputs": [],
   "source": [
    "by10.func_code"
   ]
  },
  {
   "cell_type": "code",
   "execution_count": null,
   "metadata": {},
   "outputs": [],
   "source": [
    "by10.__annotations__"
   ]
  },
  {
   "cell_type": "code",
   "execution_count": null,
   "metadata": {},
   "outputs": [],
   "source": [
    "foo.__annotations__"
   ]
  },
  {
   "cell_type": "code",
   "execution_count": null,
   "metadata": {},
   "outputs": [],
   "source": [
    "dir(by10)\n"
   ]
  },
  {
   "cell_type": "code",
   "execution_count": null,
   "metadata": {},
   "outputs": [],
   "source": [
    "dir(foo)"
   ]
  },
  {
   "cell_type": "code",
   "execution_count": null,
   "metadata": {
    "collapsed": true
   },
   "outputs": [],
   "source": [
    "l = [[], []]"
   ]
  },
  {
   "cell_type": "code",
   "execution_count": null,
   "metadata": {
    "collapsed": true
   },
   "outputs": [],
   "source": [
    "l1 = l[0]\n",
    "l2 = l[1]\n"
   ]
  },
  {
   "cell_type": "code",
   "execution_count": null,
   "metadata": {},
   "outputs": [],
   "source": [
    "l1"
   ]
  },
  {
   "cell_type": "code",
   "execution_count": null,
   "metadata": {
    "collapsed": true
   },
   "outputs": [],
   "source": [
    "l1.append('a')"
   ]
  },
  {
   "cell_type": "code",
   "execution_count": null,
   "metadata": {},
   "outputs": [],
   "source": [
    "l1"
   ]
  },
  {
   "cell_type": "code",
   "execution_count": null,
   "metadata": {},
   "outputs": [],
   "source": [
    "l"
   ]
  },
  {
   "cell_type": "code",
   "execution_count": null,
   "metadata": {
    "collapsed": true
   },
   "outputs": [],
   "source": [
    "l3 = l[0:1]"
   ]
  },
  {
   "cell_type": "code",
   "execution_count": null,
   "metadata": {},
   "outputs": [],
   "source": [
    "l3"
   ]
  },
  {
   "cell_type": "code",
   "execution_count": null,
   "metadata": {},
   "outputs": [],
   "source": [
    "l3[0]"
   ]
  },
  {
   "cell_type": "code",
   "execution_count": null,
   "metadata": {
    "collapsed": true
   },
   "outputs": [],
   "source": [
    "l3[0].append('b')"
   ]
  },
  {
   "cell_type": "code",
   "execution_count": null,
   "metadata": {},
   "outputs": [],
   "source": [
    "l3"
   ]
  },
  {
   "cell_type": "code",
   "execution_count": null,
   "metadata": {},
   "outputs": [],
   "source": [
    "l"
   ]
  },
  {
   "cell_type": "code",
   "execution_count": null,
   "metadata": {
    "collapsed": true
   },
   "outputs": [],
   "source": [
    "l3.append(['c'])"
   ]
  },
  {
   "cell_type": "code",
   "execution_count": null,
   "metadata": {},
   "outputs": [],
   "source": [
    "l3"
   ]
  },
  {
   "cell_type": "code",
   "execution_count": null,
   "metadata": {},
   "outputs": [],
   "source": [
    "l"
   ]
  },
  {
   "cell_type": "code",
   "execution_count": null,
   "metadata": {
    "collapsed": true
   },
   "outputs": [],
   "source": [
    "l = [[1,2,3], [11,22,33]]"
   ]
  },
  {
   "cell_type": "code",
   "execution_count": null,
   "metadata": {},
   "outputs": [],
   "source": [
    "l"
   ]
  },
  {
   "cell_type": "code",
   "execution_count": null,
   "metadata": {
    "collapsed": true
   },
   "outputs": [],
   "source": [
    "l1 = l[0]"
   ]
  },
  {
   "cell_type": "code",
   "execution_count": null,
   "metadata": {},
   "outputs": [],
   "source": [
    "l1"
   ]
  },
  {
   "cell_type": "code",
   "execution_count": null,
   "metadata": {
    "collapsed": true
   },
   "outputs": [],
   "source": [
    "l1[2] = 99"
   ]
  },
  {
   "cell_type": "code",
   "execution_count": null,
   "metadata": {},
   "outputs": [],
   "source": [
    "l"
   ]
  },
  {
   "cell_type": "code",
   "execution_count": null,
   "metadata": {},
   "outputs": [],
   "source": [
    "loop\n",
    "\n"
   ]
  },
  {
   "cell_type": "code",
   "execution_count": null,
   "metadata": {},
   "outputs": [],
   "source": [
    "dir(list)"
   ]
  },
  {
   "cell_type": "code",
   "execution_count": null,
   "metadata": {
    "collapsed": true
   },
   "outputs": [],
   "source": [
    "l = [1,2,3]"
   ]
  },
  {
   "cell_type": "code",
   "execution_count": null,
   "metadata": {},
   "outputs": [],
   "source": [
    "enumerate(l)"
   ]
  },
  {
   "cell_type": "code",
   "execution_count": null,
   "metadata": {},
   "outputs": [],
   "source": [
    "enumerate(l)"
   ]
  },
  {
   "cell_type": "code",
   "execution_count": null,
   "metadata": {},
   "outputs": [],
   "source": [
    "enumerate(l)"
   ]
  },
  {
   "cell_type": "code",
   "execution_count": null,
   "metadata": {},
   "outputs": [],
   "source": [
    "enumerate(l)"
   ]
  },
  {
   "cell_type": "code",
   "execution_count": null,
   "metadata": {},
   "outputs": [],
   "source": [
    "print(enumerate(l))"
   ]
  },
  {
   "cell_type": "code",
   "execution_count": null,
   "metadata": {},
   "outputs": [],
   "source": [
    "print enumerate(l)"
   ]
  },
  {
   "cell_type": "code",
   "execution_count": null,
   "metadata": {},
   "outputs": [],
   "source": [
    "l"
   ]
  },
  {
   "cell_type": "code",
   "execution_count": null,
   "metadata": {
    "collapsed": true
   },
   "outputs": [],
   "source": [
    "e = enumerate(l)"
   ]
  },
  {
   "cell_type": "code",
   "execution_count": null,
   "metadata": {},
   "outputs": [],
   "source": [
    "e"
   ]
  },
  {
   "cell_type": "code",
   "execution_count": null,
   "metadata": {},
   "outputs": [],
   "source": [
    "dir(e)"
   ]
  },
  {
   "cell_type": "code",
   "execution_count": null,
   "metadata": {},
   "outputs": [],
   "source": [
    "e.next"
   ]
  },
  {
   "cell_type": "code",
   "execution_count": null,
   "metadata": {},
   "outputs": [],
   "source": [
    "help(list.sort)"
   ]
  },
  {
   "cell_type": "code",
   "execution_count": null,
   "metadata": {},
   "outputs": [],
   "source": [
    "help(str.lower)"
   ]
  },
  {
   "cell_type": "code",
   "execution_count": null,
   "metadata": {},
   "outputs": [],
   "source": [
    "help(str.cmp)"
   ]
  },
  {
   "cell_type": "code",
   "execution_count": null,
   "metadata": {},
   "outputs": [],
   "source": [
    "help(cmp)"
   ]
  },
  {
   "cell_type": "code",
   "execution_count": null,
   "metadata": {},
   "outputs": [],
   "source": [
    "def getSize(item):\n",
    "    return item['size']\n",
    "\n",
    "shoes = [{'brand':'adidas', 'color': 'red', 'size': 41}, {'brand':'nike', 'color': 'red', 'size': 40}, {'brand':'puma', 'color': 'red', 'size': 47}]\n",
    "\n",
    "shoes.sort(key=getSize)"
   ]
  },
  {
   "cell_type": "code",
   "execution_count": null,
   "metadata": {},
   "outputs": [],
   "source": []
  },
  {
   "cell_type": "code",
   "execution_count": null,
   "metadata": {},
   "outputs": [],
   "source": [
    "help(sorted)"
   ]
  },
  {
   "cell_type": "code",
   "execution_count": null,
   "metadata": {},
   "outputs": [],
   "source": [
    "dir(sorted)"
   ]
  },
  {
   "cell_type": "code",
   "execution_count": null,
   "metadata": {},
   "outputs": [],
   "source": [
    "sorted.__class__\n"
   ]
  },
  {
   "cell_type": "code",
   "execution_count": null,
   "metadata": {
    "collapsed": true
   },
   "outputs": [],
   "source": [
    "da = {'a':1, 'b':2}\n",
    "db = {'c':10, 'd':20}\n",
    "dc = {'a':11, 'c':15}"
   ]
  },
  {
   "cell_type": "code",
   "execution_count": null,
   "metadata": {},
   "outputs": [],
   "source": [
    "print(sorted([da, db, dc]))"
   ]
  },
  {
   "cell_type": "code",
   "execution_count": null,
   "metadata": {},
   "outputs": [],
   "source": [
    "shoes"
   ]
  },
  {
   "cell_type": "code",
   "execution_count": null,
   "metadata": {
    "collapsed": true
   },
   "outputs": [],
   "source": [
    "shoes.append({'brand':'bbbb', 'color': 'red', 'size':41})"
   ]
  },
  {
   "cell_type": "code",
   "execution_count": null,
   "metadata": {},
   "outputs": [],
   "source": [
    "shoes"
   ]
  },
  {
   "cell_type": "code",
   "execution_count": null,
   "metadata": {
    "collapsed": true
   },
   "outputs": [],
   "source": [
    "def mycmp(s1, s2):\n",
    "    if cmp(s1['size'], s2['size']) == 0:\n",
    "        return -cmp(s1['brand'], s2['brand'])\n",
    "    else:\n",
    "        return cmp(s1['size'], s2['size'])"
   ]
  },
  {
   "cell_type": "code",
   "execution_count": null,
   "metadata": {},
   "outputs": [],
   "source": [
    "sorted(shoes, cmp=mycmp)"
   ]
  },
  {
   "cell_type": "code",
   "execution_count": null,
   "metadata": {
    "collapsed": true
   },
   "outputs": [],
   "source": [
    "import os"
   ]
  },
  {
   "cell_type": "code",
   "execution_count": null,
   "metadata": {},
   "outputs": [],
   "source": [
    "os.sep\n"
   ]
  },
  {
   "cell_type": "code",
   "execution_count": null,
   "metadata": {},
   "outputs": [],
   "source": [
    "os"
   ]
  },
  {
   "cell_type": "code",
   "execution_count": null,
   "metadata": {
    "collapsed": true
   },
   "outputs": [],
   "source": [
    "import mymod"
   ]
  },
  {
   "cell_type": "code",
   "execution_count": null,
   "metadata": {},
   "outputs": [],
   "source": [
    "dir(mymod)"
   ]
  },
  {
   "cell_type": "code",
   "execution_count": null,
   "metadata": {
    "collapsed": true
   },
   "outputs": [],
   "source": [
    "mymod.__package__"
   ]
  },
  {
   "cell_type": "code",
   "execution_count": null,
   "metadata": {},
   "outputs": [],
   "source": [
    "help(mymod)"
   ]
  },
  {
   "cell_type": "code",
   "execution_count": null,
   "metadata": {},
   "outputs": [],
   "source": [
    "mymod"
   ]
  },
  {
   "cell_type": "code",
   "execution_count": null,
   "metadata": {},
   "outputs": [],
   "source": [
    "reload(mymod)"
   ]
  },
  {
   "cell_type": "code",
   "execution_count": null,
   "metadata": {},
   "outputs": [],
   "source": [
    "import mypack\n"
   ]
  },
  {
   "cell_type": "code",
   "execution_count": null,
   "metadata": {},
   "outputs": [],
   "source": [
    "import mypack"
   ]
  },
  {
   "cell_type": "code",
   "execution_count": null,
   "metadata": {},
   "outputs": [],
   "source": [
    "mypack\n"
   ]
  },
  {
   "cell_type": "code",
   "execution_count": null,
   "metadata": {},
   "outputs": [],
   "source": [
    "dir(mypack)"
   ]
  },
  {
   "cell_type": "code",
   "execution_count": null,
   "metadata": {
    "collapsed": true
   },
   "outputs": [],
   "source": [
    "mypack.__package__"
   ]
  },
  {
   "cell_type": "code",
   "execution_count": null,
   "metadata": {},
   "outputs": [],
   "source": [
    "reload(mypack)"
   ]
  },
  {
   "cell_type": "code",
   "execution_count": null,
   "metadata": {},
   "outputs": [],
   "source": [
    "dir(mypack)"
   ]
  },
  {
   "cell_type": "code",
   "execution_count": null,
   "metadata": {
    "collapsed": true
   },
   "outputs": [],
   "source": [
    "import mypack.mymod"
   ]
  },
  {
   "cell_type": "code",
   "execution_count": null,
   "metadata": {},
   "outputs": [],
   "source": [
    "dir(mypack)"
   ]
  },
  {
   "cell_type": "code",
   "execution_count": null,
   "metadata": {
    "collapsed": true
   },
   "outputs": [],
   "source": [
    "mypack.__package__"
   ]
  },
  {
   "cell_type": "code",
   "execution_count": null,
   "metadata": {
    "collapsed": true
   },
   "outputs": [],
   "source": [
    "mymod.__package__"
   ]
  },
  {
   "cell_type": "code",
   "execution_count": null,
   "metadata": {},
   "outputs": [],
   "source": [
    "mymod"
   ]
  },
  {
   "cell_type": "code",
   "execution_count": null,
   "metadata": {},
   "outputs": [],
   "source": [
    "mypack.mymod"
   ]
  },
  {
   "cell_type": "code",
   "execution_count": null,
   "metadata": {
    "collapsed": true
   },
   "outputs": [],
   "source": [
    "mypack.mymod.__package__"
   ]
  },
  {
   "cell_type": "code",
   "execution_count": null,
   "metadata": {},
   "outputs": [],
   "source": [
    "type(class)"
   ]
  },
  {
   "cell_type": "code",
   "execution_count": null,
   "metadata": {},
   "outputs": [],
   "source": [
    "type('ab')"
   ]
  },
  {
   "cell_type": "code",
   "execution_count": null,
   "metadata": {},
   "outputs": [],
   "source": [
    "dir(type)"
   ]
  },
  {
   "cell_type": "code",
   "execution_count": null,
   "metadata": {},
   "outputs": [],
   "source": [
    "class Foo(object):\n",
    "    \n",
    "    def __init__(self, name):\n",
    "        self.name = name\n",
    "        Foo.count += 1\n",
    "        self._name = 'blabla'\n",
    "\n",
    "Foo.count = 0\n",
    "\n",
    "f = Foo('f1')\n",
    "\n",
    "f._name\n"
   ]
  },
  {
   "cell_type": "code",
   "execution_count": null,
   "metadata": {},
   "outputs": [],
   "source": [
    "dir(f)"
   ]
  },
  {
   "cell_type": "code",
   "execution_count": null,
   "metadata": {},
   "outputs": [],
   "source": [
    "dir(Foo)"
   ]
  },
  {
   "cell_type": "code",
   "execution_count": null,
   "metadata": {},
   "outputs": [],
   "source": [
    "l = [1,2,3]\n",
    "l[0:-1]"
   ]
  },
  {
   "cell_type": "code",
   "execution_count": null,
   "metadata": {},
   "outputs": [],
   "source": [
    "dir(super)"
   ]
  },
  {
   "cell_type": "code",
   "execution_count": null,
   "metadata": {},
   "outputs": [],
   "source": [
    "super"
   ]
  },
  {
   "cell_type": "code",
   "execution_count": null,
   "metadata": {},
   "outputs": [],
   "source": [
    "type(super)"
   ]
  },
  {
   "cell_type": "code",
   "execution_count": null,
   "metadata": {},
   "outputs": [],
   "source": [
    "help(type)"
   ]
  },
  {
   "cell_type": "code",
   "execution_count": null,
   "metadata": {},
   "outputs": [],
   "source": [
    "dir(Foo)"
   ]
  },
  {
   "cell_type": "code",
   "execution_count": null,
   "metadata": {},
   "outputs": [],
   "source": [
    "Foo.__class_\n"
   ]
  },
  {
   "cell_type": "code",
   "execution_count": null,
   "metadata": {},
   "outputs": [],
   "source": [
    "Foo.__class__()\n"
   ]
  },
  {
   "cell_type": "code",
   "execution_count": null,
   "metadata": {},
   "outputs": [],
   "source": [
    "super(Foo)"
   ]
  },
  {
   "cell_type": "code",
   "execution_count": null,
   "metadata": {},
   "outputs": [],
   "source": [
    "Foo.__classname__\n"
   ]
  },
  {
   "cell_type": "code",
   "execution_count": null,
   "metadata": {},
   "outputs": [],
   "source": [
    "Foo.__bases__"
   ]
  },
  {
   "cell_type": "code",
   "execution_count": null,
   "metadata": {},
   "outputs": [],
   "source": [
    "Foo.__name__"
   ]
  },
  {
   "cell_type": "code",
   "execution_count": null,
   "metadata": {},
   "outputs": [],
   "source": [
    "dir(str)"
   ]
  },
  {
   "cell_type": "code",
   "execution_count": null,
   "metadata": {},
   "outputs": [],
   "source": [
    "dir(int)"
   ]
  },
  {
   "cell_type": "code",
   "execution_count": null,
   "metadata": {
    "collapsed": true
   },
   "outputs": [],
   "source": [
    "def foo(*items):\n",
    "    for i in items:\n",
    "        print i\n",
    "\n"
   ]
  },
  {
   "cell_type": "code",
   "execution_count": null,
   "metadata": {},
   "outputs": [],
   "source": [
    "foo([1,2,3])"
   ]
  },
  {
   "cell_type": "code",
   "execution_count": null,
   "metadata": {},
   "outputs": [],
   "source": [
    "help(sorted)"
   ]
  },
  {
   "cell_type": "code",
   "execution_count": null,
   "metadata": {},
   "outputs": [],
   "source": [
    "foo(*[1,2,3])"
   ]
  },
  {
   "cell_type": "code",
   "execution_count": null,
   "metadata": {},
   "outputs": [],
   "source": [
    "dir(iter)"
   ]
  },
  {
   "cell_type": "code",
   "execution_count": null,
   "metadata": {},
   "outputs": [],
   "source": [
    "dir(list)"
   ]
  },
  {
   "cell_type": "code",
   "execution_count": null,
   "metadata": {},
   "outputs": [],
   "source": [
    "help(list.__iter__)"
   ]
  },
  {
   "cell_type": "code",
   "execution_count": null,
   "metadata": {},
   "outputs": [],
   "source": [
    "list.__iter__"
   ]
  },
  {
   "cell_type": "code",
   "execution_count": null,
   "metadata": {},
   "outputs": [],
   "source": [
    "help(iter)"
   ]
  },
  {
   "cell_type": "code",
   "execution_count": null,
   "metadata": {},
   "outputs": [],
   "source": [
    "help(enumerate)"
   ]
  },
  {
   "cell_type": "code",
   "execution_count": null,
   "metadata": {},
   "outputs": [],
   "source": [
    "help(generator)"
   ]
  },
  {
   "cell_type": "code",
   "execution_count": null,
   "metadata": {},
   "outputs": [],
   "source": [
    "help(os.listdir)"
   ]
  },
  {
   "cell_type": "code",
   "execution_count": null,
   "metadata": {},
   "outputs": [],
   "source": [
    "import os \n",
    "os.listdir('.')"
   ]
  },
  {
   "cell_type": "code",
   "execution_count": null,
   "metadata": {},
   "outputs": [],
   "source": [
    "threading.active_count()"
   ]
  },
  {
   "cell_type": "code",
   "execution_count": 1,
   "metadata": {},
   "outputs": [
    {
     "name": "stdout",
     "output_type": "stream",
     "text": [
      "1\n",
      "99\n"
     ]
    }
   ],
   "source": [
    "class Foo(object):\n",
    "    x = 1\n",
    "    pass\n",
    "\n",
    "f0 = Foo()\n",
    "print f0.x\n",
    "\n",
    "Foo.x = 99\n",
    "f1 = Foo()\n",
    "print f1.x"
   ]
  },
  {
   "cell_type": "code",
   "execution_count": 29,
   "metadata": {},
   "outputs": [],
   "source": [
    "import unittest\n",
    "class MyCase(unittest.TestCase):\n",
    "    \n",
    "    def test_001(self):\n",
    "        l = [2,3]\n",
    "        d = {}\n",
    "        d['a'] = 2\n",
    "        self.assertIsNone(d)\n",
    "        \n",
    "    def test_002(self):\n",
    "        self.x = 1\n",
    "        self.assertTrue(self.x == 1, 'Is not 1.')\n",
    "        \n"
   ]
  },
  {
   "cell_type": "code",
   "execution_count": 30,
   "metadata": {},
   "outputs": [
    {
     "name": "stderr",
     "output_type": "stream",
     "text": [
      "test_001 (__main__.MyCase) ... FAIL\n",
      "test_002 (__main__.MyCase) ... ok\n",
      "\n",
      "======================================================================\n",
      "FAIL: test_001 (__main__.MyCase)\n",
      "----------------------------------------------------------------------\n",
      "Traceback (most recent call last):\n",
      "  File \"<ipython-input-29-5381b7749c78>\", line 8, in test_001\n",
      "    self.assertIsNone(d)\n",
      "AssertionError: {'a': 2} is not None\n",
      "\n",
      "----------------------------------------------------------------------\n",
      "Ran 2 tests in 0.000s\n",
      "\n",
      "FAILED (failures=1)\n"
     ]
    },
    {
     "data": {
      "text/plain": [
       "<unittest.runner.TextTestResult run=2 errors=0 failures=1>"
      ]
     },
     "execution_count": 30,
     "metadata": {},
     "output_type": "execute_result"
    }
   ],
   "source": [
    "suite = unittest.TestLoader().loadTestsFromTestCase(MyCase)\n",
    "unittest.TextTestRunner(verbosity=2).run(suite)"
   ]
  },
  {
   "cell_type": "code",
   "execution_count": 6,
   "metadata": {},
   "outputs": [
    {
     "data": {
      "text/plain": [
       "['__call__',\n",
       " '__class__',\n",
       " '__delattr__',\n",
       " '__dict__',\n",
       " '__doc__',\n",
       " '__eq__',\n",
       " '__format__',\n",
       " '__getattribute__',\n",
       " '__hash__',\n",
       " '__init__',\n",
       " '__iter__',\n",
       " '__module__',\n",
       " '__ne__',\n",
       " '__new__',\n",
       " '__reduce__',\n",
       " '__reduce_ex__',\n",
       " '__repr__',\n",
       " '__setattr__',\n",
       " '__sizeof__',\n",
       " '__str__',\n",
       " '__subclasshook__',\n",
       " '__weakref__',\n",
       " '_addClassOrModuleLevelException',\n",
       " '_get_previous_module',\n",
       " '_handleClassSetUp',\n",
       " '_handleModuleFixture',\n",
       " '_handleModuleTearDown',\n",
       " '_tearDownPreviousClass',\n",
       " '_tests',\n",
       " 'addTest',\n",
       " 'addTests',\n",
       " 'countTestCases',\n",
       " 'debug',\n",
       " 'run']"
      ]
     },
     "execution_count": 6,
     "metadata": {},
     "output_type": "execute_result"
    }
   ],
   "source": [
    "dir(suite)"
   ]
  },
  {
   "cell_type": "code",
   "execution_count": 8,
   "metadata": {},
   "outputs": [
    {
     "name": "stdout",
     "output_type": "stream",
     "text": [
      "Help on method run in module unittest.runner:\n",
      "\n",
      "run(self, test) unbound unittest.runner.TextTestRunner method\n",
      "    Run the given test case or test suite.\n",
      "\n"
     ]
    }
   ],
   "source": [
    "help(unittest.TextTestRunner.run)"
   ]
  },
  {
   "cell_type": "code",
   "execution_count": 1,
   "metadata": {},
   "outputs": [
    {
     "data": {
      "text/plain": [
       "True"
      ]
     },
     "execution_count": 1,
     "metadata": {},
     "output_type": "execute_result"
    }
   ],
   "source": [
    "'ab' in 'asdfabggfh'"
   ]
  },
  {
   "cell_type": "code",
   "execution_count": 2,
   "metadata": {},
   "outputs": [
    {
     "data": {
      "text/plain": [
       "['BaseTestSuite',\n",
       " 'FunctionTestCase',\n",
       " 'SkipTest',\n",
       " 'TestCase',\n",
       " 'TestLoader',\n",
       " 'TestProgram',\n",
       " 'TestResult',\n",
       " 'TestSuite',\n",
       " 'TextTestResult',\n",
       " 'TextTestRunner',\n",
       " '_TextTestResult',\n",
       " '__all__',\n",
       " '__builtins__',\n",
       " '__doc__',\n",
       " '__file__',\n",
       " '__name__',\n",
       " '__package__',\n",
       " '__path__',\n",
       " '__unittest',\n",
       " 'case',\n",
       " 'defaultTestLoader',\n",
       " 'expectedFailure',\n",
       " 'findTestCases',\n",
       " 'getTestCaseNames',\n",
       " 'installHandler',\n",
       " 'loader',\n",
       " 'main',\n",
       " 'makeSuite',\n",
       " 'registerResult',\n",
       " 'removeHandler',\n",
       " 'removeResult',\n",
       " 'result',\n",
       " 'runner',\n",
       " 'signals',\n",
       " 'skip',\n",
       " 'skipIf',\n",
       " 'skipUnless',\n",
       " 'suite',\n",
       " 'util']"
      ]
     },
     "execution_count": 2,
     "metadata": {},
     "output_type": "execute_result"
    }
   ],
   "source": [
    "import unittest\n",
    "dir(unittest)"
   ]
  },
  {
   "cell_type": "code",
   "execution_count": 3,
   "metadata": {},
   "outputs": [
    {
     "name": "stdout",
     "output_type": "stream",
     "text": [
      "unittest\n"
     ]
    }
   ],
   "source": [
    "print unittest.__package__"
   ]
  },
  {
   "cell_type": "code",
   "execution_count": 4,
   "metadata": {},
   "outputs": [
    {
     "name": "stdout",
     "output_type": "stream",
     "text": [
      "<module 'unittest' from 'C:\\Python27\\lib\\unittest\\__init__.pyc'>\n"
     ]
    }
   ],
   "source": [
    "print unittest\n"
   ]
  },
  {
   "cell_type": "code",
   "execution_count": 5,
   "metadata": {},
   "outputs": [
    {
     "ename": "NameError",
     "evalue": "name '__main__' is not defined",
     "output_type": "error",
     "traceback": [
      "\u001b[1;31m---------------------------------------------------------------------------\u001b[0m",
      "\u001b[1;31mNameError\u001b[0m                                 Traceback (most recent call last)",
      "\u001b[1;32m<ipython-input-5-d40fbdff05d3>\u001b[0m in \u001b[0;36m<module>\u001b[1;34m()\u001b[0m\n\u001b[1;32m----> 1\u001b[1;33m \u001b[1;32mprint\u001b[0m \u001b[0m__main__\u001b[0m\u001b[1;33m\u001b[0m\u001b[0m\n\u001b[0m",
      "\u001b[1;31mNameError\u001b[0m: name '__main__' is not defined"
     ]
    }
   ],
   "source": [
    "print __main__\n"
   ]
  },
  {
   "cell_type": "code",
   "execution_count": 6,
   "metadata": {},
   "outputs": [
    {
     "data": {
      "text/plain": [
       "['In',\n",
       " 'Out',\n",
       " '_',\n",
       " '_2',\n",
       " '__',\n",
       " '___',\n",
       " '__builtin__',\n",
       " '__builtins__',\n",
       " '__doc__',\n",
       " '__name__',\n",
       " '__package__',\n",
       " '_dh',\n",
       " '_i',\n",
       " '_i1',\n",
       " '_i2',\n",
       " '_i3',\n",
       " '_i4',\n",
       " '_i5',\n",
       " '_i6',\n",
       " '_ih',\n",
       " '_ii',\n",
       " '_iii',\n",
       " '_oh',\n",
       " '_sh',\n",
       " 'exit',\n",
       " 'get_ipython',\n",
       " 'quit',\n",
       " 'unittest']"
      ]
     },
     "execution_count": 6,
     "metadata": {},
     "output_type": "execute_result"
    }
   ],
   "source": [
    "dir()"
   ]
  },
  {
   "cell_type": "code",
   "execution_count": 7,
   "metadata": {},
   "outputs": [
    {
     "name": "stdout",
     "output_type": "stream",
     "text": [
      "None\n"
     ]
    }
   ],
   "source": [
    "print __package__"
   ]
  },
  {
   "cell_type": "code",
   "execution_count": 8,
   "metadata": {},
   "outputs": [
    {
     "name": "stdout",
     "output_type": "stream",
     "text": [
      "__main__\n"
     ]
    }
   ],
   "source": [
    "print __name__"
   ]
  },
  {
   "cell_type": "code",
   "execution_count": 4,
   "metadata": {},
   "outputs": [
    {
     "ename": "ImportError",
     "evalue": "No module named mock",
     "output_type": "error",
     "traceback": [
      "\u001b[1;31m---------------------------------------------------------------------------\u001b[0m",
      "\u001b[1;31mImportError\u001b[0m                               Traceback (most recent call last)",
      "\u001b[1;32m<ipython-input-4-4f2ad92f1853>\u001b[0m in \u001b[0;36m<module>\u001b[1;34m()\u001b[0m\n\u001b[1;32m----> 1\u001b[1;33m \u001b[1;32mfrom\u001b[0m \u001b[0mmock\u001b[0m \u001b[1;32mimport\u001b[0m \u001b[0mpatch\u001b[0m\u001b[1;33m,\u001b[0m \u001b[0mMock\u001b[0m\u001b[1;33m\u001b[0m\u001b[0m\n\u001b[0m\u001b[0;32m      2\u001b[0m \u001b[1;33m\u001b[0m\u001b[0m\n\u001b[0;32m      3\u001b[0m \u001b[1;32mclass\u001b[0m \u001b[0mMyUtil\u001b[0m\u001b[1;33m(\u001b[0m\u001b[0mobject\u001b[0m\u001b[1;33m)\u001b[0m\u001b[1;33m:\u001b[0m\u001b[1;33m\u001b[0m\u001b[0m\n\u001b[0;32m      4\u001b[0m     \u001b[1;32mdef\u001b[0m \u001b[0m__init__\u001b[0m\u001b[1;33m(\u001b[0m\u001b[0mself\u001b[0m\u001b[1;33m)\u001b[0m\u001b[1;33m:\u001b[0m\u001b[1;33m\u001b[0m\u001b[0m\n\u001b[0;32m      5\u001b[0m         \u001b[0mself\u001b[0m\u001b[1;33m.\u001b[0m\u001b[0mp1\u001b[0m \u001b[1;33m=\u001b[0m \u001b[1;34m\"abc\"\u001b[0m\u001b[1;33m\u001b[0m\u001b[0m\n",
      "\u001b[1;31mImportError\u001b[0m: No module named mock"
     ]
    }
   ],
   "source": [
    "from mock import patch, Mock\n",
    "\n",
    "class MyUtil(object):\n",
    "    def __init__(self):\n",
    "        self.p1 = \"abc\"\n",
    "        self.p2 = \"efg\"\n",
    "    \n",
    "    def myFoo(self):\n",
    "        print 'in myFoo'\n",
    "\n",
    "class MyClass(object):\n",
    "    def __init__(self):\n",
    "        self.util = MyUtil()\n",
    "        \n",
    "    def myMethod(self):\n",
    "        self.util.myFoo()\n",
    "\n",
    "def test_1():\n",
    "    myClass = MyClass()\n",
    "    myClass.myMethod()\n",
    "    \n",
    "@patch('MyUtil')\n",
    "def test_2(MockedUtil):\n",
    "    print MockedUtil\n",
    "    mocked_util = MockedUtil.return_value\n",
    "    print mocked_util\n",
    "    \n",
    "test_1()"
   ]
  },
  {
   "cell_type": "code",
   "execution_count": 7,
   "metadata": {},
   "outputs": [
    {
     "name": "stdout",
     "output_type": "stream",
     "text": [
      "<function foo at 0x000000000430ECF8>\n",
      "<function tmp at 0x000000000430E748>\n"
     ]
    },
    {
     "ename": "TypeError",
     "evalue": "foo() takes exactly 2 arguments (4 given)",
     "output_type": "error",
     "traceback": [
      "\u001b[1;31m---------------------------------------------------------------------------\u001b[0m",
      "\u001b[1;31mTypeError\u001b[0m                                 Traceback (most recent call last)",
      "\u001b[1;32m<ipython-input-7-116a9668310c>\u001b[0m in \u001b[0;36m<module>\u001b[1;34m()\u001b[0m\n\u001b[0;32m     22\u001b[0m \u001b[0marg_1\u001b[0m \u001b[1;33m=\u001b[0m \u001b[1;33m{\u001b[0m\u001b[1;34m'k_1'\u001b[0m\u001b[1;33m:\u001b[0m \u001b[1;34m'v_1'\u001b[0m\u001b[1;33m}\u001b[0m\u001b[1;33m\u001b[0m\u001b[0m\n\u001b[0;32m     23\u001b[0m \u001b[0marg_2\u001b[0m \u001b[1;33m=\u001b[0m \u001b[1;33m{\u001b[0m\u001b[1;34m'k_2'\u001b[0m\u001b[1;33m:\u001b[0m \u001b[1;34m'v_2'\u001b[0m\u001b[1;33m}\u001b[0m\u001b[1;33m\u001b[0m\u001b[0m\n\u001b[1;32m---> 24\u001b[1;33m \u001b[0mfoo\u001b[0m\u001b[1;33m(\u001b[0m\u001b[0marg_1\u001b[0m\u001b[1;33m,\u001b[0m \u001b[0marg_2\u001b[0m\u001b[1;33m)\u001b[0m\u001b[1;33m\u001b[0m\u001b[0m\n\u001b[0m",
      "\u001b[1;32m<ipython-input-7-116a9668310c>\u001b[0m in \u001b[0;36mtmp\u001b[1;34m(*args, **kwargs)\u001b[0m\n\u001b[0;32m      8\u001b[0m             \u001b[1;32melse\u001b[0m\u001b[1;33m:\u001b[0m\u001b[1;33m\u001b[0m\u001b[0m\n\u001b[0;32m      9\u001b[0m                 \u001b[0mdict_b\u001b[0m \u001b[1;33m=\u001b[0m \u001b[1;33m{\u001b[0m\u001b[1;34m'k_b'\u001b[0m\u001b[1;33m:\u001b[0m\u001b[1;34m'v_b'\u001b[0m\u001b[1;33m}\u001b[0m\u001b[1;33m\u001b[0m\u001b[0m\n\u001b[1;32m---> 10\u001b[1;33m                 \u001b[1;32mreturn\u001b[0m \u001b[0mf\u001b[0m\u001b[1;33m(\u001b[0m\u001b[0mdict_b\u001b[0m\u001b[1;33m,\u001b[0m \u001b[1;33m*\u001b[0m\u001b[0margs\u001b[0m\u001b[1;33m,\u001b[0m \u001b[1;33m**\u001b[0m\u001b[0mkwargs\u001b[0m\u001b[1;33m)\u001b[0m\u001b[1;33m\u001b[0m\u001b[0m\n\u001b[0m\u001b[0;32m     11\u001b[0m \u001b[1;33m\u001b[0m\u001b[0m\n\u001b[0;32m     12\u001b[0m         \u001b[1;32mreturn\u001b[0m \u001b[0mtmp\u001b[0m\u001b[1;33m\u001b[0m\u001b[0m\n",
      "\u001b[1;32m<ipython-input-7-116a9668310c>\u001b[0m in \u001b[0;36mtmp\u001b[1;34m(*args, **kwargs)\u001b[0m\n\u001b[0;32m      5\u001b[0m             \u001b[1;32mif\u001b[0m \u001b[0mname\u001b[0m \u001b[1;33m==\u001b[0m \u001b[1;34m'dict_a'\u001b[0m\u001b[1;33m:\u001b[0m\u001b[1;33m\u001b[0m\u001b[0m\n\u001b[0;32m      6\u001b[0m                 \u001b[0mdict_a\u001b[0m \u001b[1;33m=\u001b[0m \u001b[1;33m{\u001b[0m\u001b[1;34m'k_a'\u001b[0m\u001b[1;33m:\u001b[0m\u001b[1;34m'v_a'\u001b[0m\u001b[1;33m}\u001b[0m\u001b[1;33m\u001b[0m\u001b[0m\n\u001b[1;32m----> 7\u001b[1;33m                 \u001b[1;32mreturn\u001b[0m \u001b[0mf\u001b[0m\u001b[1;33m(\u001b[0m\u001b[0mdict_a\u001b[0m\u001b[1;33m,\u001b[0m \u001b[1;33m*\u001b[0m\u001b[0margs\u001b[0m\u001b[1;33m,\u001b[0m \u001b[1;33m**\u001b[0m\u001b[0mkwargs\u001b[0m\u001b[1;33m)\u001b[0m\u001b[1;33m\u001b[0m\u001b[0m\n\u001b[0m\u001b[0;32m      8\u001b[0m             \u001b[1;32melse\u001b[0m\u001b[1;33m:\u001b[0m\u001b[1;33m\u001b[0m\u001b[0m\n\u001b[0;32m      9\u001b[0m                 \u001b[0mdict_b\u001b[0m \u001b[1;33m=\u001b[0m \u001b[1;33m{\u001b[0m\u001b[1;34m'k_b'\u001b[0m\u001b[1;33m:\u001b[0m\u001b[1;34m'v_b'\u001b[0m\u001b[1;33m}\u001b[0m\u001b[1;33m\u001b[0m\u001b[0m\n",
      "\u001b[1;31mTypeError\u001b[0m: foo() takes exactly 2 arguments (4 given)"
     ]
    }
   ],
   "source": [
    "def my_dec(name):\n",
    "    def inner_dec(f):\n",
    "        print f\n",
    "        def tmp(*args, **kwargs):\n",
    "            if name == 'dict_a':\n",
    "                dict_a = {'k_a':'v_a'}\n",
    "                return f(dict_a, *args, **kwargs)\n",
    "            else:\n",
    "                dict_b = {'k_b':'v_b'}\n",
    "                return f(dict_b, *args, **kwargs)\n",
    "            \n",
    "        return tmp\n",
    "    \n",
    "    return inner_dec\n",
    "    \n",
    "@my_dec('dict_b')\n",
    "@my_dec('dict_a')\n",
    "def foo(dict_1, dict_2):\n",
    "    print 'dict_1: ', dict_1\n",
    "    print 'dict_2: ', dict_2\n",
    "\n",
    "arg_1 = {'k_1': 'v_1'}\n",
    "arg_2 = {'k_2': 'v_2'}\n",
    "foo(arg_1, arg_2)"
   ]
  },
  {
   "cell_type": "code",
   "execution_count": 9,
   "metadata": {},
   "outputs": [
    {
     "name": "stdout",
     "output_type": "stream",
     "text": [
      "a:  aa\n",
      "b:  bb\n"
     ]
    },
    {
     "ename": "TypeError",
     "evalue": "foo() takes exactly 2 arguments (3 given)",
     "output_type": "error",
     "traceback": [
      "\u001b[1;31m---------------------------------------------------------------------------\u001b[0m",
      "\u001b[1;31mTypeError\u001b[0m                                 Traceback (most recent call last)",
      "\u001b[1;32m<ipython-input-9-7c54c6c703f3>\u001b[0m in \u001b[0;36m<module>\u001b[1;34m()\u001b[0m\n\u001b[0;32m      7\u001b[0m \u001b[1;33m\u001b[0m\u001b[0m\n\u001b[0;32m      8\u001b[0m \u001b[0mbar\u001b[0m\u001b[1;33m(\u001b[0m\u001b[1;34m'aa'\u001b[0m\u001b[1;33m,\u001b[0m \u001b[1;34m'bb'\u001b[0m\u001b[1;33m)\u001b[0m\u001b[1;33m\u001b[0m\u001b[0m\n\u001b[1;32m----> 9\u001b[1;33m \u001b[0mbar\u001b[0m\u001b[1;33m(\u001b[0m\u001b[1;34m'aa'\u001b[0m\u001b[1;33m,\u001b[0m \u001b[1;34m'bb'\u001b[0m\u001b[1;33m,\u001b[0m \u001b[1;34m'cc'\u001b[0m\u001b[1;33m)\u001b[0m\u001b[1;33m\u001b[0m\u001b[0m\n\u001b[0m",
      "\u001b[1;32m<ipython-input-9-7c54c6c703f3>\u001b[0m in \u001b[0;36mbar\u001b[1;34m(*args, **kwargs)\u001b[0m\n\u001b[0;32m      4\u001b[0m \u001b[1;33m\u001b[0m\u001b[0m\n\u001b[0;32m      5\u001b[0m \u001b[1;32mdef\u001b[0m \u001b[0mbar\u001b[0m\u001b[1;33m(\u001b[0m\u001b[1;33m*\u001b[0m\u001b[0margs\u001b[0m\u001b[1;33m,\u001b[0m \u001b[1;33m**\u001b[0m\u001b[0mkwargs\u001b[0m\u001b[1;33m)\u001b[0m\u001b[1;33m:\u001b[0m\u001b[1;33m\u001b[0m\u001b[0m\n\u001b[1;32m----> 6\u001b[1;33m     \u001b[0mfoo\u001b[0m\u001b[1;33m(\u001b[0m\u001b[1;33m*\u001b[0m\u001b[0margs\u001b[0m\u001b[1;33m,\u001b[0m \u001b[1;33m**\u001b[0m\u001b[0mkwargs\u001b[0m\u001b[1;33m)\u001b[0m\u001b[1;33m\u001b[0m\u001b[0m\n\u001b[0m\u001b[0;32m      7\u001b[0m \u001b[1;33m\u001b[0m\u001b[0m\n\u001b[0;32m      8\u001b[0m \u001b[0mbar\u001b[0m\u001b[1;33m(\u001b[0m\u001b[1;34m'aa'\u001b[0m\u001b[1;33m,\u001b[0m \u001b[1;34m'bb'\u001b[0m\u001b[1;33m)\u001b[0m\u001b[1;33m\u001b[0m\u001b[0m\n",
      "\u001b[1;31mTypeError\u001b[0m: foo() takes exactly 2 arguments (3 given)"
     ]
    }
   ],
   "source": [
    "def foo(a, b):\n",
    "    print 'a: ', a\n",
    "    print 'b: ', b\n",
    "    \n",
    "def bar(*args, **kwargs):\n",
    "    foo(*args, **kwargs)\n",
    "\n",
    "bar('aa', 'bb')\n",
    "bar('aa', 'bb', 'cc')"
   ]
  },
  {
   "cell_type": "code",
   "execution_count": 2,
   "metadata": {},
   "outputs": [
    {
     "ename": "ImportError",
     "evalue": "No module named mock",
     "output_type": "error",
     "traceback": [
      "\u001b[1;31m---------------------------------------------------------------------------\u001b[0m",
      "\u001b[1;31mImportError\u001b[0m                               Traceback (most recent call last)",
      "\u001b[1;32m<ipython-input-2-cfb57b0376ce>\u001b[0m in \u001b[0;36m<module>\u001b[1;34m()\u001b[0m\n\u001b[1;32m----> 1\u001b[1;33m \u001b[1;32mimport\u001b[0m \u001b[0mmock\u001b[0m\u001b[1;33m\u001b[0m\u001b[0m\n\u001b[0m",
      "\u001b[1;31mImportError\u001b[0m: No module named mock"
     ]
    }
   ],
   "source": [
    "import mock"
   ]
  },
  {
   "cell_type": "code",
   "execution_count": 6,
   "metadata": {},
   "outputs": [
    {
     "name": "stdout",
     "output_type": "stream",
     "text": [
      "(lp0\n",
      "I1\n",
      "aI2\n",
      "aI3\n",
      "aI4\n",
      "aI5\n",
      "a.\n"
     ]
    }
   ],
   "source": [
    "import pickle\n",
    "\n",
    "print pickle.dumps([1,2,3,4,5])"
   ]
  },
  {
   "cell_type": "code",
   "execution_count": 26,
   "metadata": {},
   "outputs": [
    {
     "name": "stdout",
     "output_type": "stream",
     "text": [
      "A\n",
      "A\n"
     ]
    },
    {
     "data": {
      "text/plain": [
       "'python\\xe5\\xb7\\xa8\\xe8\\x9f\\x92'"
      ]
     },
     "execution_count": 26,
     "metadata": {},
     "output_type": "execute_result"
    }
   ],
   "source": [
    "print \"\\x41\"\n",
    "print \"\\101\"\n",
    "\n",
    "s1 = \"hi, 梁盟磊\"\n",
    "s1\n",
    "\n",
    "s2 = unicode(\"python巨蟒\", 'utf-8')\n",
    "s2\n",
    "s2.encode('utf-8')"
   ]
  },
  {
   "cell_type": "code",
   "execution_count": 7,
   "metadata": {
    "scrolled": true
   },
   "outputs": [
    {
     "name": "stdout",
     "output_type": "stream",
     "text": [
      "A.__dict__\n",
      "{'a': 'aaaaa', '__module__': '__main__', '__dict__': <attribute '__dict__' of 'A' objects>, '__weakref__': <attribute '__weakref__' of 'A' objects>, '__doc__': None, '__init__': <function __init__ at 0x7f3709f19320>}\n",
      "a.__dict__\n",
      "{'a': 'a'}\n",
      "type(a).__dict__\n",
      "{'a': 'aaaaa', '__module__': '__main__', '__dict__': <attribute '__dict__' of 'A' objects>, '__weakref__': <attribute '__weakref__' of 'A' objects>, '__doc__': None, '__init__': <function __init__ at 0x7f3709f19320>}\n",
      "******************************************************************************************\n",
      "B.__dict__\n",
      "{'__dict__': <attribute '__dict__' of 'B' objects>, '__module__': '__main__', '__weakref__': <attribute '__weakref__' of 'B' objects>, '__doc__': None, '__init__': <function __init__ at 0x7f3709f19488>}\n",
      "b.__dict__\n",
      "{'b': 'b'}\n",
      "type(b).__dict__\n",
      "{'__dict__': <attribute '__dict__' of 'B' objects>, '__module__': '__main__', '__weakref__': <attribute '__weakref__' of 'B' objects>, '__doc__': None, '__init__': <function __init__ at 0x7f3709f19488>}\n",
      "******************************************************************************************\n",
      "C.__dict__\n",
      "{'__module__': '__main__', 'c': <property object at 0x7f370a7fcaf8>, '__dict__': <attribute '__dict__' of 'C' objects>, '__weakref__': <attribute '__weakref__' of 'C' objects>, '__doc__': None, '__init__': <function __init__ at 0x7f3709f19398>}\n",
      "c.__dict__\n",
      "{'c': 'ccc', '_c': 'c'}\n",
      "type(c).__dict__\n",
      "{'__module__': '__main__', 'c': <property object at 0x7f370a7fcaf8>, '__dict__': <attribute '__dict__' of 'C' objects>, '__weakref__': <attribute '__weakref__' of 'C' objects>, '__doc__': None, '__init__': <function __init__ at 0x7f3709f19398>}\n"
     ]
    },
    {
     "data": {
      "text/plain": [
       "'c'"
      ]
     },
     "execution_count": 7,
     "metadata": {},
     "output_type": "execute_result"
    }
   ],
   "source": [
    "class A(object):\n",
    "    a = 'aaaaa'\n",
    "    def __init__(self):\n",
    "        self.a = 'a'\n",
    "    \n",
    "a = A()\n",
    "print('A.__dict__')\n",
    "print(A.__dict__)\n",
    "print('a.__dict__')\n",
    "print(a.__dict__)\n",
    "print('type(a).__dict__')\n",
    "print(type(a).__dict__)\n",
    "print('*' * 90)\n",
    "\n"
   ]
  },
  {
   "cell_type": "code",
   "execution_count": null,
   "metadata": {
    "collapsed": true
   },
   "outputs": [],
   "source": [
    "class B(object):\n",
    "    def __init__(self):\n",
    "        self.b = 'b'\n",
    "    \n",
    "b = B()\n",
    "print('B.__dict__')\n",
    "print(B.__dict__)\n",
    "print('b.__dict__')\n",
    "print(b.__dict__)\n",
    "print('type(b).__dict__')\n",
    "print(type(b).__dict__)\n",
    "print('*' * 90)\n"
   ]
  },
  {
   "cell_type": "code",
   "execution_count": 9,
   "metadata": {},
   "outputs": [
    {
     "name": "stdout",
     "output_type": "stream",
     "text": [
      ">>> C.__dict__\n",
      "{'__module__': '__main__', 'c': <property object at 0x7f3709f7ac00>, '__dict__': <attribute '__dict__' of 'C' objects>, '__weakref__': <attribute '__weakref__' of 'C' objects>, '__doc__': None, '__init__': <function __init__ at 0x7f3709f19578>}\n",
      ">>> c.__dict__\n",
      "{'c': 'ccc', '_c': 'c'}\n",
      ">>> type(c).__dict__\n",
      "{'__module__': '__main__', 'c': <property object at 0x7f3709f7ac00>, '__dict__': <attribute '__dict__' of 'C' objects>, '__weakref__': <attribute '__weakref__' of 'C' objects>, '__doc__': None, '__init__': <function __init__ at 0x7f3709f19578>}\n"
     ]
    },
    {
     "data": {
      "text/plain": [
       "'c'"
      ]
     },
     "execution_count": 9,
     "metadata": {},
     "output_type": "execute_result"
    }
   ],
   "source": [
    "class C(object):\n",
    "    def __init__(self):\n",
    "        self._c = 'c'\n",
    "    \n",
    "    @property\n",
    "    def c(self):\n",
    "        return self._c\n",
    "    \n",
    "c = C()\n",
    "c.__dict__['c'] = 'ccc'\n",
    "print('>>> C.__dict__')\n",
    "print(C.__dict__)\n",
    "print('>>> c.__dict__')\n",
    "print(c.__dict__)\n",
    "print('>>> type(c).__dict__')\n",
    "print(type(c).__dict__)\n",
    "c.c"
   ]
  },
  {
   "cell_type": "code",
   "execution_count": 29,
   "metadata": {
    "scrolled": true
   },
   "outputs": [
    {
     "name": "stdout",
     "output_type": "stream",
     "text": [
      "Entering MyClass __init__.\n",
      "Data descriptor SET, self=<__main__.MyDataDescriptor object at 0x7f3709e9e5d0>, obj=<__main__.MyClass object at 0x7f3709e9e810>, val=Ryan Liang.\n",
      "Exiting MyClass __init__.\n",
      "\n",
      "Object access >>> c.__dict__: {'ndd': 'Ryan Liang'}\n",
      "Data descriptor GET, self=<__main__.MyDataDescriptor object at 0x7f3709e9e5d0>, obj=<__main__.MyClass object at 0x7f3709e9e810>, type=<class '__main__.MyClass'>.\n",
      "Returning value: Ryan Liang.\n",
      "Object access >>> c.dd: Ryan Liang\n",
      "Object access >>> c.ndd: Ryan Liang\n",
      "******************************************************************************************\n",
      "Class access >>> MyClass.__dict__: {'__module__': '__main__', 'dd': <__main__.MyDataDescriptor object at 0x7f3709e9e5d0>, 'ndd': <__main__.MyNonDataDescriptor object at 0x7f3709e9e390>, '__dict__': <attribute '__dict__' of 'MyClass' objects>, '__weakref__': <attribute '__weakref__' of 'MyClass' objects>, '__doc__': None, '__init__': <function __init__ at 0x7f3709e8c398>}\n",
      "Data descriptor GET, self=<__main__.MyDataDescriptor object at 0x7f3709e9e5d0>, obj=None, type=<class '__main__.MyClass'>.\n",
      "Returning value: Ryan Liang.\n",
      "Class access >>> MyClass.dd: Ryan Liang\n",
      "Non Data descriptor GET, self=<__main__.MyNonDataDescriptor object at 0x7f3709e9e390>, obj=None, type=<class '__main__.MyClass'>.\n",
      "Returning value: non-data.\n",
      "Class access >>> MyClass.ndd: non-data\n"
     ]
    }
   ],
   "source": [
    "class MyDataDescriptor(object):\n",
    "    def __init__(self, val):\n",
    "        self._val = val\n",
    "        \n",
    "    def __get__(self, obj, type=None):\n",
    "        print('Data descriptor GET, self={}, obj={}, type={}.'.format(self, obj, type))\n",
    "        print('Returning value: {}.'.format(self._val))\n",
    "        return self._val\n",
    "    \n",
    "    def __set__(self, obj, val):\n",
    "        print('Data descriptor SET, self={}, obj={}, val={}.'.format(self, obj, val))\n",
    "        self._val = val\n",
    "    \n",
    "    \"\"\"\n",
    "    def __delete__(self, obj):\n",
    "        print 'delete', self, obj\n",
    "    \"\"\"\n",
    "    \n",
    "class MyNonDataDescriptor(object):\n",
    "    def __init__(self, val):\n",
    "        self._val = val\n",
    "        \n",
    "    def __get__(self, obj, type=None):\n",
    "        print('Non Data descriptor GET, self={}, obj={}, type={}.'.format(self, obj, type))\n",
    "        print('Returning value: {}.'.format(self._val))\n",
    "        return self._val\n",
    "    \n",
    "    # No __set__ for non data descriptor.\n",
    "    \n",
    "    \"\"\"\n",
    "    def __delete__(self, obj):\n",
    "        print 'delete', self, obj\n",
    "    \"\"\"\n",
    "    \n",
    "class MyClass(object):\n",
    "    dd = MyDataDescriptor('data')\n",
    "    ndd = MyNonDataDescriptor('non-data')\n",
    "    \n",
    "    def __init__(self):\n",
    "        print('Entering MyClass __init__.')\n",
    "        self.dd = 'Ryan Liang'\n",
    "        self.ndd = 'Ryan Liang'\n",
    "        print('Exiting MyClass __init__.')\n",
    "        print('')\n",
    "        \n",
    "c = MyClass()\n",
    "print('Object access >>> c.__dict__: {}'.format(c.__dict__))\n",
    "print('Object access >>> c.dd: {}'.format(c.dd))\n",
    "print('Object access >>> c.ndd: {}'.format(c.ndd))\n",
    "\n",
    "print('*' * 90)\n",
    "\n",
    "print('Class access >>> MyClass.__dict__: {}'.format(MyClass.__dict__))\n",
    "print('Class access >>> MyClass.dd: {}'.format(MyClass.dd))\n",
    "print('Class access >>> MyClass.ndd: {}'.format(MyClass.ndd))"
   ]
  },
  {
   "cell_type": "code",
   "execution_count": 34,
   "metadata": {},
   "outputs": [
    {
     "name": "stdout",
     "output_type": "stream",
     "text": [
      "Entering MyClass __init__.\n",
      "Exiting MyClass __init__.\n",
      "\n",
      "Ryan Liang\n",
      "<__main__.MyProperty object at 0x7f370a7b3190>\n",
      "30\n",
      "<__main__.MyProperty object at 0x7f3709eb6290>\n"
     ]
    },
    {
     "ename": "AttributeError",
     "evalue": "cannot set attribute",
     "output_type": "error",
     "traceback": [
      "\u001b[0;31m\u001b[0m",
      "\u001b[0;31mAttributeError\u001b[0mTraceback (most recent call last)",
      "\u001b[0;32m<ipython-input-34-b39df3d2173a>\u001b[0m in \u001b[0;36m<module>\u001b[0;34m()\u001b[0m\n\u001b[1;32m     68\u001b[0m \u001b[0;34m\u001b[0m\u001b[0m\n\u001b[1;32m     69\u001b[0m \u001b[0mc\u001b[0m\u001b[0;34m.\u001b[0m\u001b[0mname\u001b[0m \u001b[0;34m=\u001b[0m \u001b[0;34m'new name'\u001b[0m\u001b[0;34m\u001b[0m\u001b[0m\n\u001b[0;32m---> 70\u001b[0;31m \u001b[0mc\u001b[0m\u001b[0;34m.\u001b[0m\u001b[0mage\u001b[0m \u001b[0;34m=\u001b[0m \u001b[0;36m300\u001b[0m\u001b[0;34m\u001b[0m\u001b[0m\n\u001b[0m",
      "\u001b[0;32m<ipython-input-34-b39df3d2173a>\u001b[0m in \u001b[0;36m__set__\u001b[0;34m(self, obj, val)\u001b[0m\n\u001b[1;32m     17\u001b[0m     \u001b[0;32mdef\u001b[0m \u001b[0m__set__\u001b[0m\u001b[0;34m(\u001b[0m\u001b[0mself\u001b[0m\u001b[0;34m,\u001b[0m \u001b[0mobj\u001b[0m\u001b[0;34m,\u001b[0m \u001b[0mval\u001b[0m\u001b[0;34m)\u001b[0m\u001b[0;34m:\u001b[0m\u001b[0;34m\u001b[0m\u001b[0m\n\u001b[1;32m     18\u001b[0m         \u001b[0;32mif\u001b[0m \u001b[0mself\u001b[0m\u001b[0;34m.\u001b[0m\u001b[0m_fset\u001b[0m \u001b[0;32mis\u001b[0m \u001b[0mNone\u001b[0m\u001b[0;34m:\u001b[0m\u001b[0;34m\u001b[0m\u001b[0m\n\u001b[0;32m---> 19\u001b[0;31m             \u001b[0;32mraise\u001b[0m \u001b[0mAttributeError\u001b[0m\u001b[0;34m(\u001b[0m\u001b[0;34m'cannot set attribute'\u001b[0m\u001b[0;34m)\u001b[0m\u001b[0;34m\u001b[0m\u001b[0m\n\u001b[0m\u001b[1;32m     20\u001b[0m         \u001b[0mself\u001b[0m\u001b[0;34m.\u001b[0m\u001b[0m_fset\u001b[0m\u001b[0;34m(\u001b[0m\u001b[0mobj\u001b[0m\u001b[0;34m,\u001b[0m \u001b[0mval\u001b[0m\u001b[0;34m)\u001b[0m\u001b[0;34m\u001b[0m\u001b[0m\n\u001b[1;32m     21\u001b[0m \u001b[0;34m\u001b[0m\u001b[0m\n",
      "\u001b[0;31mAttributeError\u001b[0m: cannot set attribute"
     ]
    }
   ],
   "source": [
    "class MyProperty(object):\n",
    "    def __init__(self, fget=None, fset=None, fdel=None, doc=None):\n",
    "        self._fget = fget\n",
    "        self._fset = fset\n",
    "        self._fdel = fdel\n",
    "        if doc is None and fget is not None:\n",
    "            doc = fget.__doc__\n",
    "        self.__doc__ = doc\n",
    "        \n",
    "    def __get__(self, obj, type=None):\n",
    "        if obj is None:\n",
    "            return self\n",
    "        if self._fget is None:\n",
    "            raise AttributeError('unreadable attribute')\n",
    "        return self._fget(obj)\n",
    "    \n",
    "    def __set__(self, obj, val):\n",
    "        if self._fset is None:\n",
    "            raise AttributeError('cannot set attribute')\n",
    "        self._fset(obj, val)\n",
    "            \n",
    "    def __delete__(self, obj):\n",
    "        if self._fdel is None:\n",
    "            raise AttributeError('cannot delete attribute')\n",
    "        self._fdel(obj)\n",
    "    \n",
    "    def __call__(self, func):\n",
    "        return self.getter(func)\n",
    "    \n",
    "    def getter(self, fget):\n",
    "        return type(self)(fget, self._fset, self._fdel)\n",
    "    \n",
    "    def setter(self, fset):\n",
    "        return type(self)(self._fget, fset, self._fdel)\n",
    "    \n",
    "    def deleter(self, fdel):\n",
    "        return type(self)(self._fget, self._fset, fdel)\n",
    "\n",
    "class MyClass(object):\n",
    "    def __init__(self):\n",
    "        print('Entering MyClass __init__.')\n",
    "        self._name = 'Ryan Liang'\n",
    "        self._age = 30\n",
    "        print('Exiting MyClass __init__.')\n",
    "        print('')\n",
    "    \n",
    "    def get_name(self):\n",
    "        return self._name\n",
    "    \n",
    "    def set_name(self, new):\n",
    "        self._name = new\n",
    "        \n",
    "    def del_name(self):\n",
    "        self._name = 'unknown'\n",
    "    \n",
    "    name = MyProperty(get_name, set_name, del_name)\n",
    "    \n",
    "    # age = MyProperty(age)\n",
    "    @MyProperty\n",
    "    def age(self):\n",
    "        return self._age\n",
    "    \n",
    "    # age = age.setter(age)\n",
    "    @age.setter\n",
    "    def age(self, new):\n",
    "        self._age = new\n",
    "        \n",
    "          \n",
    "c = MyClass()\n",
    "print(c.name)\n",
    "print(MyClass.name)\n",
    "\n",
    "print(c.age)\n",
    "print(MyClass.age)\n",
    "\n",
    "c.name = 'new name'\n",
    "c.age = 300"
   ]
  },
  {
   "cell_type": "code",
   "execution_count": 11,
   "metadata": {},
   "outputs": [
    {
     "name": "stdout",
     "output_type": "stream",
     "text": [
      "******************************************************************************************\n",
      "('get', <__main__.Descriptor object at 0x7f3709e89f10>, <__main__.T object at 0x7f3709e89f90>, <class '__main__.T'>)\n",
      "{}\n",
      "******************************************************************************************\n",
      "('get', <__main__.Descriptor object at 0x7f3709e89f10>, None, <class '__main__.T'>)\n",
      "{'__dict__': <attribute '__dict__' of 'T' objects>, '__module__': '__main__', '__weakref__': <attribute '__weakref__' of 'T' objects>, 'd': <__main__.Descriptor object at 0x7f3709e89f10>, '__doc__': None}\n",
      "******************************************************************************************\n",
      "set <__main__.Descriptor object at 0x7f3709e89f10> <__main__.T object at 0x7f3709e89f90> hello\n",
      "('get', <__main__.Descriptor object at 0x7f3709e89f10>, <__main__.T object at 0x7f3709e89f90>, <class '__main__.T'>)\n",
      "{}\n",
      "******************************************************************************************\n",
      "hello\n",
      "{}\n",
      "hello\n",
      "{'__dict__': <attribute '__dict__' of 'T' objects>, '__module__': '__main__', '__weakref__': <attribute '__weakref__' of 'T' objects>, 'd': 'hello', '__doc__': None}\n"
     ]
    }
   ],
   "source": [
    "class Descriptor(object):\n",
    "    def __get__(self, obj, type=None):\n",
    "        return 'get', self, obj, type\n",
    "    def __set__(self, obj, val):\n",
    "        print 'set', self, obj, val\n",
    "    #def __delete__(self, obj):\n",
    "    #    print 'delete', self, obj\n",
    "\n",
    "class T(object):\n",
    "    d = Descriptor()\n",
    "\n",
    "t = T()\n",
    "\n",
    "print('*' * 90)\n",
    "print(t.d)\n",
    "print(t.__dict__)\n",
    "\n",
    "print('*' * 90)\n",
    "print(T.d)\n",
    "print(T.__dict__)\n",
    "\n",
    "print('*' * 90)\n",
    "t.d = 'hello'\n",
    "print(t.d)\n",
    "print(t.__dict__)\n",
    "\n",
    "print('*' * 90)\n",
    "T.d = 'hello'\n",
    "print(t.d)\n",
    "print(t.__dict__)\n",
    "print(T.d)\n",
    "print(T.__dict__)\n",
    "\n"
   ]
  }
 ],
 "metadata": {
  "kernelspec": {
   "display_name": "Python 2",
   "language": "python",
   "name": "python2"
  },
  "language_info": {
   "codemirror_mode": {
    "name": "ipython",
    "version": 2
   },
   "file_extension": ".py",
   "mimetype": "text/x-python",
   "name": "python",
   "nbconvert_exporter": "python",
   "pygments_lexer": "ipython2",
   "version": "2.7.13"
  }
 },
 "nbformat": 4,
 "nbformat_minor": 1
}
